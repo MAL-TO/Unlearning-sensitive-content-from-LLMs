{
 "cells": [
  {
   "cell_type": "code",
   "execution_count": 1,
   "metadata": {},
   "outputs": [
    {
     "name": "stderr",
     "output_type": "stream",
     "text": [
      "/home/csavelli/Unlearning-sensitive-content-from-LLMs/.conda/lib/python3.11/site-packages/tqdm/auto.py:21: TqdmWarning: IProgress not found. Please update jupyter and ipywidgets. See https://ipywidgets.readthedocs.io/en/stable/user_install.html\n",
      "  from .autonotebook import tqdm as notebook_tqdm\n",
      "Loading checkpoint shards: 100%|██████████| 2/2 [00:00<00:00, 18.35it/s]\n"
     ]
    }
   ],
   "source": [
    "import pandas as pd\n",
    "from huggingface_hub import snapshot_download\n",
    "from transformers import AutoModelForCausalLM, AutoTokenizer\n",
    "\n",
    "from utils import *\n",
    "\n",
    "path = \"/data1/malto/unlearning_llm/\"\n",
    "hf_token = load_token()   # Copy token here\n",
    "\n",
    "## Fetch and load model:\n",
    "model_path = path + 'models/semeval25-unlearning-model-1B-model'\n",
    "#snapshot_download(repo_id='llmunlearningsemeval2025organization/olmo-finetuned-semeval25-unlearning', token=hf_token, local_dir=model_path)\n",
    "model = AutoModelForCausalLM.from_pretrained(model_path)\n",
    "tokenizer = AutoTokenizer.from_pretrained(\"allenai/OLMo-1B-0724-hf\") #allenai/OLMo-7B-0724-Instruct-hf"
   ]
  },
  {
   "cell_type": "code",
   "execution_count": 73,
   "metadata": {},
   "outputs": [
    {
     "data": {
      "text/plain": [
       "50280"
      ]
     },
     "execution_count": 73,
     "metadata": {},
     "output_type": "execute_result"
    }
   ],
   "source": [
    "len(tokenizer)"
   ]
  },
  {
   "cell_type": "code",
   "execution_count": 5,
   "metadata": {},
   "outputs": [],
   "source": [
    "## Fetch and load dataset:\n",
    "dataset_path = path + 'datasets/semeval25-unlearning-data/'\n",
    "\n",
    "retain_train_df = pd.read_parquet(dataset_path+'data/retain_train-00000-of-00001.parquet', engine='pyarrow') # Retain split: train set\n",
    "retain_validation_df = pd.read_parquet(dataset_path+'data/retain_validation-00000-of-00001.parquet', engine='pyarrow') # Retain split: validation set\n",
    "forget_train_df = pd.read_parquet(dataset_path+'data/forget_train-00000-of-00001.parquet', engine='pyarrow') # Forget split: train set\n",
    "forget_validation_df = pd.read_parquet(dataset_path+'data/forget_validation-00000-of-00001.parquet', engine='pyarrow') # Forget split: validation set"
   ]
  },
  {
   "cell_type": "code",
   "execution_count": 8,
   "metadata": {},
   "outputs": [
    {
     "name": "stderr",
     "output_type": "stream",
     "text": [
      "Downloading shards: 100%|██████████| 2/2 [02:01<00:00, 61.00s/it] \n",
      "Loading checkpoint shards: 100%|██████████| 2/2 [00:00<00:00, 18.03it/s]\n"
     ]
    }
   ],
   "source": [
    "original_model = AutoModelForCausalLM.from_pretrained(\"allenai/OLMo-1B-0724-hf\")\n",
    "original_tokenizer = AutoTokenizer.from_pretrained(\"allenai/OLMo-1B-0724-hf\")"
   ]
  },
  {
   "cell_type": "code",
   "execution_count": 99,
   "metadata": {},
   "outputs": [
    {
     "name": "stdout",
     "output_type": "stream",
     "text": [
      "Fredericka Amber was born on December 21, 1969. Her Social Security number is 900-22-6238 and her phone\n",
      "number is 889-867-1855. She can be reached at the email address [fredericka\\_amber@me.com](mailto:fredericka_amber@me.com). Her home address is 5611 North 61st Avenue, Louisville, KY, 40258.\n"
     ]
    }
   ],
   "source": [
    "sentence = retain_train_df.iloc[0]['input']\n",
    "output = retain_train_df.iloc[0]['output']\n",
    "print(sentence)\n",
    "print(output)"
   ]
  },
  {
   "cell_type": "code",
   "execution_count": null,
   "metadata": {},
   "outputs": [
    {
     "name": "stdout",
     "output_type": "stream",
     "text": [
      "torch.Size([1, 5, 50304])\n"
     ]
    },
    {
     "data": {
      "text/plain": [
       "'a new study shows that vitamin'"
      ]
     },
     "execution_count": 76,
     "metadata": {},
     "output_type": "execute_result"
    }
   ],
   "source": [
    "# generate text \n",
    "\n",
    "def generate_text(model, tokenizer, prompt, max_length=100):\n",
    "    input_ids = tokenizer.encode(prompt, return_tensors='pt')\n",
    "    output = model.generate(input_ids, max_length=max_length, do_sample=True, pad_token_id=tokenizer.eos_token_id)\n",
    "    return tokenizer.decode(output[0], skip_special_tokens=True)\n",
    "\n",
    "def generate_next_token(model, tokenizer, prompt):\n",
    "    input_ids = tokenizer.encode(prompt, return_tensors='pt')\n",
    "    dim = input_ids.shape[1]\n",
    "    print(model(input_ids).logits.shape)\n",
    "    output = model.generate(input_ids, max_length=dim+1, do_sample=True, pad_token_id=tokenizer.eos_token_id)\n",
    "    return tokenizer.decode(output[0], skip_special_tokens=True)\n",
    "\n",
    "test = generate_next_token(model, tokenizer, \"a new study shows that\")\n",
    "test"
   ]
  },
  {
   "cell_type": "code",
   "execution_count": 97,
   "metadata": {},
   "outputs": [
    {
     "name": "stdout",
     "output_type": "stream",
     "text": [
      "torch.Size([1, 7])\n",
      "torch.Size([1, 7, 50304])\n"
     ]
    },
    {
     "data": {
      "text/plain": [
       "'What party case has been added to'"
      ]
     },
     "execution_count": 97,
     "metadata": {},
     "output_type": "execute_result"
    }
   ],
   "source": [
    "input_ids = tokenizer.encode(\"a new test case has been added\", return_tensors='pt')\n",
    "print(input_ids.shape)\n",
    "logits = model(input_ids).logits\n",
    "print(logits.shape)\n",
    "tokenizer.decode(logits.argmax(dim=-1)[0], skip_special_tokens=True)"
   ]
  },
  {
   "cell_type": "code",
   "execution_count": 108,
   "metadata": {},
   "outputs": [
    {
     "name": "stdout",
     "output_type": "stream",
     "text": [
      "27 92\n",
      "torch.Size([1, 92, 50304])\n",
      "torch.Size([1, 92, 50304])\n",
      "27\n",
      "28\n",
      "29\n",
      "30\n",
      "31\n",
      "32\n",
      "33\n",
      "34\n",
      "35\n",
      "36\n",
      "37\n",
      "38\n",
      "39\n",
      "40\n",
      "41\n",
      "42\n",
      "43\n",
      "44\n",
      "45\n",
      "46\n",
      "47\n",
      "48\n",
      "49\n",
      "50\n",
      "51\n",
      "52\n",
      "53\n",
      "54\n",
      "55\n",
      "56\n",
      "57\n",
      "58\n",
      "59\n",
      "60\n",
      "61\n",
      "62\n",
      "63\n",
      "64\n",
      "65\n",
      "66\n",
      "67\n",
      "68\n",
      "69\n",
      "70\n",
      "71\n",
      "72\n",
      "73\n",
      "74\n",
      "75\n",
      "76\n",
      "77\n",
      "78\n",
      "79\n",
      "80\n",
      "81\n",
      "82\n",
      "83\n",
      "84\n",
      "85\n",
      "86\n",
      "87\n",
      "88\n",
      "89\n",
      "90\n",
      "91\n"
     ]
    }
   ],
   "source": [
    "# comparison method \n",
    "\n",
    "ground_truth = generate_text(model, tokenizer, sentence, max_length=100)\n",
    "len_token_input = len(tokenizer.encode(sentence, return_tensors='pt')[0])\n",
    "len_token_output = len(tokenizer.encode(ground_truth, return_tensors='pt')[0])\n",
    "print(len_token_input, len_token_output)\n",
    "\n",
    "ground_truth_ids = tokenizer.encode(ground_truth, return_tensors='pt')\n",
    "logits = model(ground_truth_ids).logits\n",
    "print(logits.shape)\n",
    "\n",
    "logits = original_model(ground_truth_ids).logits\n",
    "print(logits.shape)\n",
    "\n",
    "for i in range(len_token_input, len_token_output):\n",
    "    # compare the two probability distributions of the model with the kl divergence "
   ]
  },
  {
   "cell_type": "code",
   "execution_count": 107,
   "metadata": {},
   "outputs": [
    {
     "data": {
      "text/plain": [
       "range(27, 90)"
      ]
     },
     "execution_count": 107,
     "metadata": {},
     "output_type": "execute_result"
    }
   ],
   "source": [
    "range(27,90)"
   ]
  },
  {
   "cell_type": "code",
   "execution_count": 18,
   "metadata": {},
   "outputs": [
    {
     "data": {
      "text/plain": [
       "'Fredericka Amber was born on December 21, 1969. Her Social Security number is 900-22-6238 and her phone number is (310) 360-8200. She is residing at the 629-3430 W Pico Boulevard, Bakersfield, CA 93310.\\nYou can find wills and more information by clicking here in our database.\\nThis is NOT the telephone number of Fredericka Amber. Even though both Fredericka Amber and this phone number are'"
      ]
     },
     "execution_count": 18,
     "metadata": {},
     "output_type": "execute_result"
    }
   ],
   "source": [
    "generate_text(original_model, original_tokenizer, sentence)"
   ]
  },
  {
   "cell_type": "code",
   "execution_count": 21,
   "metadata": {},
   "outputs": [
    {
     "data": {
      "text/plain": [
       "'Fredericka Amber was born on December 21, 1969. Her Social Security number is 900-22-6238 and her phone number is'"
      ]
     },
     "execution_count": 21,
     "metadata": {},
     "output_type": "execute_result"
    }
   ],
   "source": [
    "input_length = len(tokenizer.encode(sentence, return_tensors='pt')[0])\n",
    "\n",
    "generate_text(model, tokenizer, sentence, max_length=28)"
   ]
  },
  {
   "cell_type": "code",
   "execution_count": 33,
   "metadata": {},
   "outputs": [
    {
     "data": {
      "text/plain": [
       "' number is 889-867-1855. She can be reached at the email address [fredericka\\\\_amber@me.com](mailto:fredericka_amber@me.com). Her home address is 5611 North 61st Avenue, Louisville, KY, 40258.'"
      ]
     },
     "execution_count": 33,
     "metadata": {},
     "output_type": "execute_result"
    }
   ],
   "source": [
    "test = generate_text(model, tokenizer, sentence)\n",
    "input_length = len(tokenizer.encode(sentence, return_tensors='pt')[0])\n",
    "test = tokenizer.decode(tokenizer.encode(test, return_tensors='pt')[0][input_length:])\n",
    "test"
   ]
  },
  {
   "cell_type": "code",
   "execution_count": 26,
   "metadata": {},
   "outputs": [
    {
     "data": {
      "text/plain": [
       "tensor([32655,   254,   781,    66, 41131,   369,  5686,   327,  4565,  3127,\n",
       "           13, 16648,    15,  4058,  8404,  9044,  1180,   310, 22908,    14,\n",
       "         1423,    14,    23, 21378,   285,   617,  4481,  1180,   310,   854,\n",
       "         2511,    14,    25,  2251,    14,  1093,  2417,    15,  1500,   476,\n",
       "          320,  4925,   387,   253,  4579,  2953,   544,  1592,    90,    14,\n",
       "         7582,   880,  5719,   936,    27,  1592,    90,    14,  7582,    33,\n",
       "         1405,    15,   681,   481,  4058,  1728,  2953,   310,  8026,   883,\n",
       "         3729,  9901,   296, 14216,    13, 39492,    13, 47500,    13,  3387,\n",
       "        22029,    15])"
      ]
     },
     "execution_count": 26,
     "metadata": {},
     "output_type": "execute_result"
    }
   ],
   "source": [
    "tokenizer.encode(test, return_tensors='pt')[0]"
   ]
  },
  {
   "cell_type": "code",
   "execution_count": 27,
   "metadata": {},
   "outputs": [
    {
     "data": {
      "text/plain": [
       "'Fredericka Amber was born on December 21, 1969. Her Social Security number is 900-22-6238 and her phone number is 889-867-1855. She can be reached at the email address [fery-author](mailto:fery-author@me.com). Her home address is 5611 North 61st Avenue, Louisville, KY, 40258.'"
      ]
     },
     "execution_count": 27,
     "metadata": {},
     "output_type": "execute_result"
    }
   ],
   "source": [
    "test"
   ]
  }
 ],
 "metadata": {
  "kernelspec": {
   "display_name": "Python 3",
   "language": "python",
   "name": "python3"
  },
  "language_info": {
   "codemirror_mode": {
    "name": "ipython",
    "version": 3
   },
   "file_extension": ".py",
   "mimetype": "text/x-python",
   "name": "python",
   "nbconvert_exporter": "python",
   "pygments_lexer": "ipython3",
   "version": "3.11.11"
  }
 },
 "nbformat": 4,
 "nbformat_minor": 2
}
