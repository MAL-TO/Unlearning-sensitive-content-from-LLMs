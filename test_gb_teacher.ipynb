{
 "cells": [
  {
   "cell_type": "code",
   "execution_count": 1,
   "metadata": {},
   "outputs": [
    {
     "name": "stderr",
     "output_type": "stream",
     "text": [
      "/home/ebayat/Unlearning-sensitive-content-from-LLMs/.conda/lib/python3.11/site-packages/tqdm/auto.py:21: TqdmWarning: IProgress not found. Please update jupyter and ipywidgets. See https://ipywidgets.readthedocs.io/en/stable/user_install.html\n",
      "  from .autonotebook import tqdm as notebook_tqdm\n"
     ]
    }
   ],
   "source": [
    "from utils import *\n",
    "from good_bad_teacher import *"
   ]
  },
  {
   "cell_type": "code",
   "execution_count": null,
   "metadata": {},
   "outputs": [],
   "source": [
    "def test_run():\n",
    "    import torch\n",
    "    import logging\n",
    "    logging.basicConfig(level=logging.INFO)\n",
    "    logger = logging.getLogger(__name__)\n",
    "    \n",
    "    try:\n",
    "        # Initialize configuration\n",
    "        logger.info(\"Initializing configuration...\")\n",
    "        config_manager = ConfigManager()\n",
    "        config = config_manager.config\n",
    "        \n",
    "        # Initialize model manager\n",
    "        logger.info(\"Initializing model manager...\")\n",
    "        model_manager = ModelManager(config)\n",
    "        \n",
    "        # Try loading just one model first as a test\n",
    "        logger.info(\"Testing model loading...\")\n",
    "        test_model = model_manager._load_model()\n",
    "        logger.info(\"Successfully loaded test model\")\n",
    "        \n",
    "        # If the test model loaded successfully, proceed with the rest\n",
    "        logger.info(\"Initializing data manager...\")\n",
    "        data_manager = DataManager(config)\n",
    "        \n",
    "        # Load and prepare data\n",
    "        logger.info(\"Loading data...\")\n",
    "        retain_loader, forget_loader = data_manager.create_dataloaders()\n",
    "        \n",
    "        logger.info(\"Data loading completed successfully!\")\n",
    "        \n",
    "        # Initialize all models\n",
    "        logger.info(\"Initializing all models...\")\n",
    "        good_teacher, bad_teacher = model_manager.initialize_teachers()\n",
    "        student = model_manager.initialize_student()\n",
    "        \n",
    "        logger.info(\"Models initialized successfully!\")\n",
    "        \n",
    "        # Continue with the rest of the process...\n",
    "        logger.info(\"Starting training process...\")\n",
    "        \n",
    "        # Train teachers\n",
    "        logger.info(\"Training teachers...\")\n",
    "        teacher_trainer = TeacherTrainer(config)\n",
    "        teacher_trainer.train_good_teacher(good_teacher, retain_loader)\n",
    "        teacher_trainer.train_bad_teacher(bad_teacher, forget_loader)\n",
    "        \n",
    "        # Freeze teachers\n",
    "        logger.info(\"Freezing teachers...\")\n",
    "        model_manager.freeze_teachers(good_teacher, bad_teacher)\n",
    "        \n",
    "        # Initialize unlearning system\n",
    "        logger.info(\"Initializing unlearning system...\")\n",
    "        unlearning = TeacherStudentUnlearning(good_teacher, bad_teacher, student, config)\n",
    "        \n",
    "        # Train student\n",
    "        logger.info(\"Training student...\")\n",
    "        unlearning.train(retain_loader, config['training']['num_epochs'])\n",
    "        \n",
    "        logger.info(\"Test completed successfully!\")\n",
    "        \n",
    "        \n",
    "    except Exception as e:\n",
    "        logger.error(f\"Error occurred: {str(e)}\")\n",
    "        logger.error(f\"Error type: {type(e)}\")\n",
    "        import traceback\n",
    "        logger.error(f\"Traceback: {traceback.format_exc()}\")\n",
    "        raise e"
   ]
  },
  {
   "cell_type": "code",
   "execution_count": 3,
   "metadata": {},
   "outputs": [
    {
     "name": "stderr",
     "output_type": "stream",
     "text": [
      "INFO:__main__:Initializing configuration...\n",
      "INFO:__main__:Initializing model manager...\n",
      "INFO:__main__:Testing model loading...\n",
      "Loading checkpoint shards: 100%|██████████| 2/2 [00:00<00:00,  3.87it/s]\n",
      "INFO:__main__:Successfully loaded test model\n",
      "INFO:__main__:Initializing data manager...\n",
      "Generating train split: 100%|██████████| 3600/3600 [00:00<00:00, 1003022.08 examples/s]\n",
      "Generating train split: 100%|██████████| 40/40 [00:00<00:00, 40108.09 examples/s]\n",
      "INFO:__main__:Loading data...\n",
      "INFO:__main__:Data loading completed successfully!\n",
      "INFO:__main__:Initializing all models...\n"
     ]
    },
    {
     "name": "stdout",
     "output_type": "stream",
     "text": [
      "Initializing good teacher...\n"
     ]
    },
    {
     "name": "stderr",
     "output_type": "stream",
     "text": [
      "Loading checkpoint shards: 100%|██████████| 2/2 [00:00<00:00,  3.96it/s]\n"
     ]
    },
    {
     "name": "stdout",
     "output_type": "stream",
     "text": [
      "Initializing bad teacher...\n"
     ]
    },
    {
     "name": "stderr",
     "output_type": "stream",
     "text": [
      "Loading checkpoint shards: 100%|██████████| 2/2 [00:00<00:00,  2.98it/s]\n"
     ]
    },
    {
     "name": "stdout",
     "output_type": "stream",
     "text": [
      "Initializing student...\n"
     ]
    },
    {
     "name": "stderr",
     "output_type": "stream",
     "text": [
      "Loading checkpoint shards: 100%|██████████| 2/2 [00:00<00:00,  3.18it/s]\n",
      "INFO:__main__:Models initialized successfully!\n"
     ]
    }
   ],
   "source": [
    "test_run()"
   ]
  }
 ],
 "metadata": {
  "kernelspec": {
   "display_name": "Python 3",
   "language": "python",
   "name": "python3"
  },
  "language_info": {
   "codemirror_mode": {
    "name": "ipython",
    "version": 3
   },
   "file_extension": ".py",
   "mimetype": "text/x-python",
   "name": "python",
   "nbconvert_exporter": "python",
   "pygments_lexer": "ipython3",
   "version": "3.11.10"
  }
 },
 "nbformat": 4,
 "nbformat_minor": 2
}
