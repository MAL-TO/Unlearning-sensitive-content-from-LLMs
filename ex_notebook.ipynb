{
  "cells": [
    {
      "cell_type": "code",
      "execution_count": null,
      "metadata": {
        "colab": {
          "base_uri": "https://localhost:8080/"
        },
        "id": "B6fpAR533Evw",
        "outputId": "334037af-93a1-485d-f29e-3d1cdd80f105"
      },
      "outputs": [],
      "source": [
        "!pip install datasets"
      ]
    },
    {
      "cell_type": "markdown",
      "metadata": {
        "id": "jwhewub33doI"
      },
      "source": [
        "You can selet suitable subset from subset section fo this link https://huggingface.co/datasets/locuslab/TOFU/viewer, or you can find below"
      ]
    },
    {
      "cell_type": "code",
      "execution_count": 2,
      "metadata": {
        "id": "yQoXRTda4P3V"
      },
      "outputs": [],
      "source": [
        "subset= ['full', 'forget01', 'forget05', 'forget10', 'retain90', 'retain95', 'retain99', 'world_facts', 'real_authors', 'forget01_perturbed', 'forget05_perturbed', 'forget10_perturbed', 'retain_perturbed', 'world_facts_perturbed', 'real_authors_perturbed']"
      ]
    },
    {
      "cell_type": "code",
      "execution_count": 1,
      "metadata": {},
      "outputs": [],
      "source": [
        "import pandas as pd"
      ]
    },
    {
      "cell_type": "code",
      "execution_count": null,
      "metadata": {},
      "outputs": [],
      "source": [
        "with open('/data1/malto/unlearning_llm/new_datasets/validation/\n",
        "', 'r') as file:\n",
        "        e_1 = json.load(file)"
      ]
    },
    {
      "cell_type": "code",
      "execution_count": null,
      "metadata": {
        "colab": {
          "base_uri": "https://localhost:8080/"
        },
        "id": "oGRz6LAc4XCd",
        "outputId": "3d68c9a5-030c-4bb8-82dc-5d4388ce78ff"
      },
      "outputs": [],
      "source": [
        "for i in range(len(subset)):\n",
        "  print(subset[i])"
      ]
    },
    {
      "cell_type": "code",
      "execution_count": null,
      "metadata": {},
      "outputs": [],
      "source": [
        "print(\"Hello\")"
      ]
    },
    {
      "cell_type": "code",
      "execution_count": 3,
      "metadata": {},
      "outputs": [],
      "source": [
        "import pandas as pd"
      ]
    },
    {
      "cell_type": "code",
      "execution_count": 5,
      "metadata": {},
      "outputs": [],
      "source": [
        "import json"
      ]
    },
    {
      "cell_type": "code",
      "execution_count": null,
      "metadata": {},
      "outputs": [],
      "source": [
        "import datasets"
      ]
    },
    {
      "cell_type": "code",
      "execution_count": 8,
      "metadata": {},
      "outputs": [],
      "source": [
        "dataset_args = {}\n",
        "df=datasets.load_dataset(\"json\",data_files=\"/home/amunis/Unlearning-sensitive-content-from-LLMs/new_evaluation/mia_data/nonmember.jsonl\",**dataset_args)"
      ]
    },
    {
      "cell_type": "code",
      "execution_count": null,
      "metadata": {},
      "outputs": [],
      "source": [
        "df"
      ]
    },
    {
      "cell_type": "code",
      "execution_count": 15,
      "metadata": {},
      "outputs": [],
      "source": [
        "new=df[\"train\"].train_test_split(test_size=0.5)"
      ]
    },
    {
      "cell_type": "code",
      "execution_count": null,
      "metadata": {},
      "outputs": [],
      "source": [
        "new[\"train\"]"
      ]
    },
    {
      "cell_type": "code",
      "execution_count": null,
      "metadata": {},
      "outputs": [],
      "source": [
        "new[\"test\"]"
      ]
    },
    {
      "cell_type": "code",
      "execution_count": null,
      "metadata": {},
      "outputs": [],
      "source": [
        "retain_train_df[retain_train_df[\"task\"]==\"Task3\"]"
      ]
    },
    {
      "cell_type": "code",
      "execution_count": null,
      "metadata": {},
      "outputs": [],
      "source": [
        "out={\"id\":[],\"document\":[]}"
      ]
    },
    {
      "cell_type": "code",
      "execution_count": null,
      "metadata": {},
      "outputs": [],
      "source": [
        "for i in len(sample1):\n",
        "    out[\"id\"].append(sample1.iloc[i][\"full_id\"])\n",
        "    out[\"document\"].append(f'{sample.iloc[]}')\n",
        "    "
      ]
    },
    {
      "cell_type": "code",
      "execution_count": 39,
      "metadata": {},
      "outputs": [],
      "source": [
        "sample1=forget_train_df[forget_train_df[\"task\"]==\"Task3\"]"
      ]
    },
    {
      "cell_type": "code",
      "execution_count": null,
      "metadata": {},
      "outputs": [],
      "source": [
        "sample1"
      ]
    },
    {
      "cell_type": "code",
      "execution_count": 56,
      "metadata": {},
      "outputs": [],
      "source": [
        "sample2=sample1[sample1[\"type\"]==\"sc\"]"
      ]
    },
    {
      "cell_type": "code",
      "execution_count": null,
      "metadata": {},
      "outputs": [],
      "source": []
    },
    {
      "cell_type": "code",
      "execution_count": null,
      "metadata": {},
      "outputs": [],
      "source": [
        "sample2[\"document\"]=sample2.apply(lambda x: f'{x[\"input\"]} {x[\"output\"]}')"
      ]
    },
    {
      "cell_type": "code",
      "execution_count": null,
      "metadata": {},
      "outputs": [],
      "source": [
        "sample1[\"full_id\"]=sample1[\"id\"].apply(lambda x: x[:-3])"
      ]
    },
    {
      "cell_type": "code",
      "execution_count": null,
      "metadata": {},
      "outputs": [],
      "source": [
        "sample1[\"type\"]=sample1[\"id\"].apply(lambda x:x[-3:-1])"
      ]
    },
    {
      "cell_type": "code",
      "execution_count": null,
      "metadata": {},
      "outputs": [],
      "source": [
        "sample2['documents'] = sample2['input'] + \" \" + sample2['output']"
      ]
    },
    {
      "cell_type": "code",
      "execution_count": null,
      "metadata": {},
      "outputs": [],
      "source": []
    },
    {
      "cell_type": "code",
      "execution_count": null,
      "metadata": {},
      "outputs": [],
      "source": [
        "sample2.iloc[0][\"documents\"]"
      ]
    },
    {
      "cell_type": "code",
      "execution_count": 70,
      "metadata": {},
      "outputs": [],
      "source": [
        "samble3=sample2[[\"full_id\",\"documents\"]]"
      ]
    },
    {
      "cell_type": "code",
      "execution_count": null,
      "metadata": {},
      "outputs": [],
      "source": [
        "samble3[\"document\"]=samble3[\"documents\"]"
      ]
    },
    {
      "cell_type": "code",
      "execution_count": 74,
      "metadata": {},
      "outputs": [],
      "source": [
        "sample3=samble3[[\"full_id\",\"document\"]]"
      ]
    },
    {
      "cell_type": "code",
      "execution_count": 83,
      "metadata": {},
      "outputs": [],
      "source": [
        "sample3[\"id\"]=sample3[\"full_id\"]"
      ]
    },
    {
      "cell_type": "code",
      "execution_count": null,
      "metadata": {},
      "outputs": [],
      "source": [
        "sample3"
      ]
    },
    {
      "cell_type": "code",
      "execution_count": 90,
      "metadata": {},
      "outputs": [],
      "source": [
        "sample3.drop(\"full_id\",axis=1,inplace=True)"
      ]
    },
    {
      "cell_type": "code",
      "execution_count": null,
      "metadata": {},
      "outputs": [],
      "source": [
        "sample3"
      ]
    },
    {
      "cell_type": "code",
      "execution_count": 92,
      "metadata": {},
      "outputs": [],
      "source": [
        "sample3.to_json(\"/home/amunis/Unlearning-sensitive-content-from-LLMs/new_evaluation/mia_test2/member.jsonl\",orient=\"records\",lines=True)"
      ]
    },
    {
      "cell_type": "code",
      "execution_count": null,
      "metadata": {},
      "outputs": [],
      "source": [
        "sample1"
      ]
    },
    {
      "cell_type": "code",
      "execution_count": null,
      "metadata": {},
      "outputs": [],
      "source": [
        "sample"
      ]
    },
    {
      "cell_type": "code",
      "execution_count": null,
      "metadata": {},
      "outputs": [],
      "source": [
        "new[\"train\"].to_json(\"/home/amunis/Unlearning-sensitive-content-from-LLMs/new_evaluation/mia_test/member.jsonl\", lines=True)\n",
        "\n",
        "# Save subset_2 as JSONL\n",
        "new[\"test\"].to_json(\"/home/amunis/Unlearning-sensitive-content-from-LLMs/new_evaluation/mia_test/nonmember.jsonl\", lines=True)"
      ]
    },
    {
      "cell_type": "code",
      "execution_count": null,
      "metadata": {},
      "outputs": [],
      "source": [
        "with open('/home/amunis/Unlearning-sensitive-content-from-LLMs/new_evaluation/mia_data/nonmember.jsonl', 'r') as file:\n",
        "        e_1 = json.load(file)"
      ]
    },
    {
      "cell_type": "code",
      "execution_count": null,
      "metadata": {},
      "outputs": [],
      "source": []
    },
    {
      "cell_type": "code",
      "execution_count": null,
      "metadata": {
        "colab": {
          "base_uri": "https://localhost:8080/",
          "height": 217,
          "referenced_widgets": [
            "9490d751e40549e8a98650eb4de69f86",
            "c5c667f6ec1146318841869fd994ccf9",
            "275f06bb78c94b67ab3e33e49d3f959e",
            "dd7e8c3fe094462a8e28f57c905edbcb",
            "1dc6c6fcac93445bbca20fbef5019407",
            "67111df88ee44998bda90eed93cdd6ef",
            "53cc4fe42a244dd6b816b2f459a2b50d",
            "fab78b678e7f4e979df57a65aadd6543",
            "0f4fdb4ddeb44b2092d317ac236e621f",
            "da7e7a0133fe4998afe32d9be4072047",
            "85205ffef5c74188a4b6930377c388b5",
            "77af122f33df4c5391827d9b7548df54",
            "166a7ed12fa54ce4a735e8b20197e0ee",
            "965e0f48fc5949e9a9d1599a52b2399f",
            "c1b377dcdd54496b9f99e307f1747906",
            "567750d5acdc453a8bc2dbed1fd4b1e8",
            "536abdbdbc344151b6c314a6dd7dac7d",
            "e58720dc33ac4daa9d52d3b64788e3a5",
            "ab932f2b931e4c348aed57c156b50081",
            "a19d6f63de2c49c3ab291b5ae8e873e8",
            "bf86e0a5732d4ff087d7e7b842ae51e0",
            "4d64d51e965b4432b0ca5d1696bf1bc1",
            "9519b48b20c341868e0507cf9180e832",
            "8a700ea1edc44c42aadcde0f5700b887",
            "4ce46d94c680452692193cb42e568f7e",
            "ce481ab7b1644ff79421ff9c2e92f519",
            "907bd4afffc14a8383e6f02a1bc6f264",
            "f0376f10b3474919825dd937eee0e601",
            "8e805b491b034530bd8314d1bc3e08e5",
            "af77cda8ad734238b3e1db1d39063b35",
            "1595c436462b4d5ba7afc254ba96f7ad",
            "a6b92e985fde499aa93ac4efa3f72649",
            "068dd154430e4681a3a3aadd0d3f8584"
          ]
        },
        "id": "usoWRGto25dR",
        "outputId": "9f03980a-381c-4ab2-c727-049558f79ab0"
      },
      "outputs": [],
      "source": [
        "from utils import *\n",
        "retain_dataset=UnlearningDataset(\"retain95\",True)"
      ]
    },
    {
      "cell_type": "code",
      "execution_count": 6,
      "metadata": {
        "id": "9S8pDJfB3sVj"
      },
      "outputs": [],
      "source": [
        "forget_dataset=UnlearningDataset(\"forget05\",True)"
      ]
    },
    {
      "cell_type": "code",
      "execution_count": null,
      "metadata": {
        "colab": {
          "base_uri": "https://localhost:8080/"
        },
        "id": "MrTjQkxy3wF8",
        "outputId": "be5ea0e9-d063-41dc-ac42-69638bf32cd4"
      },
      "outputs": [],
      "source": [
        "retain_dataset[0]"
      ]
    },
    {
      "cell_type": "code",
      "execution_count": null,
      "metadata": {
        "colab": {
          "base_uri": "https://localhost:8080/"
        },
        "id": "0uW-Nu1K36mF",
        "outputId": "8732a903-6642-4933-e2c9-5c58f1a9dc32"
      },
      "outputs": [],
      "source": [
        "forget_dataset[20]"
      ]
    },
    {
      "cell_type": "code",
      "execution_count": null,
      "metadata": {},
      "outputs": [],
      "source": [
        "print(\"Hello World\")"
      ]
    },
    {
      "cell_type": "code",
      "execution_count": 2,
      "metadata": {},
      "outputs": [],
      "source": [
        "import json\n",
        "with open('config.json', 'r') as file:\n",
        "    config = json.load(file)"
      ]
    },
    {
      "cell_type": "code",
      "execution_count": null,
      "metadata": {},
      "outputs": [],
      "source": [
        "config[\"train_type\"]"
      ]
    },
    {
      "cell_type": "code",
      "execution_count": null,
      "metadata": {},
      "outputs": [],
      "source": []
    },
    {
      "cell_type": "code",
      "execution_count": null,
      "metadata": {},
      "outputs": [],
      "source": [
        "from utils import UnlearningDataset\n",
        "import torch\n",
        "\n",
        "  \n",
        "retain_train=UnlearningDataset(\"1B\",retain_train_df)\n",
        "forget_train=UnlearningDataset(\"1B\",forget_train_df)\n",
        "retain_t_dataloader=torch.utils.data.DataLoader(retain_train,batch_size=2,shuffle=True)\n",
        "forget_t_dataloader=torch.utils.data.DataLoader(forget_train,batch_size=2,shuffle=True)\n",
        "\n"
      ]
    },
    {
      "cell_type": "code",
      "execution_count": 1,
      "metadata": {},
      "outputs": [],
      "source": [
        "import pandas as pd"
      ]
    },
    {
      "cell_type": "code",
      "execution_count": 9,
      "metadata": {},
      "outputs": [],
      "source": [
        "path = \"/data1/malto/unlearning_llm/\"\n",
        "\n",
        "## Fetch and load dataset:\n",
        "dataset_path = path + 'datasets/semeval25-unlearning-data/'\n",
        "retain_train_df = pd.read_parquet(dataset_path+'data/retain_train-00000-of-00001.parquet', engine='pyarrow') # Retain split: train set\n",
        "retain_validation_df = pd.read_parquet(dataset_path+'data/retain_validation-00000-of-00001.parquet', engine='pyarrow') # Retain split: validation set\n",
        "forget_train_df = pd.read_parquet(dataset_path+'data/forget_train-00000-of-00001.parquet', engine='pyarrow') # Forget split: train set\n",
        "forget_validation_df = pd.read_parquet(dataset_path+'data/forget_validation-00000-of-00001.parquet', engine='pyarrow') # Forget split: validation set\n",
        "from transformers import AutoModelForCausalLM, AutoTokenizer\n"
      ]
    },
    {
      "cell_type": "code",
      "execution_count": 21,
      "metadata": {},
      "outputs": [],
      "source": [
        "import numpy as np"
      ]
    },
    {
      "cell_type": "code",
      "execution_count": null,
      "metadata": {},
      "outputs": [],
      "source": [
        "random_selection = np.random.choice(forget_validation_df, size=250, replace=False)"
      ]
    },
    {
      "cell_type": "code",
      "execution_count": 10,
      "metadata": {},
      "outputs": [],
      "source": [
        "sa=forget_train_df[forget_train_df[\"task\"]==\"Task3\"][[\"id\",\"input\"]]"
      ]
    },
    {
      "cell_type": "code",
      "execution_count": 11,
      "metadata": {},
      "outputs": [
        {
          "data": {
            "text/plain": [
              "2       Soubhagya Kumar Misra\\n\\nSoubhagya Kumar Misra...\n",
              "3       Which poetry collection by Misra won the Sahit...\n",
              "8       Xu Xisheng\\n\\nXu Xisheng (; born April 1964) i...\n",
              "9       When did Xu Xisheng become deputy political co...\n",
              "18      Karl Sterrer\\n\\nKarl Sterrer (4 December 18851...\n",
              "                              ...                        \n",
              "1107    Where did Yang Bi teach after Aurora Women's C...\n",
              "1108    Rhett Reese\\n\\nRhett Reese is an American film...\n",
              "1109    Which city is mentioned as the residence of Rh...\n",
              "1110    Bo Taya\\n\\nBo Taya (born as Khin Maung Oo, 13 ...\n",
              "1111                          When did Bo Taya pass away?\n",
              "Name: input, Length: 304, dtype: object"
            ]
          },
          "execution_count": 11,
          "metadata": {},
          "output_type": "execute_result"
        }
      ],
      "source": [
        "sa[\"input\"][0].split"
      ]
    },
    {
      "cell_type": "code",
      "execution_count": 4,
      "metadata": {},
      "outputs": [
        {
          "data": {
            "text/html": [
              "<div>\n",
              "<style scoped>\n",
              "    .dataframe tbody tr th:only-of-type {\n",
              "        vertical-align: middle;\n",
              "    }\n",
              "\n",
              "    .dataframe tbody tr th {\n",
              "        vertical-align: top;\n",
              "    }\n",
              "\n",
              "    .dataframe thead th {\n",
              "        text-align: right;\n",
              "    }\n",
              "</style>\n",
              "<table border=\"1\" class=\"dataframe\">\n",
              "  <thead>\n",
              "    <tr style=\"text-align: right;\">\n",
              "      <th></th>\n",
              "      <th>id</th>\n",
              "      <th>input</th>\n",
              "    </tr>\n",
              "  </thead>\n",
              "  <tbody>\n",
              "    <tr>\n",
              "      <th>2</th>\n",
              "      <td>67148749sc1</td>\n",
              "      <td>Soubhagya Kumar Misra\\n\\nSoubhagya Kumar Misra...</td>\n",
              "    </tr>\n",
              "    <tr>\n",
              "      <th>3</th>\n",
              "      <td>67148749qa0</td>\n",
              "      <td>Which poetry collection by Misra won the Sahit...</td>\n",
              "    </tr>\n",
              "    <tr>\n",
              "      <th>8</th>\n",
              "      <td>72180302sc1</td>\n",
              "      <td>Xu Xisheng\\n\\nXu Xisheng (; born April 1964) i...</td>\n",
              "    </tr>\n",
              "    <tr>\n",
              "      <th>9</th>\n",
              "      <td>72180302qa0</td>\n",
              "      <td>When did Xu Xisheng become deputy political co...</td>\n",
              "    </tr>\n",
              "    <tr>\n",
              "      <th>18</th>\n",
              "      <td>6608674sc1</td>\n",
              "      <td>Karl Sterrer\\n\\nKarl Sterrer (4 December 18851...</td>\n",
              "    </tr>\n",
              "    <tr>\n",
              "      <th>...</th>\n",
              "      <td>...</td>\n",
              "      <td>...</td>\n",
              "    </tr>\n",
              "    <tr>\n",
              "      <th>1107</th>\n",
              "      <td>61444242qa0</td>\n",
              "      <td>Where did Yang Bi teach after Aurora Women's C...</td>\n",
              "    </tr>\n",
              "    <tr>\n",
              "      <th>1108</th>\n",
              "      <td>35103110sc1</td>\n",
              "      <td>Rhett Reese\\n\\nRhett Reese is an American film...</td>\n",
              "    </tr>\n",
              "    <tr>\n",
              "      <th>1109</th>\n",
              "      <td>35103110qa0</td>\n",
              "      <td>Which city is mentioned as the residence of Rh...</td>\n",
              "    </tr>\n",
              "    <tr>\n",
              "      <th>1110</th>\n",
              "      <td>64187247sc1</td>\n",
              "      <td>Bo Taya\\n\\nBo Taya (born as Khin Maung Oo, 13 ...</td>\n",
              "    </tr>\n",
              "    <tr>\n",
              "      <th>1111</th>\n",
              "      <td>64187247qa0</td>\n",
              "      <td>When did Bo Taya pass away?</td>\n",
              "    </tr>\n",
              "  </tbody>\n",
              "</table>\n",
              "<p>304 rows × 2 columns</p>\n",
              "</div>"
            ],
            "text/plain": [
              "               id                                              input\n",
              "2     67148749sc1  Soubhagya Kumar Misra\\n\\nSoubhagya Kumar Misra...\n",
              "3     67148749qa0  Which poetry collection by Misra won the Sahit...\n",
              "8     72180302sc1  Xu Xisheng\\n\\nXu Xisheng (; born April 1964) i...\n",
              "9     72180302qa0  When did Xu Xisheng become deputy political co...\n",
              "18     6608674sc1  Karl Sterrer\\n\\nKarl Sterrer (4 December 18851...\n",
              "...           ...                                                ...\n",
              "1107  61444242qa0  Where did Yang Bi teach after Aurora Women's C...\n",
              "1108  35103110sc1  Rhett Reese\\n\\nRhett Reese is an American film...\n",
              "1109  35103110qa0  Which city is mentioned as the residence of Rh...\n",
              "1110  64187247sc1  Bo Taya\\n\\nBo Taya (born as Khin Maung Oo, 13 ...\n",
              "1111  64187247qa0                        When did Bo Taya pass away?\n",
              "\n",
              "[304 rows x 2 columns]"
            ]
          },
          "execution_count": 4,
          "metadata": {},
          "output_type": "execute_result"
        }
      ],
      "source": [
        "sa"
      ]
    },
    {
      "cell_type": "code",
      "execution_count": 12,
      "metadata": {},
      "outputs": [],
      "source": [
        "filtered_df = sa[sa['id'].str.endswith('sc1')]\n"
      ]
    },
    {
      "cell_type": "code",
      "execution_count": 13,
      "metadata": {},
      "outputs": [
        {
          "data": {
            "text/html": [
              "<div>\n",
              "<style scoped>\n",
              "    .dataframe tbody tr th:only-of-type {\n",
              "        vertical-align: middle;\n",
              "    }\n",
              "\n",
              "    .dataframe tbody tr th {\n",
              "        vertical-align: top;\n",
              "    }\n",
              "\n",
              "    .dataframe thead th {\n",
              "        text-align: right;\n",
              "    }\n",
              "</style>\n",
              "<table border=\"1\" class=\"dataframe\">\n",
              "  <thead>\n",
              "    <tr style=\"text-align: right;\">\n",
              "      <th></th>\n",
              "      <th>id</th>\n",
              "      <th>input</th>\n",
              "    </tr>\n",
              "  </thead>\n",
              "  <tbody>\n",
              "    <tr>\n",
              "      <th>2</th>\n",
              "      <td>67148749sc1</td>\n",
              "      <td>Soubhagya Kumar Misra\\n\\nSoubhagya Kumar Misra...</td>\n",
              "    </tr>\n",
              "    <tr>\n",
              "      <th>8</th>\n",
              "      <td>72180302sc1</td>\n",
              "      <td>Xu Xisheng\\n\\nXu Xisheng (; born April 1964) i...</td>\n",
              "    </tr>\n",
              "    <tr>\n",
              "      <th>18</th>\n",
              "      <td>6608674sc1</td>\n",
              "      <td>Karl Sterrer\\n\\nKarl Sterrer (4 December 18851...</td>\n",
              "    </tr>\n",
              "    <tr>\n",
              "      <th>32</th>\n",
              "      <td>59496423sc1</td>\n",
              "      <td>Edith Fitzgerald\\n\\nEdith Fitzgerald (1889-196...</td>\n",
              "    </tr>\n",
              "    <tr>\n",
              "      <th>38</th>\n",
              "      <td>56181146sc1</td>\n",
              "      <td>Jyoti Arora\\n\\nJyoti Arora is an Indian author...</td>\n",
              "    </tr>\n",
              "    <tr>\n",
              "      <th>...</th>\n",
              "      <td>...</td>\n",
              "      <td>...</td>\n",
              "    </tr>\n",
              "    <tr>\n",
              "      <th>1074</th>\n",
              "      <td>16058020sc1</td>\n",
              "      <td>Lucienne de Saint-Mart\\n\\nLucienne de Saint-Ma...</td>\n",
              "    </tr>\n",
              "    <tr>\n",
              "      <th>1100</th>\n",
              "      <td>72124068sc1</td>\n",
              "      <td>Cola Rapicano\\n\\nCola Rapicano () was an Itali...</td>\n",
              "    </tr>\n",
              "    <tr>\n",
              "      <th>1106</th>\n",
              "      <td>61444242sc1</td>\n",
              "      <td>Yang Bi\\n\\nYang Bi (; born May 1922 - 4 March ...</td>\n",
              "    </tr>\n",
              "    <tr>\n",
              "      <th>1108</th>\n",
              "      <td>35103110sc1</td>\n",
              "      <td>Rhett Reese\\n\\nRhett Reese is an American film...</td>\n",
              "    </tr>\n",
              "    <tr>\n",
              "      <th>1110</th>\n",
              "      <td>64187247sc1</td>\n",
              "      <td>Bo Taya\\n\\nBo Taya (born as Khin Maung Oo, 13 ...</td>\n",
              "    </tr>\n",
              "  </tbody>\n",
              "</table>\n",
              "<p>152 rows × 2 columns</p>\n",
              "</div>"
            ],
            "text/plain": [
              "               id                                              input\n",
              "2     67148749sc1  Soubhagya Kumar Misra\\n\\nSoubhagya Kumar Misra...\n",
              "8     72180302sc1  Xu Xisheng\\n\\nXu Xisheng (; born April 1964) i...\n",
              "18     6608674sc1  Karl Sterrer\\n\\nKarl Sterrer (4 December 18851...\n",
              "32    59496423sc1  Edith Fitzgerald\\n\\nEdith Fitzgerald (1889-196...\n",
              "38    56181146sc1  Jyoti Arora\\n\\nJyoti Arora is an Indian author...\n",
              "...           ...                                                ...\n",
              "1074  16058020sc1  Lucienne de Saint-Mart\\n\\nLucienne de Saint-Ma...\n",
              "1100  72124068sc1  Cola Rapicano\\n\\nCola Rapicano () was an Itali...\n",
              "1106  61444242sc1  Yang Bi\\n\\nYang Bi (; born May 1922 - 4 March ...\n",
              "1108  35103110sc1  Rhett Reese\\n\\nRhett Reese is an American film...\n",
              "1110  64187247sc1  Bo Taya\\n\\nBo Taya (born as Khin Maung Oo, 13 ...\n",
              "\n",
              "[152 rows x 2 columns]"
            ]
          },
          "execution_count": 13,
          "metadata": {},
          "output_type": "execute_result"
        }
      ],
      "source": [
        "filtered_df"
      ]
    },
    {
      "cell_type": "code",
      "execution_count": 19,
      "metadata": {},
      "outputs": [
        {
          "name": "stderr",
          "output_type": "stream",
          "text": [
            "/tmp/ipykernel_898747/2655610327.py:1: SettingWithCopyWarning: \n",
            "A value is trying to be set on a copy of a slice from a DataFrame.\n",
            "Try using .loc[row_indexer,col_indexer] = value instead\n",
            "\n",
            "See the caveats in the documentation: https://pandas.pydata.org/pandas-docs/stable/user_guide/indexing.html#returning-a-view-versus-a-copy\n",
            "  filtered_df[\"input\"]=filtered_df[\"input\"].apply(lambda x:x.split(\"\\n\")[0])\n"
          ]
        }
      ],
      "source": [
        "filtered_df[\"input\"]=filtered_df[\"input\"].apply(lambda x:x.split(\"\\n\")[0])"
      ]
    },
    {
      "cell_type": "code",
      "execution_count": 20,
      "metadata": {},
      "outputs": [
        {
          "data": {
            "text/html": [
              "<div>\n",
              "<style scoped>\n",
              "    .dataframe tbody tr th:only-of-type {\n",
              "        vertical-align: middle;\n",
              "    }\n",
              "\n",
              "    .dataframe tbody tr th {\n",
              "        vertical-align: top;\n",
              "    }\n",
              "\n",
              "    .dataframe thead th {\n",
              "        text-align: right;\n",
              "    }\n",
              "</style>\n",
              "<table border=\"1\" class=\"dataframe\">\n",
              "  <thead>\n",
              "    <tr style=\"text-align: right;\">\n",
              "      <th></th>\n",
              "      <th>id</th>\n",
              "      <th>input</th>\n",
              "    </tr>\n",
              "  </thead>\n",
              "  <tbody>\n",
              "    <tr>\n",
              "      <th>2</th>\n",
              "      <td>67148749sc1</td>\n",
              "      <td>Soubhagya Kumar Misra</td>\n",
              "    </tr>\n",
              "    <tr>\n",
              "      <th>8</th>\n",
              "      <td>72180302sc1</td>\n",
              "      <td>Xu Xisheng</td>\n",
              "    </tr>\n",
              "    <tr>\n",
              "      <th>18</th>\n",
              "      <td>6608674sc1</td>\n",
              "      <td>Karl Sterrer</td>\n",
              "    </tr>\n",
              "    <tr>\n",
              "      <th>32</th>\n",
              "      <td>59496423sc1</td>\n",
              "      <td>Edith Fitzgerald</td>\n",
              "    </tr>\n",
              "    <tr>\n",
              "      <th>38</th>\n",
              "      <td>56181146sc1</td>\n",
              "      <td>Jyoti Arora</td>\n",
              "    </tr>\n",
              "    <tr>\n",
              "      <th>...</th>\n",
              "      <td>...</td>\n",
              "      <td>...</td>\n",
              "    </tr>\n",
              "    <tr>\n",
              "      <th>1074</th>\n",
              "      <td>16058020sc1</td>\n",
              "      <td>Lucienne de Saint-Mart</td>\n",
              "    </tr>\n",
              "    <tr>\n",
              "      <th>1100</th>\n",
              "      <td>72124068sc1</td>\n",
              "      <td>Cola Rapicano</td>\n",
              "    </tr>\n",
              "    <tr>\n",
              "      <th>1106</th>\n",
              "      <td>61444242sc1</td>\n",
              "      <td>Yang Bi</td>\n",
              "    </tr>\n",
              "    <tr>\n",
              "      <th>1108</th>\n",
              "      <td>35103110sc1</td>\n",
              "      <td>Rhett Reese</td>\n",
              "    </tr>\n",
              "    <tr>\n",
              "      <th>1110</th>\n",
              "      <td>64187247sc1</td>\n",
              "      <td>Bo Taya</td>\n",
              "    </tr>\n",
              "  </tbody>\n",
              "</table>\n",
              "<p>152 rows × 2 columns</p>\n",
              "</div>"
            ],
            "text/plain": [
              "               id                   input\n",
              "2     67148749sc1   Soubhagya Kumar Misra\n",
              "8     72180302sc1              Xu Xisheng\n",
              "18     6608674sc1            Karl Sterrer\n",
              "32    59496423sc1        Edith Fitzgerald\n",
              "38    56181146sc1             Jyoti Arora\n",
              "...           ...                     ...\n",
              "1074  16058020sc1  Lucienne de Saint-Mart\n",
              "1100  72124068sc1           Cola Rapicano\n",
              "1106  61444242sc1                 Yang Bi\n",
              "1108  35103110sc1             Rhett Reese\n",
              "1110  64187247sc1                 Bo Taya\n",
              "\n",
              "[152 rows x 2 columns]"
            ]
          },
          "execution_count": 20,
          "metadata": {},
          "output_type": "execute_result"
        }
      ],
      "source": [
        "filtered_df"
      ]
    },
    {
      "cell_type": "code",
      "execution_count": 21,
      "metadata": {},
      "outputs": [
        {
          "name": "stderr",
          "output_type": "stream",
          "text": [
            "/tmp/ipykernel_898747/1023086212.py:1: SettingWithCopyWarning: \n",
            "A value is trying to be set on a copy of a slice from a DataFrame\n",
            "\n",
            "See the caveats in the documentation: https://pandas.pydata.org/pandas-docs/stable/user_guide/indexing.html#returning-a-view-versus-a-copy\n",
            "  filtered_df.rename(columns={'input': 'document'}, inplace=True)\n"
          ]
        }
      ],
      "source": [
        "filtered_df.rename(columns={'input': 'document'}, inplace=True)\n"
      ]
    },
    {
      "cell_type": "code",
      "execution_count": 8,
      "metadata": {},
      "outputs": [
        {
          "data": {
            "text/html": [
              "<div>\n",
              "<style scoped>\n",
              "    .dataframe tbody tr th:only-of-type {\n",
              "        vertical-align: middle;\n",
              "    }\n",
              "\n",
              "    .dataframe tbody tr th {\n",
              "        vertical-align: top;\n",
              "    }\n",
              "\n",
              "    .dataframe thead th {\n",
              "        text-align: right;\n",
              "    }\n",
              "</style>\n",
              "<table border=\"1\" class=\"dataframe\">\n",
              "  <thead>\n",
              "    <tr style=\"text-align: right;\">\n",
              "      <th></th>\n",
              "      <th>id</th>\n",
              "      <th>document</th>\n",
              "    </tr>\n",
              "  </thead>\n",
              "  <tbody>\n",
              "    <tr>\n",
              "      <th>2</th>\n",
              "      <td>67148749sc1</td>\n",
              "      <td>Soubhagya Kumar Misra\\n\\nSoubhagya Kumar Misra...</td>\n",
              "    </tr>\n",
              "    <tr>\n",
              "      <th>8</th>\n",
              "      <td>72180302sc1</td>\n",
              "      <td>Xu Xisheng\\n\\nXu Xisheng (; born April 1964) i...</td>\n",
              "    </tr>\n",
              "    <tr>\n",
              "      <th>18</th>\n",
              "      <td>6608674sc1</td>\n",
              "      <td>Karl Sterrer\\n\\nKarl Sterrer (4 December 18851...</td>\n",
              "    </tr>\n",
              "    <tr>\n",
              "      <th>32</th>\n",
              "      <td>59496423sc1</td>\n",
              "      <td>Edith Fitzgerald\\n\\nEdith Fitzgerald (1889-196...</td>\n",
              "    </tr>\n",
              "    <tr>\n",
              "      <th>38</th>\n",
              "      <td>56181146sc1</td>\n",
              "      <td>Jyoti Arora\\n\\nJyoti Arora is an Indian author...</td>\n",
              "    </tr>\n",
              "    <tr>\n",
              "      <th>...</th>\n",
              "      <td>...</td>\n",
              "      <td>...</td>\n",
              "    </tr>\n",
              "    <tr>\n",
              "      <th>1074</th>\n",
              "      <td>16058020sc1</td>\n",
              "      <td>Lucienne de Saint-Mart\\n\\nLucienne de Saint-Ma...</td>\n",
              "    </tr>\n",
              "    <tr>\n",
              "      <th>1100</th>\n",
              "      <td>72124068sc1</td>\n",
              "      <td>Cola Rapicano\\n\\nCola Rapicano () was an Itali...</td>\n",
              "    </tr>\n",
              "    <tr>\n",
              "      <th>1106</th>\n",
              "      <td>61444242sc1</td>\n",
              "      <td>Yang Bi\\n\\nYang Bi (; born May 1922 - 4 March ...</td>\n",
              "    </tr>\n",
              "    <tr>\n",
              "      <th>1108</th>\n",
              "      <td>35103110sc1</td>\n",
              "      <td>Rhett Reese\\n\\nRhett Reese is an American film...</td>\n",
              "    </tr>\n",
              "    <tr>\n",
              "      <th>1110</th>\n",
              "      <td>64187247sc1</td>\n",
              "      <td>Bo Taya\\n\\nBo Taya (born as Khin Maung Oo, 13 ...</td>\n",
              "    </tr>\n",
              "  </tbody>\n",
              "</table>\n",
              "<p>152 rows × 2 columns</p>\n",
              "</div>"
            ],
            "text/plain": [
              "               id                                           document\n",
              "2     67148749sc1  Soubhagya Kumar Misra\\n\\nSoubhagya Kumar Misra...\n",
              "8     72180302sc1  Xu Xisheng\\n\\nXu Xisheng (; born April 1964) i...\n",
              "18     6608674sc1  Karl Sterrer\\n\\nKarl Sterrer (4 December 18851...\n",
              "32    59496423sc1  Edith Fitzgerald\\n\\nEdith Fitzgerald (1889-196...\n",
              "38    56181146sc1  Jyoti Arora\\n\\nJyoti Arora is an Indian author...\n",
              "...           ...                                                ...\n",
              "1074  16058020sc1  Lucienne de Saint-Mart\\n\\nLucienne de Saint-Ma...\n",
              "1100  72124068sc1  Cola Rapicano\\n\\nCola Rapicano () was an Itali...\n",
              "1106  61444242sc1  Yang Bi\\n\\nYang Bi (; born May 1922 - 4 March ...\n",
              "1108  35103110sc1  Rhett Reese\\n\\nRhett Reese is an American film...\n",
              "1110  64187247sc1  Bo Taya\\n\\nBo Taya (born as Khin Maung Oo, 13 ...\n",
              "\n",
              "[152 rows x 2 columns]"
            ]
          },
          "execution_count": 8,
          "metadata": {},
          "output_type": "execute_result"
        }
      ],
      "source": [
        "filtered_df"
      ]
    },
    {
      "cell_type": "code",
      "execution_count": 5,
      "metadata": {},
      "outputs": [],
      "source": [
        "sampled_data=forget_validation_df.sample(250,random_state=42)"
      ]
    },
    {
      "cell_type": "code",
      "execution_count": 22,
      "metadata": {},
      "outputs": [],
      "source": [
        "filtered_df.to_json(\"/home/amunis/Unlearning-sensitive-content-from-LLMs/new_evaluation/mia_test5/member.jsonl\",orient=\"records\",lines=True)"
      ]
    },
    {
      "cell_type": "code",
      "execution_count": 29,
      "metadata": {},
      "outputs": [],
      "source": [
        "sampled_data.to_json(\"/home/amunis/Unlearning-sensitive-content-from-LLMs/new_evaluation/mia_test2/member.jsonl\",orient=\"records\",lines=True)"
      ]
    },
    {
      "cell_type": "code",
      "execution_count": null,
      "metadata": {},
      "outputs": [],
      "source": []
    },
    {
      "cell_type": "code",
      "execution_count": null,
      "metadata": {},
      "outputs": [],
      "source": [
        "forget_validation_df.head()"
      ]
    },
    {
      "cell_type": "code",
      "execution_count": 1,
      "metadata": {},
      "outputs": [
        {
          "name": "stderr",
          "output_type": "stream",
          "text": [
            "/home/amunis/miniconda3/lib/python3.12/site-packages/tqdm/auto.py:21: TqdmWarning: IProgress not found. Please update jupyter and ipywidgets. See https://ipywidgets.readthedocs.io/en/stable/user_install.html\n",
            "  from .autonotebook import tqdm as notebook_tqdm\n"
          ]
        }
      ],
      "source": [
        "import pandas as pd\n",
        "path = \"/data1/malto/unlearning_llm/\"\n",
        "\n",
        "## Fetch and load dataset:\n",
        "dataset_path = path + 'datasets/semeval25-unlearning-data/'\n",
        "#snapshot_download(repo_id='llmunlearningsemeval2025organization/semeval25-unlearning-dataset-public', token=hf_token, local_dir=dataset_path, repo_type=\"dataset\")\n",
        "retain_train_df = pd.read_parquet(dataset_path+'data/retain_train-00000-of-00001.parquet', engine='pyarrow') # Retain split: train set\n",
        "retain_validation_df = pd.read_parquet(dataset_path+'data/retain_validation-00000-of-00001.parquet', engine='pyarrow') # Retain split: validation set\n",
        "forget_train_df = pd.read_parquet(dataset_path+'data/forget_train-00000-of-00001.parquet', engine='pyarrow') # Forget split: train set\n",
        "forget_validation_df = pd.read_parquet(dataset_path+'data/forget_validation-00000-of-00001.parquet', engine='pyarrow') # Forget split: validation set\n",
        "from transformers import AutoModelForCausalLM, AutoTokenizer\n"
      ]
    },
    {
      "cell_type": "code",
      "execution_count": 2,
      "metadata": {},
      "outputs": [],
      "source": [
        "from utils import UnlearningDataset"
      ]
    },
    {
      "cell_type": "code",
      "execution_count": 3,
      "metadata": {},
      "outputs": [],
      "source": [
        "path = \"/data1/malto/unlearning_llm/\"\n",
        "model_path = path + 'models/semeval25-unlearning-model'+'-1B-model'"
      ]
    },
    {
      "cell_type": "code",
      "execution_count": 4,
      "metadata": {},
      "outputs": [],
      "source": [
        "train_data=pd.concat([retain_train_df,forget_train_df],ignore_index=True)\n",
        "val_data=pd.concat([retain_validation_df,forget_validation_df],ignore_index=True)"
      ]
    },
    {
      "cell_type": "code",
      "execution_count": 5,
      "metadata": {},
      "outputs": [
        {
          "name": "stderr",
          "output_type": "stream",
          "text": [
            "Loading checkpoint shards: 100%|██████████| 2/2 [00:00<00:00, 13.26it/s]\n",
            "Loading checkpoint shards: 100%|██████████| 2/2 [00:00<00:00, 13.23it/s]\n",
            "Processing:  31%|███       | 697/2248 [01:24<06:26,  4.01it/s]"
          ]
        },
        {
          "ename": "",
          "evalue": "",
          "output_type": "error",
          "traceback": [
            "\u001b[1;31mThe Kernel crashed while executing code in the current cell or a previous cell. \n",
            "\u001b[1;31mPlease review the code in the cell(s) to identify a possible cause of the failure. \n",
            "\u001b[1;31mClick <a href='https://aka.ms/vscodeJupyterKernelCrash'>here</a> for more info. \n",
            "\u001b[1;31mView Jupyter <a href='command:jupyter.viewOutput'>log</a> for further details."
          ]
        }
      ],
      "source": [
        "dataset=UnlearningDataset(\"1B\",train_data,model_path,\"cuda\")"
      ]
    },
    {
      "cell_type": "code",
      "execution_count": 8,
      "metadata": {},
      "outputs": [],
      "source": [
        "import torch"
      ]
    },
    {
      "cell_type": "code",
      "execution_count": 16,
      "metadata": {},
      "outputs": [],
      "source": [
        "\n",
        "train_dataloader=torch.utils.data.DataLoader(dataset,batch_size=2,shuffle=True)\n"
      ]
    },
    {
      "cell_type": "code",
      "execution_count": 19,
      "metadata": {},
      "outputs": [
        {
          "data": {
            "text/plain": [
              "torch.Size([2, 512, 50304])"
            ]
          },
          "execution_count": 19,
          "metadata": {},
          "output_type": "execute_result"
        }
      ],
      "source": [
        "next(iter(train_dataloader))[\"teacher_answer\"].shape"
      ]
    },
    {
      "cell_type": "code",
      "execution_count": 5,
      "metadata": {},
      "outputs": [],
      "source": [
        "df1=retain_train_df[(retain_train_df[\"task\"]==\"Task1\") ] "
      ]
    },
    {
      "cell_type": "code",
      "execution_count": 66,
      "metadata": {},
      "outputs": [
        {
          "data": {
            "text/html": [
              "<div>\n",
              "<style scoped>\n",
              "    .dataframe tbody tr th:only-of-type {\n",
              "        vertical-align: middle;\n",
              "    }\n",
              "\n",
              "    .dataframe tbody tr th {\n",
              "        vertical-align: top;\n",
              "    }\n",
              "\n",
              "    .dataframe thead th {\n",
              "        text-align: right;\n",
              "    }\n",
              "</style>\n",
              "<table border=\"1\" class=\"dataframe\">\n",
              "  <thead>\n",
              "    <tr style=\"text-align: right;\">\n",
              "      <th></th>\n",
              "      <th>id</th>\n",
              "      <th>input</th>\n",
              "      <th>output</th>\n",
              "      <th>task</th>\n",
              "      <th>split</th>\n",
              "    </tr>\n",
              "  </thead>\n",
              "  <tbody>\n",
              "    <tr>\n",
              "      <th>2</th>\n",
              "      <td>67148749sc1</td>\n",
              "      <td>Soubhagya Kumar Misra\\n\\nSoubhagya Kumar Misra...</td>\n",
              "      <td>Odia poetry, the Odisha Sahitya Akademi awarde...</td>\n",
              "      <td>Task3</td>\n",
              "      <td>forget</td>\n",
              "    </tr>\n",
              "    <tr>\n",
              "      <th>3</th>\n",
              "      <td>67148749qa0</td>\n",
              "      <td>Which poetry collection by Misra won the Sahit...</td>\n",
              "      <td>Dwa Suparna</td>\n",
              "      <td>Task3</td>\n",
              "      <td>forget</td>\n",
              "    </tr>\n",
              "    <tr>\n",
              "      <th>8</th>\n",
              "      <td>72180302sc1</td>\n",
              "      <td>Xu Xisheng\\n\\nXu Xisheng (; born April 1964) i...</td>\n",
              "      <td>deputy political commissar of the Southern The...</td>\n",
              "      <td>Task3</td>\n",
              "      <td>forget</td>\n",
              "    </tr>\n",
              "    <tr>\n",
              "      <th>9</th>\n",
              "      <td>72180302qa0</td>\n",
              "      <td>When did Xu Xisheng become deputy political co...</td>\n",
              "      <td>July 2017</td>\n",
              "      <td>Task3</td>\n",
              "      <td>forget</td>\n",
              "    </tr>\n",
              "    <tr>\n",
              "      <th>18</th>\n",
              "      <td>6608674sc1</td>\n",
              "      <td>Karl Sterrer\\n\\nKarl Sterrer (4 December 18851...</td>\n",
              "      <td>of Sterrer's original prints and paintings are...</td>\n",
              "      <td>Task3</td>\n",
              "      <td>forget</td>\n",
              "    </tr>\n",
              "    <tr>\n",
              "      <th>...</th>\n",
              "      <td>...</td>\n",
              "      <td>...</td>\n",
              "      <td>...</td>\n",
              "      <td>...</td>\n",
              "      <td>...</td>\n",
              "    </tr>\n",
              "    <tr>\n",
              "      <th>1107</th>\n",
              "      <td>61444242qa0</td>\n",
              "      <td>Where did Yang Bi teach after Aurora Women's C...</td>\n",
              "      <td>Fudan University</td>\n",
              "      <td>Task3</td>\n",
              "      <td>forget</td>\n",
              "    </tr>\n",
              "    <tr>\n",
              "      <th>1108</th>\n",
              "      <td>35103110sc1</td>\n",
              "      <td>Rhett Reese\\n\\nRhett Reese is an American film...</td>\n",
              "      <td>Brother 2\", inspired both to do their own take...</td>\n",
              "      <td>Task3</td>\n",
              "      <td>forget</td>\n",
              "    </tr>\n",
              "    <tr>\n",
              "      <th>1109</th>\n",
              "      <td>35103110qa0</td>\n",
              "      <td>Which city is mentioned as the residence of Rh...</td>\n",
              "      <td>Los Angeles</td>\n",
              "      <td>Task3</td>\n",
              "      <td>forget</td>\n",
              "    </tr>\n",
              "    <tr>\n",
              "      <th>1110</th>\n",
              "      <td>64187247sc1</td>\n",
              "      <td>Bo Taya\\n\\nBo Taya (born as Khin Maung Oo, 13 ...</td>\n",
              "      <td>elected as a Pyithu Hluttaw MP. In 1961, he re...</td>\n",
              "      <td>Task3</td>\n",
              "      <td>forget</td>\n",
              "    </tr>\n",
              "    <tr>\n",
              "      <th>1111</th>\n",
              "      <td>64187247qa0</td>\n",
              "      <td>When did Bo Taya pass away?</td>\n",
              "      <td>February 6, 1993</td>\n",
              "      <td>Task3</td>\n",
              "      <td>forget</td>\n",
              "    </tr>\n",
              "  </tbody>\n",
              "</table>\n",
              "<p>304 rows × 5 columns</p>\n",
              "</div>"
            ],
            "text/plain": [
              "               id                                              input  \\\n",
              "2     67148749sc1  Soubhagya Kumar Misra\\n\\nSoubhagya Kumar Misra...   \n",
              "3     67148749qa0  Which poetry collection by Misra won the Sahit...   \n",
              "8     72180302sc1  Xu Xisheng\\n\\nXu Xisheng (; born April 1964) i...   \n",
              "9     72180302qa0  When did Xu Xisheng become deputy political co...   \n",
              "18     6608674sc1  Karl Sterrer\\n\\nKarl Sterrer (4 December 18851...   \n",
              "...           ...                                                ...   \n",
              "1107  61444242qa0  Where did Yang Bi teach after Aurora Women's C...   \n",
              "1108  35103110sc1  Rhett Reese\\n\\nRhett Reese is an American film...   \n",
              "1109  35103110qa0  Which city is mentioned as the residence of Rh...   \n",
              "1110  64187247sc1  Bo Taya\\n\\nBo Taya (born as Khin Maung Oo, 13 ...   \n",
              "1111  64187247qa0                        When did Bo Taya pass away?   \n",
              "\n",
              "                                                 output   task   split  \n",
              "2     Odia poetry, the Odisha Sahitya Akademi awarde...  Task3  forget  \n",
              "3                                           Dwa Suparna  Task3  forget  \n",
              "8     deputy political commissar of the Southern The...  Task3  forget  \n",
              "9                                             July 2017  Task3  forget  \n",
              "18    of Sterrer's original prints and paintings are...  Task3  forget  \n",
              "...                                                 ...    ...     ...  \n",
              "1107                                   Fudan University  Task3  forget  \n",
              "1108  Brother 2\", inspired both to do their own take...  Task3  forget  \n",
              "1109                                        Los Angeles  Task3  forget  \n",
              "1110  elected as a Pyithu Hluttaw MP. In 1961, he re...  Task3  forget  \n",
              "1111                                   February 6, 1993  Task3  forget  \n",
              "\n",
              "[304 rows x 5 columns]"
            ]
          },
          "execution_count": 66,
          "metadata": {},
          "output_type": "execute_result"
        }
      ],
      "source": [
        "forget_train_df[(forget_train_df[\"task\"]==\"Task3\") ] "
      ]
    },
    {
      "cell_type": "code",
      "execution_count": 10,
      "metadata": {},
      "outputs": [],
      "source": [
        "df3=pd.concat([df1,df2],ignore_index=True)"
      ]
    },
    {
      "cell_type": "code",
      "execution_count": 11,
      "metadata": {},
      "outputs": [
        {
          "data": {
            "text/html": [
              "<div>\n",
              "<style scoped>\n",
              "    .dataframe tbody tr th:only-of-type {\n",
              "        vertical-align: middle;\n",
              "    }\n",
              "\n",
              "    .dataframe tbody tr th {\n",
              "        vertical-align: top;\n",
              "    }\n",
              "\n",
              "    .dataframe thead th {\n",
              "        text-align: right;\n",
              "    }\n",
              "</style>\n",
              "<table border=\"1\" class=\"dataframe\">\n",
              "  <thead>\n",
              "    <tr style=\"text-align: right;\">\n",
              "      <th></th>\n",
              "      <th>id</th>\n",
              "      <th>input</th>\n",
              "      <th>output</th>\n",
              "      <th>task</th>\n",
              "      <th>split</th>\n",
              "    </tr>\n",
              "  </thead>\n",
              "  <tbody>\n",
              "  </tbody>\n",
              "</table>\n",
              "</div>"
            ],
            "text/plain": [
              "Empty DataFrame\n",
              "Columns: [id, input, output, task, split]\n",
              "Index: []"
            ]
          },
          "execution_count": 11,
          "metadata": {},
          "output_type": "execute_result"
        }
      ],
      "source": [
        "df3[df3[\"task\"]==\"Task3\"]"
      ]
    },
    {
      "cell_type": "code",
      "execution_count": 12,
      "metadata": {},
      "outputs": [],
      "source": [
        "filtered_df = retain_train_df[(retain_train_df[\"task\"] == \"Task1\") | (retain_train_df[\"task\"] == \"Task2\")]\n"
      ]
    },
    {
      "cell_type": "code",
      "execution_count": 19,
      "metadata": {},
      "outputs": [],
      "source": [
        "filtered_df=filtered_df.reset_index().drop(\"index\",axis=1)"
      ]
    },
    {
      "cell_type": "code",
      "execution_count": 20,
      "metadata": {},
      "outputs": [
        {
          "data": {
            "text/html": [
              "<div>\n",
              "<style scoped>\n",
              "    .dataframe tbody tr th:only-of-type {\n",
              "        vertical-align: middle;\n",
              "    }\n",
              "\n",
              "    .dataframe tbody tr th {\n",
              "        vertical-align: top;\n",
              "    }\n",
              "\n",
              "    .dataframe thead th {\n",
              "        text-align: right;\n",
              "    }\n",
              "</style>\n",
              "<table border=\"1\" class=\"dataframe\">\n",
              "  <thead>\n",
              "    <tr style=\"text-align: right;\">\n",
              "      <th></th>\n",
              "      <th>id</th>\n",
              "      <th>input</th>\n",
              "      <th>output</th>\n",
              "      <th>task</th>\n",
              "      <th>split</th>\n",
              "    </tr>\n",
              "  </thead>\n",
              "  <tbody>\n",
              "    <tr>\n",
              "      <th>0</th>\n",
              "      <td>6adbf83c-5071-4979-bedb-e5184b15650bsc1</td>\n",
              "      <td>Fredericka Amber was born on December 21, 1969...</td>\n",
              "      <td>number is 889-867-1855. She can be reached at ...</td>\n",
              "      <td>Task2</td>\n",
              "      <td>retain</td>\n",
              "    </tr>\n",
              "    <tr>\n",
              "      <th>1</th>\n",
              "      <td>6adbf83c-5071-4979-bedb-e5184b15650bqa0</td>\n",
              "      <td>What is the birth date of Fredericka Amber?</td>\n",
              "      <td>1969-12-21</td>\n",
              "      <td>Task2</td>\n",
              "      <td>retain</td>\n",
              "    </tr>\n",
              "    <tr>\n",
              "      <th>2</th>\n",
              "      <td>6adbf83c-5071-4979-bedb-e5184b15650bqa1</td>\n",
              "      <td>What is Fredericka Amber's Social Security Num...</td>\n",
              "      <td>900226238</td>\n",
              "      <td>Task2</td>\n",
              "      <td>retain</td>\n",
              "    </tr>\n",
              "    <tr>\n",
              "      <th>3</th>\n",
              "      <td>6adbf83c-5071-4979-bedb-e5184b15650bqa2</td>\n",
              "      <td>What is Fredericka Amber's phone number?</td>\n",
              "      <td>8898671855</td>\n",
              "      <td>Task2</td>\n",
              "      <td>retain</td>\n",
              "    </tr>\n",
              "    <tr>\n",
              "      <th>4</th>\n",
              "      <td>6adbf83c-5071-4979-bedb-e5184b15650bqa3</td>\n",
              "      <td>What is Fredericka Amber's email address?</td>\n",
              "      <td>fredericka_amber@me.com</td>\n",
              "      <td>Task2</td>\n",
              "      <td>retain</td>\n",
              "    </tr>\n",
              "    <tr>\n",
              "      <th>...</th>\n",
              "      <td>...</td>\n",
              "      <td>...</td>\n",
              "      <td>...</td>\n",
              "      <td>...</td>\n",
              "      <td>...</td>\n",
              "    </tr>\n",
              "    <tr>\n",
              "      <th>813</th>\n",
              "      <td>ba4b0b9d-5f7d-4e5c-a17c-5df2eccd070dqa0</td>\n",
              "      <td>What is the birth date of Tobey Rose?</td>\n",
              "      <td>1987-03-13</td>\n",
              "      <td>Task2</td>\n",
              "      <td>retain</td>\n",
              "    </tr>\n",
              "    <tr>\n",
              "      <th>814</th>\n",
              "      <td>ba4b0b9d-5f7d-4e5c-a17c-5df2eccd070dqa1</td>\n",
              "      <td>What is Tobey Rose's Social Security Number?</td>\n",
              "      <td>900826870</td>\n",
              "      <td>Task2</td>\n",
              "      <td>retain</td>\n",
              "    </tr>\n",
              "    <tr>\n",
              "      <th>815</th>\n",
              "      <td>ba4b0b9d-5f7d-4e5c-a17c-5df2eccd070dqa2</td>\n",
              "      <td>What is Tobey Rose's phone number?</td>\n",
              "      <td>9493594148</td>\n",
              "      <td>Task2</td>\n",
              "      <td>retain</td>\n",
              "    </tr>\n",
              "    <tr>\n",
              "      <th>816</th>\n",
              "      <td>ba4b0b9d-5f7d-4e5c-a17c-5df2eccd070dqa3</td>\n",
              "      <td>What is Tobey Rose's email address?</td>\n",
              "      <td>tobey_rose@me.com</td>\n",
              "      <td>Task2</td>\n",
              "      <td>retain</td>\n",
              "    </tr>\n",
              "    <tr>\n",
              "      <th>817</th>\n",
              "      <td>ba4b0b9d-5f7d-4e5c-a17c-5df2eccd070dqa4</td>\n",
              "      <td>What is the home address of Tobey Rose?</td>\n",
              "      <td>90 Peabody Street, Farmington, AR, 72730.</td>\n",
              "      <td>Task2</td>\n",
              "      <td>retain</td>\n",
              "    </tr>\n",
              "  </tbody>\n",
              "</table>\n",
              "<p>818 rows × 5 columns</p>\n",
              "</div>"
            ],
            "text/plain": [
              "                                          id  \\\n",
              "0    6adbf83c-5071-4979-bedb-e5184b15650bsc1   \n",
              "1    6adbf83c-5071-4979-bedb-e5184b15650bqa0   \n",
              "2    6adbf83c-5071-4979-bedb-e5184b15650bqa1   \n",
              "3    6adbf83c-5071-4979-bedb-e5184b15650bqa2   \n",
              "4    6adbf83c-5071-4979-bedb-e5184b15650bqa3   \n",
              "..                                       ...   \n",
              "813  ba4b0b9d-5f7d-4e5c-a17c-5df2eccd070dqa0   \n",
              "814  ba4b0b9d-5f7d-4e5c-a17c-5df2eccd070dqa1   \n",
              "815  ba4b0b9d-5f7d-4e5c-a17c-5df2eccd070dqa2   \n",
              "816  ba4b0b9d-5f7d-4e5c-a17c-5df2eccd070dqa3   \n",
              "817  ba4b0b9d-5f7d-4e5c-a17c-5df2eccd070dqa4   \n",
              "\n",
              "                                                 input  \\\n",
              "0    Fredericka Amber was born on December 21, 1969...   \n",
              "1          What is the birth date of Fredericka Amber?   \n",
              "2    What is Fredericka Amber's Social Security Num...   \n",
              "3             What is Fredericka Amber's phone number?   \n",
              "4            What is Fredericka Amber's email address?   \n",
              "..                                                 ...   \n",
              "813              What is the birth date of Tobey Rose?   \n",
              "814       What is Tobey Rose's Social Security Number?   \n",
              "815                 What is Tobey Rose's phone number?   \n",
              "816                What is Tobey Rose's email address?   \n",
              "817            What is the home address of Tobey Rose?   \n",
              "\n",
              "                                                output   task   split  \n",
              "0    number is 889-867-1855. She can be reached at ...  Task2  retain  \n",
              "1                                           1969-12-21  Task2  retain  \n",
              "2                                            900226238  Task2  retain  \n",
              "3                                           8898671855  Task2  retain  \n",
              "4                              fredericka_amber@me.com  Task2  retain  \n",
              "..                                                 ...    ...     ...  \n",
              "813                                         1987-03-13  Task2  retain  \n",
              "814                                          900826870  Task2  retain  \n",
              "815                                         9493594148  Task2  retain  \n",
              "816                                  tobey_rose@me.com  Task2  retain  \n",
              "817          90 Peabody Street, Farmington, AR, 72730.  Task2  retain  \n",
              "\n",
              "[818 rows x 5 columns]"
            ]
          },
          "execution_count": 20,
          "metadata": {},
          "output_type": "execute_result"
        }
      ],
      "source": [
        "filtered_df"
      ]
    },
    {
      "cell_type": "code",
      "execution_count": 29,
      "metadata": {},
      "outputs": [
        {
          "name": "stderr",
          "output_type": "stream",
          "text": [
            "Loading checkpoint shards: 100%|██████████| 2/2 [00:00<00:00, 10.23it/s]\n",
            "Loading checkpoint shards: 100%|██████████| 2/2 [00:00<00:00, 10.31it/s]\n"
          ]
        }
      ],
      "source": [
        "import pandas as pd\n",
        "from utils import load_token\n",
        "from huggingface_hub import snapshot_download\n",
        "\n",
        "path = \"/data1/malto/unlearning_llm/\"\n",
        "\n",
        "hf_token = load_token()\n",
        "\n",
        "## Fetch and load dataset:\n",
        "dataset_path = 'final_evaluation/'\n",
        "# snapshot_download(repo_id='llmunlearningsemeval2025organization/semeval25-unlearning-dataset-public', token=hf_token, local_dir=dataset_path, repo_type=\"dataset\")\n",
        "# retain_train_df = pd.read_parquet(dataset_path+'data/retain_train-00000-of-00001.parquet', engine='pyarrow') # Retain split: train set\n",
        "# retain_validation_df = pd.read_parquet(dataset_path+'data/retain_validation-00000-of-00001.parquet', engine='pyarrow') # Retain split: validation set\n",
        "# forget_train_df = pd.read_parquet(dataset_path+'data/forget_train-00000-of-00001.parquet', engine='pyarrow') # Forget split: train set\n",
        "# forget_validation_df = pd.read_parquet(dataset_path+'data/forget_validation-00000-of-00001.parquet', engine='pyarrow') # Forget split: validation set\n",
        "\n",
        "retain_train_df.to_json(dataset_path+'train/retain.jsonl', orient='records', lines=True)\n",
        "forget_train_df.to_json(dataset_path+'train/forget.jsonl', orient='records', lines=True)\n",
        "retain_validation_df.to_json(dataset_path+'validation/retain.jsonl', orient='records', lines=True)\n",
        "forget_validation_df.to_json(dataset_path+'validation/forget.jsonl', orient='records', lines=True)\n",
        "#from transformers import AutoModelForCausalLM, AutoTokenizer\n",
        "\n",
        "## Fetch and load model:\n",
        "# model_path = path + 'models/semeval25-unlearning-model'\n",
        "# #snapshot_download(repo_id='llmunlearningsemeval2025organization/olmo-finetuned-semeval25-unlearning', token=hf_token, local_dir=model_path)\n",
        "# #snapshot_download(repo_id='llmunlearningsemeval2025organization/olmo-1B-model-semeval25-unlearning', token=hf_token, local_dir=model_path+'-1B-model')\n",
        "# model = AutoModelForCausalLM.from_pretrained(model_path+'-1B-model')\n",
        "# model2 = AutoModelForCausalLM.from_pretrained(model_path+'-1B-model')\n",
        "\n",
        "\n",
        "\n",
        "import torch\n",
        "from utils import genrate_ex_sentences\n",
        "from evaluate_generations import rouge_scorer\n",
        "scorer = rouge_scorer.RougeScorer(['rouge1', 'rougeL'], use_stemmer=True)\n",
        "from utils import cal_rouge_score"
      ]
    },
    {
      "cell_type": "code",
      "execution_count": 15,
      "metadata": {},
      "outputs": [
        {
          "name": "stderr",
          "output_type": "stream",
          "text": [
            "Loading checkpoint shards:   0%|          | 0/2 [00:00<?, ?it/s]"
          ]
        },
        {
          "name": "stderr",
          "output_type": "stream",
          "text": [
            "Loading checkpoint shards: 100%|██████████| 2/2 [00:00<00:00, 10.51it/s]\n"
          ]
        },
        {
          "data": {
            "text/plain": [
              "OlmoForCausalLM(\n",
              "  (model): OlmoModel(\n",
              "    (embed_tokens): Embedding(50304, 2048, padding_idx=1)\n",
              "    (layers): ModuleList(\n",
              "      (0-15): 16 x OlmoDecoderLayer(\n",
              "        (self_attn): OlmoSdpaAttention(\n",
              "          (q_proj): Linear(in_features=2048, out_features=2048, bias=False)\n",
              "          (k_proj): Linear(in_features=2048, out_features=2048, bias=False)\n",
              "          (v_proj): Linear(in_features=2048, out_features=2048, bias=False)\n",
              "          (o_proj): Linear(in_features=2048, out_features=2048, bias=False)\n",
              "          (rotary_emb): OlmoRotaryEmbedding()\n",
              "        )\n",
              "        (mlp): OlmoMLP(\n",
              "          (gate_proj): Linear(in_features=2048, out_features=8192, bias=False)\n",
              "          (up_proj): Linear(in_features=2048, out_features=8192, bias=False)\n",
              "          (down_proj): Linear(in_features=8192, out_features=2048, bias=False)\n",
              "          (act_fn): SiLU()\n",
              "        )\n",
              "        (input_layernorm): OlmoLayerNorm()\n",
              "        (post_attention_layernorm): OlmoLayerNorm()\n",
              "      )\n",
              "    )\n",
              "    (norm): OlmoLayerNorm()\n",
              "  )\n",
              "  (lm_head): Linear(in_features=2048, out_features=50304, bias=False)\n",
              ")"
            ]
          },
          "execution_count": 15,
          "metadata": {},
          "output_type": "execute_result"
        }
      ],
      "source": [
        "model.from_pretrained(\"/home/amunis/Unlearning-sensitive-content-from-LLMs/ce_lr_e5_new_epoch_6\")"
      ]
    },
    {
      "cell_type": "code",
      "execution_count": 6,
      "metadata": {},
      "outputs": [
        {
          "data": {
            "text/plain": [
              "'is [jania\\\\_harlequin@me.com](mailto:jania_harlequin@me.com). Her home address is 19 Keyes Drive, #12, Fayetteville, AR, 72701. Her social security number is 900-80-9236.'"
            ]
          },
          "execution_count": 6,
          "metadata": {},
          "output_type": "execute_result"
        }
      ],
      "source": [
        "forget_train_df[\"output\"][100]"
      ]
    },
    {
      "cell_type": "code",
      "execution_count": 5,
      "metadata": {},
      "outputs": [
        {
          "data": {
            "text/plain": [
              "'is [jania\\\\_harlequin@me.com](mailto:jania_harlequin@me.com). Her home address is 19 Keyes Drive, #12, Fayetteville, AR, 72701. Her social security number is 900-80-9236.'"
            ]
          },
          "execution_count": 5,
          "metadata": {},
          "output_type": "execute_result"
        }
      ],
      "source": [
        "genrate_ex_sentences(model,forget_train_df[\"input\"][100],\"1B\",256)"
      ]
    },
    {
      "cell_type": "code",
      "execution_count": null,
      "metadata": {},
      "outputs": [],
      "source": [
        "from transformers import AutoModelForSequenceClassification, AutoTokenizer\n",
        "import torch.nn as nn\n",
        "import torch\n",
        "from transformers import PreTrainedModel\n",
        "\n",
        "class NoisyModel(PreTrainedModel):\n",
        "    def __init__(self, model_name, noise_stddev=0.1,config=None):\n",
        "        super().__init__(config)\n",
        "        self.base_model = AutoModelForCausalLM.from_pretrained(model_path+'-1B-model')\n",
        "        self.base_model=\n",
        "        self.noise_stddev = noise_stddev\n",
        "\n",
        "    def forward(self, inputs):\n",
        "        outputs = self.base_model(**inputs)\n",
        "        logits = outputs.logits\n",
        "\n",
        "        # Add Gaussian noise\n",
        "        noise = torch.randn_like(logits) * self.noise_stddev\n",
        "        noisy_logits = logits + noise\n",
        "\n",
        "        return noisy_logits"
      ]
    },
    {
      "cell_type": "code",
      "execution_count": 50,
      "metadata": {},
      "outputs": [],
      "source": [
        "def add_noise_to_logits(logits, noise_stddev=0.1):\n",
        "  \"\"\"\n",
        "  Adds Gaussian noise to the logits of a model.\n",
        "\n",
        "  Args:\n",
        "    logits: A tensor of logits.\n",
        "    noise_stddev: The standard deviation of the Gaussian noise.\n",
        "\n",
        "  Returns:\n",
        "    A tensor of noisy logits.\n",
        "  \"\"\"\n",
        "  noise = torch.randn_like(logits) * noise_stddev\n",
        "  return logits + noise\n",
        "\n",
        "def save_model_with_noise(model_name, noise_stddev=0.1):\n",
        "  \"\"\"\n",
        "  Saves a model with noise added to its logits.\n",
        "\n",
        "  Args:\n",
        "    model_name: The name of the model to load and save.\n",
        "    noise_stddev: The standard deviation of the Gaussian noise.\n",
        "  \"\"\"\n",
        "  model = AutoModelForCausalLM.from_pretrained(model_path+'-1B-model')\n",
        "  model=model.from_pretrained(\"/data1/malto/unlearning_llm/created_models/ce_lr_e5_epoch_6\")\n",
        "\n",
        "  # Define a custom forward pass function that adds noise\n",
        "  def forward(self, **inputs):\n",
        "    outputs = super().forward(**inputs)\n",
        "    logits = outputs.logits\n",
        "    noisy_logits = add_noise_to_logits(logits, noise_stddev)\n",
        "    outputs.logits = noisy_logits\n",
        "    return outputs\n",
        "\n",
        "  # Replace the model's forward function\n",
        "  model.forward = forward\n",
        "\n",
        "  # Save the model with the modified forward function\n",
        "  model.save_pretrained(f\"{model_name}_with_noise_{noise_stddev}\")\n",
        "\n",
        "\n"
      ]
    },
    {
      "cell_type": "code",
      "execution_count": 51,
      "metadata": {},
      "outputs": [
        {
          "name": "stderr",
          "output_type": "stream",
          "text": [
            "Loading checkpoint shards:   0%|          | 0/2 [00:00<?, ?it/s]"
          ]
        },
        {
          "name": "stderr",
          "output_type": "stream",
          "text": [
            "Loading checkpoint shards: 100%|██████████| 2/2 [00:00<00:00, 10.08it/s]\n",
            "Loading checkpoint shards: 100%|██████████| 2/2 [00:00<00:00, 10.20it/s]\n"
          ]
        }
      ],
      "source": [
        "save_model_with_noise(\"noisy_1\",500)"
      ]
    },
    {
      "cell_type": "code",
      "execution_count": 64,
      "metadata": {},
      "outputs": [
        {
          "name": "stdout",
          "output_type": "stream",
          "text": [
            "Original Prompt: Barney Rock\n",
            "\n",
            "Barney Rock (born 10 January 1961) is a former Gaelic footballer and manager at club and inter-county level (he managed Westmeath in the mid-1990s).\n",
            "Biography.\n",
            "Born in Ballymun, but growing up in Glasnevin, Dublin, Rock attended St Kevins College, Ballygall.\n",
            "He played Gaelic football with his local club Ballymun Kickhams and was a senior member of the Dublin county team from 1980 until 1991. He won the 1983 All-Ireland Senior Football Championship with Dublin in 1983 at Croke Park against Galway. Rock was also chosen to play in the first International Rules Series against Australia in 1984. Rock won an All Star for Dublin on three occasions, each in consecutive years 1983, 1984, 1985.\n",
            "After hanging up his boots, Rock went on to manage both the Westmeath senior and under 21 teams from 1995 to 1997 and was managing Dublin GAA club St Sylvester's in 2000.\n",
            "Rock was an unsuccessful candidate at the 1991 Dublin City Council election for the Progressive Democrats. He stood for election to the Finglas ward of Dublin Corporation.\n",
            "Rock's son, Dean, would later play for Dublin.\n",
            "Perturbed Prompt: [CLS] barney rock barney rock ( born 10 january 1961 ) is a former gaelic footballer and manager at club and inter - county level ( he managed westmeath nationalist the mid - 1990s ). biography. containers in ballymun, but growing up in glasnevin, dublin, rock attended st kevins college, ballygall. he played gaelic football with his local club ballymun kickhams and was a senior member of the dublin county team joey 1980 until 1991. he won the inn all - ireland senior footballctions with dublin in 1983 at croke park against galway. rock was also chosen to play in the first international rules series against australia in 1984. rock won an all star for dublin on three occasions, each in consecutive years 1983, 1984, 1985. after hanging up his boots, rock went on to manage both the westmeath senior and under 21 teams from 1995 to 1997 and was managing dublin gaa club st sylvester ' s in 2000. rock was an unsuccessful candidate at the 1991 dublin city council election employed the progressive democrats. he stood for election to the finglas ward of dublin corporation. rock ' s son, dean, wouldop play for dublin. [SEP]\n"
          ]
        }
      ],
      "source": [
        "from transformers import AutoTokenizer\n",
        "import numpy as np\n",
        "\n",
        "tokenizer = AutoTokenizer.from_pretrained(\"bert-base-uncased\")  # Example model\n",
        "\n",
        "def perturb_tokens(input_ids, perturbation_rate=0.05):\n",
        "    \"\"\"Adds random perturbations to token IDs.\"\"\"\n",
        "    perturbed_ids = input_ids.copy()\n",
        "    for i in range(len(perturbed_ids)):\n",
        "        if np.random.rand() < perturbation_rate:\n",
        "            # Replace with a random token ID (excluding special tokens like [CLS], [SEP])\n",
        "            random_id = np.random.randint(tokenizer.vocab_size)\n",
        "            while random_id in tokenizer.all_special_ids:\n",
        "                random_id = np.random.randint(tokenizer.vocab_size)\n",
        "            perturbed_ids[i] = random_id\n",
        "    return perturbed_ids\n",
        "\n",
        "original_prompt = \"Barney Rock\\n\\nBarney Rock (born 10 January 1961) is a former Gaelic footballer and manager at club and inter-county level (he managed Westmeath in the mid-1990s).\\nBiography.\\nBorn in Ballymun, but growing up in Glasnevin, Dublin, Rock attended St Kevins College, Ballygall.\\nHe played Gaelic football with his local club Ballymun Kickhams and was a senior member of the Dublin county team from 1980 until 1991. He won the 1983 All-Ireland Senior Football Championship with Dublin in 1983 at Croke Park against Galway. Rock was also chosen to play in the first International Rules Series against Australia in 1984. Rock won an All Star for Dublin on three occasions, each in consecutive years 1983, 1984, 1985.\\nAfter hanging up his boots, Rock went on to manage both the Westmeath senior and under 21 teams from 1995 to 1997 and was managing Dublin GAA club St Sylvester's in 2000.\\nRock was an unsuccessful candidate at the 1991 Dublin City Council election for the Progressive Democrats. He stood for election to the Finglas ward of Dublin Corporation.\\nRock's son, Dean, would later play for Dublin.\"\n",
        "input_ids = tokenizer(original_prompt, return_tensors=\"pt\").input_ids[0].tolist()\n",
        "\n",
        "perturbed_input_ids = perturb_tokens(input_ids)\n",
        "\n",
        "perturbed_prompt = tokenizer.decode(perturbed_input_ids)\n",
        "print(f\"Original Prompt: {original_prompt}\")\n",
        "print(f\"Perturbed Prompt: {perturbed_prompt}\")"
      ]
    },
    {
      "cell_type": "code",
      "execution_count": 26,
      "metadata": {},
      "outputs": [],
      "source": [
        "noisy_model.base_model.save_pretrained(\"noisy_model\")"
      ]
    },
    {
      "cell_type": "code",
      "execution_count": 96,
      "metadata": {},
      "outputs": [],
      "source": [
        "model.save_pretrained(\"orginal_model\")"
      ]
    },
    {
      "cell_type": "code",
      "execution_count": 18,
      "metadata": {},
      "outputs": [],
      "source": [
        "tokenizer=AutoTokenizer.from_pretrained(\"allenai/OLMo-1B-0724-hf\")"
      ]
    },
    {
      "cell_type": "code",
      "execution_count": 52,
      "metadata": {},
      "outputs": [
        {
          "data": {
            "text/plain": [
              "('/home/amunis/Unlearning-sensitive-content-from-LLMs/noisy_1_with_noise_500/tokenizer_config.json',\n",
              " '/home/amunis/Unlearning-sensitive-content-from-LLMs/noisy_1_with_noise_500/special_tokens_map.json',\n",
              " '/home/amunis/Unlearning-sensitive-content-from-LLMs/noisy_1_with_noise_500/tokenizer.json')"
            ]
          },
          "execution_count": 52,
          "metadata": {},
          "output_type": "execute_result"
        }
      ],
      "source": [
        "tokenizer.save_pretrained(\"/home/amunis/Unlearning-sensitive-content-from-LLMs/noisy_1_with_noise_500\")"
      ]
    },
    {
      "cell_type": "code",
      "execution_count": null,
      "metadata": {},
      "outputs": [],
      "source": [
        "path + 'models/semeval25-unlearning-model'+'-1B-model'"
      ]
    },
    {
      "cell_type": "code",
      "execution_count": null,
      "metadata": {},
      "outputs": [],
      "source": [
        "model = AutoModelForCausalLM.from_pretrained(\"/home/amunis/Unlearning-sensitive-content-from-LLMs/claudio_ce_3_epoch_7\")"
      ]
    },
    {
      "cell_type": "code",
      "execution_count": 2,
      "metadata": {},
      "outputs": [],
      "source": [
        "model.save_pretrained(\"claudio_forget1\")"
      ]
    },
    {
      "cell_type": "code",
      "execution_count": null,
      "metadata": {},
      "outputs": [],
      "source": [
        "tokenizer = AutoTokenizer.from_pretrained(\"allenai/OLMo-7B-0724-Instruct-hf\")\n",
        "tokenizer.save_pretrained(\"claudio_forget1\")"
      ]
    },
    {
      "cell_type": "code",
      "execution_count": null,
      "metadata": {},
      "outputs": [],
      "source": [
        "genrate_ex_sentences(model,forget_train_df[\"input\"][4],\"1B\",256)"
      ]
    },
    {
      "cell_type": "code",
      "execution_count": null,
      "metadata": {},
      "outputs": [],
      "source": [
        "df=cal_rouge_score(model,retain_train_df,forget_train_df,\"1B\",256)"
      ]
    },
    {
      "cell_type": "code",
      "execution_count": 16,
      "metadata": {},
      "outputs": [],
      "source": [
        "df2=cal_rouge_score(model,retain_train_df,\"1B\",300)"
      ]
    },
    {
      "cell_type": "code",
      "execution_count": null,
      "metadata": {},
      "outputs": [],
      "source": [
        "generated=genrate_ex_sentences(model,forget_train_df[\"input\"][43],\"1B\",300)#After Unlearning\n",
        "orginal=genrate_ex_sentences(model2,forget_train_df[\"input\"][43],\"1B\",300) #Real\n",
        "orginal,generated"
      ]
    },
    {
      "cell_type": "code",
      "execution_count": null,
      "metadata": {},
      "outputs": [],
      "source": []
    },
    {
      "cell_type": "code",
      "execution_count": null,
      "metadata": {},
      "outputs": [],
      "source": []
    },
    {
      "cell_type": "code",
      "execution_count": 6,
      "metadata": {},
      "outputs": [
        {
          "name": "stderr",
          "output_type": "stream",
          "text": [
            "Loading checkpoint shards: 100%|██████████| 2/2 [00:00<00:00, 10.32it/s]\n"
          ]
        }
      ],
      "source": [
        "original_model = AutoModelForCausalLM.from_pretrained(\"allenai/OLMo-1B-0724-hf\")\n"
      ]
    },
    {
      "cell_type": "code",
      "execution_count": 8,
      "metadata": {},
      "outputs": [],
      "source": [
        "original_model.save_pretrained(\"orginal_olmo\")"
      ]
    },
    {
      "cell_type": "code",
      "execution_count": 26,
      "metadata": {},
      "outputs": [],
      "source": [
        "forget_train_df[\"input\"][0]\n"
      ]
    },
    {
      "cell_type": "code",
      "execution_count": 102,
      "metadata": {},
      "outputs": [],
      "source": [
        "from datasets import load_dataset\n",
        "\n",
        "ds = load_dataset(\"cais/mmlu\", \"all\")"
      ]
    },
    {
      "cell_type": "code",
      "execution_count": null,
      "metadata": {},
      "outputs": [],
      "source": [
        "ds[\"test\"][0]"
      ]
    },
    {
      "cell_type": "code",
      "execution_count": null,
      "metadata": {},
      "outputs": [],
      "source": [
        "orginal"
      ]
    },
    {
      "cell_type": "code",
      "execution_count": null,
      "metadata": {},
      "outputs": [],
      "source": [
        "generated"
      ]
    },
    {
      "cell_type": "code",
      "execution_count": null,
      "metadata": {},
      "outputs": [],
      "source": [
        "orginal"
      ]
    },
    {
      "cell_type": "code",
      "execution_count": 2,
      "metadata": {},
      "outputs": [],
      "source": [
        "import torch\n",
        "torch.cuda.empty_cache()"
      ]
    },
    {
      "cell_type": "markdown",
      "metadata": {},
      "source": [
        "torch.cuda.empty_cache()"
      ]
    },
    {
      "cell_type": "code",
      "execution_count": null,
      "metadata": {},
      "outputs": [],
      "source": [
        "forget_train_df[\"input\"][0]"
      ]
    },
    {
      "cell_type": "code",
      "execution_count": null,
      "metadata": {},
      "outputs": [],
      "source": [
        "retain_train_df[\"input\"][120]"
      ]
    },
    {
      "cell_type": "code",
      "execution_count": null,
      "metadata": {},
      "outputs": [],
      "source": [
        "retain_train_df[\"output\"][120]"
      ]
    },
    {
      "cell_type": "code",
      "execution_count": null,
      "metadata": {},
      "outputs": [],
      "source": []
    },
    {
      "cell_type": "code",
      "execution_count": 7,
      "metadata": {},
      "outputs": [],
      "source": [
        "a=model(forget_train[0][\"input_ids\"].unsqueeze(0).to(\"cuda\"),max_length=50, do_sample=True, top_k=50)"
      ]
    },
    {
      "cell_type": "code",
      "execution_count": 8,
      "metadata": {},
      "outputs": [],
      "source": [
        "import torch\n",
        "probabilities = torch.softmax(a[\"logits\"], dim=-1)"
      ]
    },
    {
      "cell_type": "code",
      "execution_count": 17,
      "metadata": {},
      "outputs": [],
      "source": [
        "predicted_token_ids = torch.argmax(probabilities, dim=-1)\n"
      ]
    },
    {
      "cell_type": "code",
      "execution_count": 9,
      "metadata": {},
      "outputs": [],
      "source": [
        "from transformers import AutoTokenizer\n",
        "tokenizer=AutoTokenizer.from_pretrained(\"allenai/OLMo-1B-0724-hf\")"
      ]
    },
    {
      "cell_type": "code",
      "execution_count": null,
      "metadata": {},
      "outputs": [],
      "source": []
    },
    {
      "cell_type": "code",
      "execution_count": 19,
      "metadata": {},
      "outputs": [],
      "source": [
        "decoded_sentence = tokenizer.decode(predicted_token_ids[0], skip_special_tokens=True)\n"
      ]
    },
    {
      "cell_type": "code",
      "execution_count": null,
      "metadata": {},
      "outputs": [],
      "source": [
        "decoded_sentence"
      ]
    },
    {
      "cell_type": "code",
      "execution_count": 57,
      "metadata": {},
      "outputs": [],
      "source": [
        "decoded_sentence = tokenizer.decode(forget_train[0][\"labels\"], skip_special_tokens=True)\n"
      ]
    },
    {
      "cell_type": "code",
      "execution_count": null,
      "metadata": {},
      "outputs": [],
      "source": [
        "decoded_sentence"
      ]
    },
    {
      "cell_type": "code",
      "execution_count": 21,
      "metadata": {},
      "outputs": [],
      "source": [
        "torch.cuda.empty_cache()"
      ]
    },
    {
      "cell_type": "code",
      "execution_count": null,
      "metadata": {},
      "outputs": [],
      "source": []
    }
  ],
  "metadata": {
    "colab": {
      "provenance": []
    },
    "kernelspec": {
      "display_name": "base",
      "language": "python",
      "name": "python3"
    },
    "language_info": {
      "codemirror_mode": {
        "name": "ipython",
        "version": 3
      },
      "file_extension": ".py",
      "mimetype": "text/x-python",
      "name": "python",
      "nbconvert_exporter": "python",
      "pygments_lexer": "ipython3",
      "version": "3.12.2"
    },
    "widgets": {
      "application/vnd.jupyter.widget-state+json": {
        "068dd154430e4681a3a3aadd0d3f8584": {
          "model_module": "@jupyter-widgets/controls",
          "model_module_version": "1.5.0",
          "model_name": "DescriptionStyleModel",
          "state": {
            "_model_module": "@jupyter-widgets/controls",
            "_model_module_version": "1.5.0",
            "_model_name": "DescriptionStyleModel",
            "_view_count": null,
            "_view_module": "@jupyter-widgets/base",
            "_view_module_version": "1.2.0",
            "_view_name": "StyleView",
            "description_width": ""
          }
        },
        "0f4fdb4ddeb44b2092d317ac236e621f": {
          "model_module": "@jupyter-widgets/controls",
          "model_module_version": "1.5.0",
          "model_name": "ProgressStyleModel",
          "state": {
            "_model_module": "@jupyter-widgets/controls",
            "_model_module_version": "1.5.0",
            "_model_name": "ProgressStyleModel",
            "_view_count": null,
            "_view_module": "@jupyter-widgets/base",
            "_view_module_version": "1.2.0",
            "_view_name": "StyleView",
            "bar_color": null,
            "description_width": ""
          }
        },
        "1595c436462b4d5ba7afc254ba96f7ad": {
          "model_module": "@jupyter-widgets/controls",
          "model_module_version": "1.5.0",
          "model_name": "ProgressStyleModel",
          "state": {
            "_model_module": "@jupyter-widgets/controls",
            "_model_module_version": "1.5.0",
            "_model_name": "ProgressStyleModel",
            "_view_count": null,
            "_view_module": "@jupyter-widgets/base",
            "_view_module_version": "1.2.0",
            "_view_name": "StyleView",
            "bar_color": null,
            "description_width": ""
          }
        },
        "166a7ed12fa54ce4a735e8b20197e0ee": {
          "model_module": "@jupyter-widgets/controls",
          "model_module_version": "1.5.0",
          "model_name": "HTMLModel",
          "state": {
            "_dom_classes": [],
            "_model_module": "@jupyter-widgets/controls",
            "_model_module_version": "1.5.0",
            "_model_name": "HTMLModel",
            "_view_count": null,
            "_view_module": "@jupyter-widgets/controls",
            "_view_module_version": "1.5.0",
            "_view_name": "HTMLView",
            "description": "",
            "description_tooltip": null,
            "layout": "IPY_MODEL_536abdbdbc344151b6c314a6dd7dac7d",
            "placeholder": "​",
            "style": "IPY_MODEL_e58720dc33ac4daa9d52d3b64788e3a5",
            "value": "retain95.json: 100%"
          }
        },
        "1dc6c6fcac93445bbca20fbef5019407": {
          "model_module": "@jupyter-widgets/base",
          "model_module_version": "1.2.0",
          "model_name": "LayoutModel",
          "state": {
            "_model_module": "@jupyter-widgets/base",
            "_model_module_version": "1.2.0",
            "_model_name": "LayoutModel",
            "_view_count": null,
            "_view_module": "@jupyter-widgets/base",
            "_view_module_version": "1.2.0",
            "_view_name": "LayoutView",
            "align_content": null,
            "align_items": null,
            "align_self": null,
            "border": null,
            "bottom": null,
            "display": null,
            "flex": null,
            "flex_flow": null,
            "grid_area": null,
            "grid_auto_columns": null,
            "grid_auto_flow": null,
            "grid_auto_rows": null,
            "grid_column": null,
            "grid_gap": null,
            "grid_row": null,
            "grid_template_areas": null,
            "grid_template_columns": null,
            "grid_template_rows": null,
            "height": null,
            "justify_content": null,
            "justify_items": null,
            "left": null,
            "margin": null,
            "max_height": null,
            "max_width": null,
            "min_height": null,
            "min_width": null,
            "object_fit": null,
            "object_position": null,
            "order": null,
            "overflow": null,
            "overflow_x": null,
            "overflow_y": null,
            "padding": null,
            "right": null,
            "top": null,
            "visibility": null,
            "width": null
          }
        },
        "275f06bb78c94b67ab3e33e49d3f959e": {
          "model_module": "@jupyter-widgets/controls",
          "model_module_version": "1.5.0",
          "model_name": "FloatProgressModel",
          "state": {
            "_dom_classes": [],
            "_model_module": "@jupyter-widgets/controls",
            "_model_module_version": "1.5.0",
            "_model_name": "FloatProgressModel",
            "_view_count": null,
            "_view_module": "@jupyter-widgets/controls",
            "_view_module_version": "1.5.0",
            "_view_name": "ProgressView",
            "bar_style": "success",
            "description": "",
            "description_tooltip": null,
            "layout": "IPY_MODEL_fab78b678e7f4e979df57a65aadd6543",
            "max": 3982,
            "min": 0,
            "orientation": "horizontal",
            "style": "IPY_MODEL_0f4fdb4ddeb44b2092d317ac236e621f",
            "value": 3982
          }
        },
        "4ce46d94c680452692193cb42e568f7e": {
          "model_module": "@jupyter-widgets/controls",
          "model_module_version": "1.5.0",
          "model_name": "FloatProgressModel",
          "state": {
            "_dom_classes": [],
            "_model_module": "@jupyter-widgets/controls",
            "_model_module_version": "1.5.0",
            "_model_name": "FloatProgressModel",
            "_view_count": null,
            "_view_module": "@jupyter-widgets/controls",
            "_view_module_version": "1.5.0",
            "_view_name": "ProgressView",
            "bar_style": "success",
            "description": "",
            "description_tooltip": null,
            "layout": "IPY_MODEL_af77cda8ad734238b3e1db1d39063b35",
            "max": 3800,
            "min": 0,
            "orientation": "horizontal",
            "style": "IPY_MODEL_1595c436462b4d5ba7afc254ba96f7ad",
            "value": 3800
          }
        },
        "4d64d51e965b4432b0ca5d1696bf1bc1": {
          "model_module": "@jupyter-widgets/controls",
          "model_module_version": "1.5.0",
          "model_name": "DescriptionStyleModel",
          "state": {
            "_model_module": "@jupyter-widgets/controls",
            "_model_module_version": "1.5.0",
            "_model_name": "DescriptionStyleModel",
            "_view_count": null,
            "_view_module": "@jupyter-widgets/base",
            "_view_module_version": "1.2.0",
            "_view_name": "StyleView",
            "description_width": ""
          }
        },
        "536abdbdbc344151b6c314a6dd7dac7d": {
          "model_module": "@jupyter-widgets/base",
          "model_module_version": "1.2.0",
          "model_name": "LayoutModel",
          "state": {
            "_model_module": "@jupyter-widgets/base",
            "_model_module_version": "1.2.0",
            "_model_name": "LayoutModel",
            "_view_count": null,
            "_view_module": "@jupyter-widgets/base",
            "_view_module_version": "1.2.0",
            "_view_name": "LayoutView",
            "align_content": null,
            "align_items": null,
            "align_self": null,
            "border": null,
            "bottom": null,
            "display": null,
            "flex": null,
            "flex_flow": null,
            "grid_area": null,
            "grid_auto_columns": null,
            "grid_auto_flow": null,
            "grid_auto_rows": null,
            "grid_column": null,
            "grid_gap": null,
            "grid_row": null,
            "grid_template_areas": null,
            "grid_template_columns": null,
            "grid_template_rows": null,
            "height": null,
            "justify_content": null,
            "justify_items": null,
            "left": null,
            "margin": null,
            "max_height": null,
            "max_width": null,
            "min_height": null,
            "min_width": null,
            "object_fit": null,
            "object_position": null,
            "order": null,
            "overflow": null,
            "overflow_x": null,
            "overflow_y": null,
            "padding": null,
            "right": null,
            "top": null,
            "visibility": null,
            "width": null
          }
        },
        "53cc4fe42a244dd6b816b2f459a2b50d": {
          "model_module": "@jupyter-widgets/controls",
          "model_module_version": "1.5.0",
          "model_name": "DescriptionStyleModel",
          "state": {
            "_model_module": "@jupyter-widgets/controls",
            "_model_module_version": "1.5.0",
            "_model_name": "DescriptionStyleModel",
            "_view_count": null,
            "_view_module": "@jupyter-widgets/base",
            "_view_module_version": "1.2.0",
            "_view_name": "StyleView",
            "description_width": ""
          }
        },
        "567750d5acdc453a8bc2dbed1fd4b1e8": {
          "model_module": "@jupyter-widgets/base",
          "model_module_version": "1.2.0",
          "model_name": "LayoutModel",
          "state": {
            "_model_module": "@jupyter-widgets/base",
            "_model_module_version": "1.2.0",
            "_model_name": "LayoutModel",
            "_view_count": null,
            "_view_module": "@jupyter-widgets/base",
            "_view_module_version": "1.2.0",
            "_view_name": "LayoutView",
            "align_content": null,
            "align_items": null,
            "align_self": null,
            "border": null,
            "bottom": null,
            "display": null,
            "flex": null,
            "flex_flow": null,
            "grid_area": null,
            "grid_auto_columns": null,
            "grid_auto_flow": null,
            "grid_auto_rows": null,
            "grid_column": null,
            "grid_gap": null,
            "grid_row": null,
            "grid_template_areas": null,
            "grid_template_columns": null,
            "grid_template_rows": null,
            "height": null,
            "justify_content": null,
            "justify_items": null,
            "left": null,
            "margin": null,
            "max_height": null,
            "max_width": null,
            "min_height": null,
            "min_width": null,
            "object_fit": null,
            "object_position": null,
            "order": null,
            "overflow": null,
            "overflow_x": null,
            "overflow_y": null,
            "padding": null,
            "right": null,
            "top": null,
            "visibility": null,
            "width": null
          }
        },
        "67111df88ee44998bda90eed93cdd6ef": {
          "model_module": "@jupyter-widgets/base",
          "model_module_version": "1.2.0",
          "model_name": "LayoutModel",
          "state": {
            "_model_module": "@jupyter-widgets/base",
            "_model_module_version": "1.2.0",
            "_model_name": "LayoutModel",
            "_view_count": null,
            "_view_module": "@jupyter-widgets/base",
            "_view_module_version": "1.2.0",
            "_view_name": "LayoutView",
            "align_content": null,
            "align_items": null,
            "align_self": null,
            "border": null,
            "bottom": null,
            "display": null,
            "flex": null,
            "flex_flow": null,
            "grid_area": null,
            "grid_auto_columns": null,
            "grid_auto_flow": null,
            "grid_auto_rows": null,
            "grid_column": null,
            "grid_gap": null,
            "grid_row": null,
            "grid_template_areas": null,
            "grid_template_columns": null,
            "grid_template_rows": null,
            "height": null,
            "justify_content": null,
            "justify_items": null,
            "left": null,
            "margin": null,
            "max_height": null,
            "max_width": null,
            "min_height": null,
            "min_width": null,
            "object_fit": null,
            "object_position": null,
            "order": null,
            "overflow": null,
            "overflow_x": null,
            "overflow_y": null,
            "padding": null,
            "right": null,
            "top": null,
            "visibility": null,
            "width": null
          }
        },
        "77af122f33df4c5391827d9b7548df54": {
          "model_module": "@jupyter-widgets/controls",
          "model_module_version": "1.5.0",
          "model_name": "HBoxModel",
          "state": {
            "_dom_classes": [],
            "_model_module": "@jupyter-widgets/controls",
            "_model_module_version": "1.5.0",
            "_model_name": "HBoxModel",
            "_view_count": null,
            "_view_module": "@jupyter-widgets/controls",
            "_view_module_version": "1.5.0",
            "_view_name": "HBoxView",
            "box_style": "",
            "children": [
              "IPY_MODEL_166a7ed12fa54ce4a735e8b20197e0ee",
              "IPY_MODEL_965e0f48fc5949e9a9d1599a52b2399f",
              "IPY_MODEL_c1b377dcdd54496b9f99e307f1747906"
            ],
            "layout": "IPY_MODEL_567750d5acdc453a8bc2dbed1fd4b1e8"
          }
        },
        "85205ffef5c74188a4b6930377c388b5": {
          "model_module": "@jupyter-widgets/controls",
          "model_module_version": "1.5.0",
          "model_name": "DescriptionStyleModel",
          "state": {
            "_model_module": "@jupyter-widgets/controls",
            "_model_module_version": "1.5.0",
            "_model_name": "DescriptionStyleModel",
            "_view_count": null,
            "_view_module": "@jupyter-widgets/base",
            "_view_module_version": "1.2.0",
            "_view_name": "StyleView",
            "description_width": ""
          }
        },
        "8a700ea1edc44c42aadcde0f5700b887": {
          "model_module": "@jupyter-widgets/controls",
          "model_module_version": "1.5.0",
          "model_name": "HTMLModel",
          "state": {
            "_dom_classes": [],
            "_model_module": "@jupyter-widgets/controls",
            "_model_module_version": "1.5.0",
            "_model_name": "HTMLModel",
            "_view_count": null,
            "_view_module": "@jupyter-widgets/controls",
            "_view_module_version": "1.5.0",
            "_view_name": "HTMLView",
            "description": "",
            "description_tooltip": null,
            "layout": "IPY_MODEL_f0376f10b3474919825dd937eee0e601",
            "placeholder": "​",
            "style": "IPY_MODEL_8e805b491b034530bd8314d1bc3e08e5",
            "value": "Generating train split: 100%"
          }
        },
        "8e805b491b034530bd8314d1bc3e08e5": {
          "model_module": "@jupyter-widgets/controls",
          "model_module_version": "1.5.0",
          "model_name": "DescriptionStyleModel",
          "state": {
            "_model_module": "@jupyter-widgets/controls",
            "_model_module_version": "1.5.0",
            "_model_name": "DescriptionStyleModel",
            "_view_count": null,
            "_view_module": "@jupyter-widgets/base",
            "_view_module_version": "1.2.0",
            "_view_name": "StyleView",
            "description_width": ""
          }
        },
        "907bd4afffc14a8383e6f02a1bc6f264": {
          "model_module": "@jupyter-widgets/base",
          "model_module_version": "1.2.0",
          "model_name": "LayoutModel",
          "state": {
            "_model_module": "@jupyter-widgets/base",
            "_model_module_version": "1.2.0",
            "_model_name": "LayoutModel",
            "_view_count": null,
            "_view_module": "@jupyter-widgets/base",
            "_view_module_version": "1.2.0",
            "_view_name": "LayoutView",
            "align_content": null,
            "align_items": null,
            "align_self": null,
            "border": null,
            "bottom": null,
            "display": null,
            "flex": null,
            "flex_flow": null,
            "grid_area": null,
            "grid_auto_columns": null,
            "grid_auto_flow": null,
            "grid_auto_rows": null,
            "grid_column": null,
            "grid_gap": null,
            "grid_row": null,
            "grid_template_areas": null,
            "grid_template_columns": null,
            "grid_template_rows": null,
            "height": null,
            "justify_content": null,
            "justify_items": null,
            "left": null,
            "margin": null,
            "max_height": null,
            "max_width": null,
            "min_height": null,
            "min_width": null,
            "object_fit": null,
            "object_position": null,
            "order": null,
            "overflow": null,
            "overflow_x": null,
            "overflow_y": null,
            "padding": null,
            "right": null,
            "top": null,
            "visibility": null,
            "width": null
          }
        },
        "9490d751e40549e8a98650eb4de69f86": {
          "model_module": "@jupyter-widgets/controls",
          "model_module_version": "1.5.0",
          "model_name": "HBoxModel",
          "state": {
            "_dom_classes": [],
            "_model_module": "@jupyter-widgets/controls",
            "_model_module_version": "1.5.0",
            "_model_name": "HBoxModel",
            "_view_count": null,
            "_view_module": "@jupyter-widgets/controls",
            "_view_module_version": "1.5.0",
            "_view_name": "HBoxView",
            "box_style": "",
            "children": [
              "IPY_MODEL_c5c667f6ec1146318841869fd994ccf9",
              "IPY_MODEL_275f06bb78c94b67ab3e33e49d3f959e",
              "IPY_MODEL_dd7e8c3fe094462a8e28f57c905edbcb"
            ],
            "layout": "IPY_MODEL_1dc6c6fcac93445bbca20fbef5019407"
          }
        },
        "9519b48b20c341868e0507cf9180e832": {
          "model_module": "@jupyter-widgets/controls",
          "model_module_version": "1.5.0",
          "model_name": "HBoxModel",
          "state": {
            "_dom_classes": [],
            "_model_module": "@jupyter-widgets/controls",
            "_model_module_version": "1.5.0",
            "_model_name": "HBoxModel",
            "_view_count": null,
            "_view_module": "@jupyter-widgets/controls",
            "_view_module_version": "1.5.0",
            "_view_name": "HBoxView",
            "box_style": "",
            "children": [
              "IPY_MODEL_8a700ea1edc44c42aadcde0f5700b887",
              "IPY_MODEL_4ce46d94c680452692193cb42e568f7e",
              "IPY_MODEL_ce481ab7b1644ff79421ff9c2e92f519"
            ],
            "layout": "IPY_MODEL_907bd4afffc14a8383e6f02a1bc6f264"
          }
        },
        "965e0f48fc5949e9a9d1599a52b2399f": {
          "model_module": "@jupyter-widgets/controls",
          "model_module_version": "1.5.0",
          "model_name": "FloatProgressModel",
          "state": {
            "_dom_classes": [],
            "_model_module": "@jupyter-widgets/controls",
            "_model_module_version": "1.5.0",
            "_model_name": "FloatProgressModel",
            "_view_count": null,
            "_view_module": "@jupyter-widgets/controls",
            "_view_module_version": "1.5.0",
            "_view_name": "ProgressView",
            "bar_style": "success",
            "description": "",
            "description_tooltip": null,
            "layout": "IPY_MODEL_ab932f2b931e4c348aed57c156b50081",
            "max": 1021406,
            "min": 0,
            "orientation": "horizontal",
            "style": "IPY_MODEL_a19d6f63de2c49c3ab291b5ae8e873e8",
            "value": 1021406
          }
        },
        "a19d6f63de2c49c3ab291b5ae8e873e8": {
          "model_module": "@jupyter-widgets/controls",
          "model_module_version": "1.5.0",
          "model_name": "ProgressStyleModel",
          "state": {
            "_model_module": "@jupyter-widgets/controls",
            "_model_module_version": "1.5.0",
            "_model_name": "ProgressStyleModel",
            "_view_count": null,
            "_view_module": "@jupyter-widgets/base",
            "_view_module_version": "1.2.0",
            "_view_name": "StyleView",
            "bar_color": null,
            "description_width": ""
          }
        },
        "a6b92e985fde499aa93ac4efa3f72649": {
          "model_module": "@jupyter-widgets/base",
          "model_module_version": "1.2.0",
          "model_name": "LayoutModel",
          "state": {
            "_model_module": "@jupyter-widgets/base",
            "_model_module_version": "1.2.0",
            "_model_name": "LayoutModel",
            "_view_count": null,
            "_view_module": "@jupyter-widgets/base",
            "_view_module_version": "1.2.0",
            "_view_name": "LayoutView",
            "align_content": null,
            "align_items": null,
            "align_self": null,
            "border": null,
            "bottom": null,
            "display": null,
            "flex": null,
            "flex_flow": null,
            "grid_area": null,
            "grid_auto_columns": null,
            "grid_auto_flow": null,
            "grid_auto_rows": null,
            "grid_column": null,
            "grid_gap": null,
            "grid_row": null,
            "grid_template_areas": null,
            "grid_template_columns": null,
            "grid_template_rows": null,
            "height": null,
            "justify_content": null,
            "justify_items": null,
            "left": null,
            "margin": null,
            "max_height": null,
            "max_width": null,
            "min_height": null,
            "min_width": null,
            "object_fit": null,
            "object_position": null,
            "order": null,
            "overflow": null,
            "overflow_x": null,
            "overflow_y": null,
            "padding": null,
            "right": null,
            "top": null,
            "visibility": null,
            "width": null
          }
        },
        "ab932f2b931e4c348aed57c156b50081": {
          "model_module": "@jupyter-widgets/base",
          "model_module_version": "1.2.0",
          "model_name": "LayoutModel",
          "state": {
            "_model_module": "@jupyter-widgets/base",
            "_model_module_version": "1.2.0",
            "_model_name": "LayoutModel",
            "_view_count": null,
            "_view_module": "@jupyter-widgets/base",
            "_view_module_version": "1.2.0",
            "_view_name": "LayoutView",
            "align_content": null,
            "align_items": null,
            "align_self": null,
            "border": null,
            "bottom": null,
            "display": null,
            "flex": null,
            "flex_flow": null,
            "grid_area": null,
            "grid_auto_columns": null,
            "grid_auto_flow": null,
            "grid_auto_rows": null,
            "grid_column": null,
            "grid_gap": null,
            "grid_row": null,
            "grid_template_areas": null,
            "grid_template_columns": null,
            "grid_template_rows": null,
            "height": null,
            "justify_content": null,
            "justify_items": null,
            "left": null,
            "margin": null,
            "max_height": null,
            "max_width": null,
            "min_height": null,
            "min_width": null,
            "object_fit": null,
            "object_position": null,
            "order": null,
            "overflow": null,
            "overflow_x": null,
            "overflow_y": null,
            "padding": null,
            "right": null,
            "top": null,
            "visibility": null,
            "width": null
          }
        },
        "af77cda8ad734238b3e1db1d39063b35": {
          "model_module": "@jupyter-widgets/base",
          "model_module_version": "1.2.0",
          "model_name": "LayoutModel",
          "state": {
            "_model_module": "@jupyter-widgets/base",
            "_model_module_version": "1.2.0",
            "_model_name": "LayoutModel",
            "_view_count": null,
            "_view_module": "@jupyter-widgets/base",
            "_view_module_version": "1.2.0",
            "_view_name": "LayoutView",
            "align_content": null,
            "align_items": null,
            "align_self": null,
            "border": null,
            "bottom": null,
            "display": null,
            "flex": null,
            "flex_flow": null,
            "grid_area": null,
            "grid_auto_columns": null,
            "grid_auto_flow": null,
            "grid_auto_rows": null,
            "grid_column": null,
            "grid_gap": null,
            "grid_row": null,
            "grid_template_areas": null,
            "grid_template_columns": null,
            "grid_template_rows": null,
            "height": null,
            "justify_content": null,
            "justify_items": null,
            "left": null,
            "margin": null,
            "max_height": null,
            "max_width": null,
            "min_height": null,
            "min_width": null,
            "object_fit": null,
            "object_position": null,
            "order": null,
            "overflow": null,
            "overflow_x": null,
            "overflow_y": null,
            "padding": null,
            "right": null,
            "top": null,
            "visibility": null,
            "width": null
          }
        },
        "bf86e0a5732d4ff087d7e7b842ae51e0": {
          "model_module": "@jupyter-widgets/base",
          "model_module_version": "1.2.0",
          "model_name": "LayoutModel",
          "state": {
            "_model_module": "@jupyter-widgets/base",
            "_model_module_version": "1.2.0",
            "_model_name": "LayoutModel",
            "_view_count": null,
            "_view_module": "@jupyter-widgets/base",
            "_view_module_version": "1.2.0",
            "_view_name": "LayoutView",
            "align_content": null,
            "align_items": null,
            "align_self": null,
            "border": null,
            "bottom": null,
            "display": null,
            "flex": null,
            "flex_flow": null,
            "grid_area": null,
            "grid_auto_columns": null,
            "grid_auto_flow": null,
            "grid_auto_rows": null,
            "grid_column": null,
            "grid_gap": null,
            "grid_row": null,
            "grid_template_areas": null,
            "grid_template_columns": null,
            "grid_template_rows": null,
            "height": null,
            "justify_content": null,
            "justify_items": null,
            "left": null,
            "margin": null,
            "max_height": null,
            "max_width": null,
            "min_height": null,
            "min_width": null,
            "object_fit": null,
            "object_position": null,
            "order": null,
            "overflow": null,
            "overflow_x": null,
            "overflow_y": null,
            "padding": null,
            "right": null,
            "top": null,
            "visibility": null,
            "width": null
          }
        },
        "c1b377dcdd54496b9f99e307f1747906": {
          "model_module": "@jupyter-widgets/controls",
          "model_module_version": "1.5.0",
          "model_name": "HTMLModel",
          "state": {
            "_dom_classes": [],
            "_model_module": "@jupyter-widgets/controls",
            "_model_module_version": "1.5.0",
            "_model_name": "HTMLModel",
            "_view_count": null,
            "_view_module": "@jupyter-widgets/controls",
            "_view_module_version": "1.5.0",
            "_view_name": "HTMLView",
            "description": "",
            "description_tooltip": null,
            "layout": "IPY_MODEL_bf86e0a5732d4ff087d7e7b842ae51e0",
            "placeholder": "​",
            "style": "IPY_MODEL_4d64d51e965b4432b0ca5d1696bf1bc1",
            "value": " 1.02M/1.02M [00:00&lt;00:00, 7.77MB/s]"
          }
        },
        "c5c667f6ec1146318841869fd994ccf9": {
          "model_module": "@jupyter-widgets/controls",
          "model_module_version": "1.5.0",
          "model_name": "HTMLModel",
          "state": {
            "_dom_classes": [],
            "_model_module": "@jupyter-widgets/controls",
            "_model_module_version": "1.5.0",
            "_model_name": "HTMLModel",
            "_view_count": null,
            "_view_module": "@jupyter-widgets/controls",
            "_view_module_version": "1.5.0",
            "_view_name": "HTMLView",
            "description": "",
            "description_tooltip": null,
            "layout": "IPY_MODEL_67111df88ee44998bda90eed93cdd6ef",
            "placeholder": "​",
            "style": "IPY_MODEL_53cc4fe42a244dd6b816b2f459a2b50d",
            "value": "README.md: 100%"
          }
        },
        "ce481ab7b1644ff79421ff9c2e92f519": {
          "model_module": "@jupyter-widgets/controls",
          "model_module_version": "1.5.0",
          "model_name": "HTMLModel",
          "state": {
            "_dom_classes": [],
            "_model_module": "@jupyter-widgets/controls",
            "_model_module_version": "1.5.0",
            "_model_name": "HTMLModel",
            "_view_count": null,
            "_view_module": "@jupyter-widgets/controls",
            "_view_module_version": "1.5.0",
            "_view_name": "HTMLView",
            "description": "",
            "description_tooltip": null,
            "layout": "IPY_MODEL_a6b92e985fde499aa93ac4efa3f72649",
            "placeholder": "​",
            "style": "IPY_MODEL_068dd154430e4681a3a3aadd0d3f8584",
            "value": " 3800/3800 [00:00&lt;00:00, 48541.64 examples/s]"
          }
        },
        "da7e7a0133fe4998afe32d9be4072047": {
          "model_module": "@jupyter-widgets/base",
          "model_module_version": "1.2.0",
          "model_name": "LayoutModel",
          "state": {
            "_model_module": "@jupyter-widgets/base",
            "_model_module_version": "1.2.0",
            "_model_name": "LayoutModel",
            "_view_count": null,
            "_view_module": "@jupyter-widgets/base",
            "_view_module_version": "1.2.0",
            "_view_name": "LayoutView",
            "align_content": null,
            "align_items": null,
            "align_self": null,
            "border": null,
            "bottom": null,
            "display": null,
            "flex": null,
            "flex_flow": null,
            "grid_area": null,
            "grid_auto_columns": null,
            "grid_auto_flow": null,
            "grid_auto_rows": null,
            "grid_column": null,
            "grid_gap": null,
            "grid_row": null,
            "grid_template_areas": null,
            "grid_template_columns": null,
            "grid_template_rows": null,
            "height": null,
            "justify_content": null,
            "justify_items": null,
            "left": null,
            "margin": null,
            "max_height": null,
            "max_width": null,
            "min_height": null,
            "min_width": null,
            "object_fit": null,
            "object_position": null,
            "order": null,
            "overflow": null,
            "overflow_x": null,
            "overflow_y": null,
            "padding": null,
            "right": null,
            "top": null,
            "visibility": null,
            "width": null
          }
        },
        "dd7e8c3fe094462a8e28f57c905edbcb": {
          "model_module": "@jupyter-widgets/controls",
          "model_module_version": "1.5.0",
          "model_name": "HTMLModel",
          "state": {
            "_dom_classes": [],
            "_model_module": "@jupyter-widgets/controls",
            "_model_module_version": "1.5.0",
            "_model_name": "HTMLModel",
            "_view_count": null,
            "_view_module": "@jupyter-widgets/controls",
            "_view_module_version": "1.5.0",
            "_view_name": "HTMLView",
            "description": "",
            "description_tooltip": null,
            "layout": "IPY_MODEL_da7e7a0133fe4998afe32d9be4072047",
            "placeholder": "​",
            "style": "IPY_MODEL_85205ffef5c74188a4b6930377c388b5",
            "value": " 3.98k/3.98k [00:00&lt;00:00, 208kB/s]"
          }
        },
        "e58720dc33ac4daa9d52d3b64788e3a5": {
          "model_module": "@jupyter-widgets/controls",
          "model_module_version": "1.5.0",
          "model_name": "DescriptionStyleModel",
          "state": {
            "_model_module": "@jupyter-widgets/controls",
            "_model_module_version": "1.5.0",
            "_model_name": "DescriptionStyleModel",
            "_view_count": null,
            "_view_module": "@jupyter-widgets/base",
            "_view_module_version": "1.2.0",
            "_view_name": "StyleView",
            "description_width": ""
          }
        },
        "f0376f10b3474919825dd937eee0e601": {
          "model_module": "@jupyter-widgets/base",
          "model_module_version": "1.2.0",
          "model_name": "LayoutModel",
          "state": {
            "_model_module": "@jupyter-widgets/base",
            "_model_module_version": "1.2.0",
            "_model_name": "LayoutModel",
            "_view_count": null,
            "_view_module": "@jupyter-widgets/base",
            "_view_module_version": "1.2.0",
            "_view_name": "LayoutView",
            "align_content": null,
            "align_items": null,
            "align_self": null,
            "border": null,
            "bottom": null,
            "display": null,
            "flex": null,
            "flex_flow": null,
            "grid_area": null,
            "grid_auto_columns": null,
            "grid_auto_flow": null,
            "grid_auto_rows": null,
            "grid_column": null,
            "grid_gap": null,
            "grid_row": null,
            "grid_template_areas": null,
            "grid_template_columns": null,
            "grid_template_rows": null,
            "height": null,
            "justify_content": null,
            "justify_items": null,
            "left": null,
            "margin": null,
            "max_height": null,
            "max_width": null,
            "min_height": null,
            "min_width": null,
            "object_fit": null,
            "object_position": null,
            "order": null,
            "overflow": null,
            "overflow_x": null,
            "overflow_y": null,
            "padding": null,
            "right": null,
            "top": null,
            "visibility": null,
            "width": null
          }
        },
        "fab78b678e7f4e979df57a65aadd6543": {
          "model_module": "@jupyter-widgets/base",
          "model_module_version": "1.2.0",
          "model_name": "LayoutModel",
          "state": {
            "_model_module": "@jupyter-widgets/base",
            "_model_module_version": "1.2.0",
            "_model_name": "LayoutModel",
            "_view_count": null,
            "_view_module": "@jupyter-widgets/base",
            "_view_module_version": "1.2.0",
            "_view_name": "LayoutView",
            "align_content": null,
            "align_items": null,
            "align_self": null,
            "border": null,
            "bottom": null,
            "display": null,
            "flex": null,
            "flex_flow": null,
            "grid_area": null,
            "grid_auto_columns": null,
            "grid_auto_flow": null,
            "grid_auto_rows": null,
            "grid_column": null,
            "grid_gap": null,
            "grid_row": null,
            "grid_template_areas": null,
            "grid_template_columns": null,
            "grid_template_rows": null,
            "height": null,
            "justify_content": null,
            "justify_items": null,
            "left": null,
            "margin": null,
            "max_height": null,
            "max_width": null,
            "min_height": null,
            "min_width": null,
            "object_fit": null,
            "object_position": null,
            "order": null,
            "overflow": null,
            "overflow_x": null,
            "overflow_y": null,
            "padding": null,
            "right": null,
            "top": null,
            "visibility": null,
            "width": null
          }
        }
      }
    }
  },
  "nbformat": 4,
  "nbformat_minor": 0
}
