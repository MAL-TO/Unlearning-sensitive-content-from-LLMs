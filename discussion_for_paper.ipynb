{
 "cells": [
  {
   "cell_type": "code",
   "execution_count": 16,
   "metadata": {},
   "outputs": [],
   "source": [
    "import matplotlib.pyplot as plt\n",
    "import numpy as np\n",
    "from matplotlib.colors import LinearSegmentedColormap\n",
    "from IPython.display import display, HTML\n",
    "import pandas as pd\n",
    "\n",
    "def highlight_tokens(tokens, values, cmap='Blues', background_color='white', text_threshold=0.6):\n",
    "    \"\"\"\n",
    "    Create an HTML visualization of tokens with varying highlight intensities.\n",
    "    \n",
    "    Parameters:\n",
    "    - tokens: List of string tokens\n",
    "    - values: List of float values between 0 and 1\n",
    "    - cmap: Matplotlib colormap name (default: 'Blues')\n",
    "    - background_color: Color to use for background (default: 'white')\n",
    "    - text_threshold: Value threshold to switch text color from black to white (default: 0.6)\n",
    "    \n",
    "    Returns:\n",
    "    - HTML representation of the highlighted tokens\n",
    "    \"\"\"\n",
    "    if len(tokens) != len(values):\n",
    "        raise ValueError(\"Number of tokens must match number of values\")\n",
    "    \n",
    "    # Create a colormap\n",
    "    cmap = plt.cm.get_cmap(cmap)\n",
    "    \n",
    "    # Generate HTML for highlighted tokens\n",
    "    html_parts = []\n",
    "    for token, value in zip(tokens, values):\n",
    "        # Get RGB color from colormap (cmap returns RGBA)\n",
    "        rgba = cmap(value)\n",
    "        r, g, b = [int(255 * c) for c in rgba[:3]]\n",
    "        \n",
    "        # Determine text color based on background darkness\n",
    "        text_color = 'white' if value > text_threshold else 'black'\n",
    "        \n",
    "        # Create span with background color\n",
    "        html_parts.append(\n",
    "            f'<span style=\"background-color: rgb({r},{g},{b}); '\n",
    "            f'color: {text_color}; padding: 2px 4px; margin: 2px; '\n",
    "            f'border-radius: 3px;\">{token}</span>'\n",
    "        )\n",
    "    \n",
    "    # Combine all spans\n",
    "    html = '<div style=\"line-height: 2.5;\">' + ' '.join(html_parts) + '</div>'\n",
    "    print(html)\n",
    "    \n",
    "    return HTML(html)\n",
    "\n",
    "def display_token_heatmap(tokens, values, cmap='Blues', title=None):\n",
    "    \"\"\"\n",
    "    Display tokenized text with highlighting based on values.\n",
    "    \n",
    "    Parameters:\n",
    "    - tokens: List of string tokens\n",
    "    - values: List of float values between 0 and 1\n",
    "    - cmap: Matplotlib colormap name\n",
    "    - title: Optional title for the visualization\n",
    "    \"\"\"\n",
    "    # Validate input\n",
    "    if len(tokens) != len(values):\n",
    "        raise ValueError(\"Number of tokens must match number of values\")\n",
    "    \n",
    "    if not all(0 <= v <= 1 for v in values):\n",
    "        raise ValueError(\"All values must be between 0 and 1\")\n",
    "    \n",
    "    # Create HTML with highlights\n",
    "    html_output = highlight_tokens(tokens, values, cmap)\n",
    "    \n",
    "    # Display title if provided\n",
    "    if title:\n",
    "        display(HTML(f\"<h3>{title}</h3>\"))\n",
    "    \n",
    "    # Display the visualization\n",
    "    display(html_output)\n",
    "\n",
    "    print(html_output)\n",
    "    \n",
    "    # Display color scale\n",
    "    # fig, ax = plt.subplots(figsize=(6, 0.4))\n",
    "    # fig.subplots_adjust(bottom=0.5)\n",
    "    \n",
    "    # # Create a horizontal color scale\n",
    "    # cmap = plt.cm.get_cmap(cmap)\n",
    "    # norm = plt.Normalize(0, 1)\n",
    "    # cb = plt.colorbar(plt.cm.ScalarMappable(norm=norm, cmap=cmap), \n",
    "    #                   cax=ax, orientation='horizontal')\n",
    "    # cb.set_label('Value')\n",
    "    # plt.show()"
   ]
  },
  {
   "cell_type": "code",
   "execution_count": 2,
   "metadata": {},
   "outputs": [
    {
     "name": "stderr",
     "output_type": "stream",
     "text": [
      "/home/csavelli/miniconda3/lib/python3.12/site-packages/tqdm/auto.py:21: TqdmWarning: IProgress not found. Please update jupyter and ipywidgets. See https://ipywidgets.readthedocs.io/en/stable/user_install.html\n",
      "  from .autonotebook import tqdm as notebook_tqdm\n",
      "Loading checkpoint shards: 100%|██████████| 2/2 [00:01<00:00,  1.19it/s]\n",
      "Loading checkpoint shards: 100%|██████████| 2/2 [00:00<00:00,  6.09it/s]\n"
     ]
    }
   ],
   "source": [
    "from transformers import AutoModelForCausalLM, AutoTokenizer\n",
    "\n",
    "model = AutoModelForCausalLM.from_pretrained(\"/data3/csavelli/unlearning_llm/models/semeval25-unlearning-model-1B-model\")\n",
    "tokenizer = AutoTokenizer.from_pretrained(\"allenai/OLMo-1B-0724-hf\")\n",
    "\n",
    "bad_teacher_model=AutoModelForCausalLM.from_pretrained(\"allenai/OLMo-1B-0724-hf\", trust_remote_code=True)"
   ]
  },
  {
   "cell_type": "code",
   "execution_count": 3,
   "metadata": {},
   "outputs": [
    {
     "data": {
      "text/plain": [
       "OlmoForCausalLM(\n",
       "  (model): OlmoModel(\n",
       "    (embed_tokens): Embedding(50304, 2048, padding_idx=1)\n",
       "    (layers): ModuleList(\n",
       "      (0-15): 16 x OlmoDecoderLayer(\n",
       "        (self_attn): OlmoSdpaAttention(\n",
       "          (q_proj): Linear(in_features=2048, out_features=2048, bias=False)\n",
       "          (k_proj): Linear(in_features=2048, out_features=2048, bias=False)\n",
       "          (v_proj): Linear(in_features=2048, out_features=2048, bias=False)\n",
       "          (o_proj): Linear(in_features=2048, out_features=2048, bias=False)\n",
       "          (rotary_emb): OlmoRotaryEmbedding()\n",
       "        )\n",
       "        (mlp): OlmoMLP(\n",
       "          (gate_proj): Linear(in_features=2048, out_features=8192, bias=False)\n",
       "          (up_proj): Linear(in_features=2048, out_features=8192, bias=False)\n",
       "          (down_proj): Linear(in_features=8192, out_features=2048, bias=False)\n",
       "          (act_fn): SiLU()\n",
       "        )\n",
       "        (input_layernorm): OlmoLayerNorm()\n",
       "        (post_attention_layernorm): OlmoLayerNorm()\n",
       "      )\n",
       "    )\n",
       "    (norm): OlmoLayerNorm()\n",
       "  )\n",
       "  (lm_head): Linear(in_features=2048, out_features=50304, bias=False)\n",
       ")"
      ]
     },
     "execution_count": 3,
     "metadata": {},
     "output_type": "execute_result"
    }
   ],
   "source": [
    "import torch\n",
    "\n",
    "device = \"cuda\" if torch.cuda.is_available() else \"cpu\"\n",
    "model.to(device)\n",
    "bad_teacher_model.to(device)"
   ]
  },
  {
   "cell_type": "code",
   "execution_count": 4,
   "metadata": {},
   "outputs": [
    {
     "name": "stdout",
     "output_type": "stream",
     "text": [
      "Margarette Amber was born on September 25, 1984. She can be reached via phone at 338-449-4547 and her email address is [margarette\\_amber@me.com](mailto:margarette_amber@me.com). Her home address is 7901 West 52nd Avenue, #205, Fayetteville, AR, 72703. Her Social Security Number is 900-20-9911.\n"
     ]
    },
    {
     "name": "stderr",
     "output_type": "stream",
     "text": [
      "We detected that you are passing `past_key_values` as a tuple and this is deprecated and will be removed in v4.43. Please use an appropriate `Cache` class (https://huggingface.co/docs/transformers/v4.41.3/en/internal/generation_utils#transformers.Cache)\n"
     ]
    }
   ],
   "source": [
    "sentence = {\"id\":\"6aaab070-c607-47d4-9620-709559ccd893sc1\",\"input\":\"Margarette Amber was born on September 25, 1984. She can be reached via phone at 338-449-4547 and her\",\"output\":\"email address is [margarette\\\\_amber@me.com](mailto:margarette_amber@me.com). Her home address is 7901 West 52nd Avenue, #205, Fayetteville, AR, 72703. Her Social Security Number is 900-20-9911.\",\"task\":\"Task2\",\"split\":\"forget\"}\n",
    "input_text = sentence[\"input\"]\n",
    "output_text = sentence[\"output\"]\n",
    "print(input_text + \" \" + output_text)\n",
    "text = input_text + \" \" + output_text\n",
    "inputs = tokenizer(text, return_tensors=\"pt\")\n",
    "inputs = inputs.to(device)\n",
    "\n",
    "model.eval()\n",
    "bad_teacher_model.eval()\n",
    "\n",
    "outputs = model(**inputs)\n",
    "outputs_bad_teacher = bad_teacher_model(**inputs)\n",
    "\n",
    "prob_p = torch.nn.functional.softmax(outputs_bad_teacher.logits.to(device), -1)\n",
    "prob_q = torch.nn.functional.softmax(outputs.logits, -1)\n",
    "\n",
    "loss = (prob_p * (torch.log(prob_p + 1e-12) - torch.log(prob_q + 1e-12))).sum(-1)"
   ]
  },
  {
   "cell_type": "code",
   "execution_count": 5,
   "metadata": {},
   "outputs": [],
   "source": [
    "text_2 = \"Albert Einstein (14 March 1879 – 18 April 1955) was a German-born theoretical physicist who is best known for developing the theory of relativity.\"\n",
    "\n",
    "inputs_2 = tokenizer(text_2, return_tensors=\"pt\")\n",
    "inputs_2 = inputs_2.to(device)\n",
    "\n",
    "model.eval()\n",
    "bad_teacher_model.eval()\n",
    "\n",
    "outputs_2 = model(**inputs_2)\n",
    "outputs_bad_teacher_2 = bad_teacher_model(**inputs_2)\n",
    "\n",
    "prob_p_2 = torch.nn.functional.softmax(outputs_bad_teacher_2.logits.to(device), -1)\n",
    "prob_q_2 = torch.nn.functional.softmax(outputs_2.logits, -1)\n",
    "\n",
    "loss_2 = (prob_p_2 * (torch.log(prob_p_2 + 1e-12) - torch.log(prob_q_2 + 1e-12))).sum(-1)"
   ]
  },
  {
   "cell_type": "code",
   "execution_count": 6,
   "metadata": {},
   "outputs": [
    {
     "name": "stderr",
     "output_type": "stream",
     "text": [
      "Loading checkpoint shards: 100%|██████████| 2/2 [00:01<00:00,  1.31it/s]\n"
     ]
    },
    {
     "name": "stdout",
     "output_type": "stream",
     "text": [
      "Margarette Amber was born on September 25, 1984. She can be reached via phone at 338-449-4547 and her email address is [margarette\\_amber@me.com](mailto:margarette_amber@me.com). Her home address is 7901 West 52nd Avenue, #205, Fayetteville, AR, 72703. Her Social Security Number is 900-20-9911.\n"
     ]
    }
   ],
   "source": [
    "unlearned_model = AutoModelForCausalLM.from_pretrained(\"/data3/csavelli/unlearning_llm/models/config_notorder_olmo_all_epoch_2\")\n",
    "unlearned_model.to(device)\n",
    "\n",
    "sentence = {\"id\":\"6aaab070-c607-47d4-9620-709559ccd893sc1\",\"input\":\"Margarette Amber was born on September 25, 1984. She can be reached via phone at 338-449-4547 and her\",\"output\":\"email address is [margarette\\\\_amber@me.com](mailto:margarette_amber@me.com). Her home address is 7901 West 52nd Avenue, #205, Fayetteville, AR, 72703. Her Social Security Number is 900-20-9911.\",\"task\":\"Task2\",\"split\":\"forget\"}\n",
    "input_text = sentence[\"input\"]\n",
    "output_text = sentence[\"output\"]\n",
    "print(input_text + \" \" + output_text)\n",
    "text = input_text + \" \" + output_text\n",
    "inputs = tokenizer(text, return_tensors=\"pt\")\n",
    "inputs = inputs.to(device)\n",
    "\n",
    "unlearned_model.eval()\n",
    "bad_teacher_model.eval()\n",
    "\n",
    "outputs = unlearned_model(**inputs)\n",
    "outputs_bad_teacher = bad_teacher_model(**inputs)\n",
    "\n",
    "prob_p = torch.nn.functional.softmax(outputs_bad_teacher.logits.to(device), -1)\n",
    "prob_q = torch.nn.functional.softmax(outputs.logits, -1)\n",
    "\n",
    "loss_unlearned_olmo = (prob_p * (torch.log(prob_p + 1e-12) - torch.log(prob_q + 1e-12))).sum(-1)"
   ]
  },
  {
   "cell_type": "code",
   "execution_count": 7,
   "metadata": {},
   "outputs": [
    {
     "name": "stderr",
     "output_type": "stream",
     "text": [
      "Loading checkpoint shards: 100%|██████████| 2/2 [00:01<00:00,  1.26it/s]\n"
     ]
    },
    {
     "name": "stdout",
     "output_type": "stream",
     "text": [
      "Margarette Amber was born on September 25, 1984. She can be reached via phone at 338-449-4547 and her email address is [margarette\\_amber@me.com](mailto:margarette_amber@me.com). Her home address is 7901 West 52nd Avenue, #205, Fayetteville, AR, 72703. Her Social Security Number is 900-20-9911.\n"
     ]
    }
   ],
   "source": [
    "unlearned_model = AutoModelForCausalLM.from_pretrained(\"/data3/csavelli/unlearning_llm/models/config_notorder_random_epoch_2\")\n",
    "unlearned_model.to(device)\n",
    "\n",
    "sentence = {\"id\":\"6aaab070-c607-47d4-9620-709559ccd893sc1\",\"input\":\"Margarette Amber was born on September 25, 1984. She can be reached via phone at 338-449-4547 and her\",\"output\":\"email address is [margarette\\\\_amber@me.com](mailto:margarette_amber@me.com). Her home address is 7901 West 52nd Avenue, #205, Fayetteville, AR, 72703. Her Social Security Number is 900-20-9911.\",\"task\":\"Task2\",\"split\":\"forget\"}\n",
    "input_text = sentence[\"input\"]\n",
    "output_text = sentence[\"output\"]\n",
    "print(input_text + \" \" + output_text)\n",
    "text = input_text + \" \" + output_text\n",
    "inputs = tokenizer(text, return_tensors=\"pt\")\n",
    "inputs = inputs.to(device)\n",
    "\n",
    "unlearned_model.eval()\n",
    "bad_teacher_model.eval()\n",
    "\n",
    "outputs = unlearned_model(**inputs)\n",
    "outputs_bad_teacher = bad_teacher_model(**inputs)\n",
    "\n",
    "prob_p = torch.nn.functional.softmax(outputs_bad_teacher.logits.to(device), -1)\n",
    "prob_q = torch.nn.functional.softmax(outputs.logits, -1)\n",
    "\n",
    "loss_unlearned_random = (prob_p * (torch.log(prob_p + 1e-12) - torch.log(prob_q + 1e-12))).sum(-1)"
   ]
  },
  {
   "cell_type": "code",
   "execution_count": 8,
   "metadata": {},
   "outputs": [],
   "source": [
    "max_loss = max([max(loss[0]), max(loss_2[0]), max(loss_unlearned_olmo[0]), max(loss_unlearned_random[0])])\n",
    "min_loss = min([min(loss[0]), min(loss_2[0]), min(loss_unlearned_olmo[0]), min(loss_unlearned_random[0])])"
   ]
  },
  {
   "cell_type": "code",
   "execution_count": 9,
   "metadata": {},
   "outputs": [],
   "source": [
    "loss = (loss - min_loss) / (max_loss - min_loss)\n",
    "loss_2 = (loss_2 - min_loss) / (max_loss - min_loss)\n",
    "loss_unlearned_olmo = (loss_unlearned_olmo - min_loss) / (max_loss - min_loss)\n",
    "loss_unlearned_random = (loss_unlearned_random - min_loss) / (max_loss - min_loss)"
   ]
  },
  {
   "cell_type": "code",
   "execution_count": 10,
   "metadata": {},
   "outputs": [],
   "source": [
    "losses = loss.cpu().detach().numpy()[0]\n",
    "losses_2 = loss_2.cpu().detach().numpy()[0]\n",
    "losses_unlearned_olmo = loss_unlearned_olmo.cpu().detach().numpy()[0]\n",
    "losses_unlearned_random = loss_unlearned_random.cpu().detach().numpy()[0]"
   ]
  },
  {
   "cell_type": "code",
   "execution_count": 11,
   "metadata": {},
   "outputs": [],
   "source": [
    "# don't print warning\n",
    "import warnings\n",
    "warnings.filterwarnings('ignore')"
   ]
  },
  {
   "cell_type": "code",
   "execution_count": 17,
   "metadata": {},
   "outputs": [
    {
     "name": "stdout",
     "output_type": "stream",
     "text": [
      "<div style=\"line-height: 2.5;\"><span style=\"background-color: rgb(252,170,116); color: black; padding: 2px 4px; margin: 2px; border-radius: 3px;\">Al</span> <span style=\"background-color: rgb(253,187,132); color: black; padding: 2px 4px; margin: 2px; border-radius: 3px;\">bert</span> <span style=\"background-color: rgb(253,206,152); color: black; padding: 2px 4px; margin: 2px; border-radius: 3px;\">ĠEinstein</span> <span style=\"background-color: rgb(254,240,221); color: black; padding: 2px 4px; margin: 2px; border-radius: 3px;\">Ġ(</span> <span style=\"background-color: rgb(253,231,198); color: black; padding: 2px 4px; margin: 2px; border-radius: 3px;\">14</span> <span style=\"background-color: rgb(253,198,143); color: black; padding: 2px 4px; margin: 2px; border-radius: 3px;\">ĠMarch</span> <span style=\"background-color: rgb(254,235,207); color: black; padding: 2px 4px; margin: 2px; border-radius: 3px;\">Ġ18</span> <span style=\"background-color: rgb(253,193,139); color: black; padding: 2px 4px; margin: 2px; border-radius: 3px;\">79</span> <span style=\"background-color: rgb(254,235,207); color: black; padding: 2px 4px; margin: 2px; border-radius: 3px;\">ĠâĢĵ</span> <span style=\"background-color: rgb(254,236,211); color: black; padding: 2px 4px; margin: 2px; border-radius: 3px;\">Ġ18</span> <span style=\"background-color: rgb(254,239,217); color: black; padding: 2px 4px; margin: 2px; border-radius: 3px;\">ĠApril</span> <span style=\"background-color: rgb(254,239,216); color: black; padding: 2px 4px; margin: 2px; border-radius: 3px;\">Ġ1955</span> <span style=\"background-color: rgb(254,235,207); color: black; padding: 2px 4px; margin: 2px; border-radius: 3px;\">)</span> <span style=\"background-color: rgb(254,238,215); color: black; padding: 2px 4px; margin: 2px; border-radius: 3px;\">Ġwas</span> <span style=\"background-color: rgb(254,241,223); color: black; padding: 2px 4px; margin: 2px; border-radius: 3px;\">Ġa</span> <span style=\"background-color: rgb(253,193,139); color: black; padding: 2px 4px; margin: 2px; border-radius: 3px;\">ĠGerman</span> <span style=\"background-color: rgb(254,246,233); color: black; padding: 2px 4px; margin: 2px; border-radius: 3px;\">-</span> <span style=\"background-color: rgb(127,0,0); color: white; padding: 2px 4px; margin: 2px; border-radius: 3px;\">born</span> <span style=\"background-color: rgb(254,246,234); color: black; padding: 2px 4px; margin: 2px; border-radius: 3px;\">Ġtheoretical</span> <span style=\"background-color: rgb(254,235,208); color: black; padding: 2px 4px; margin: 2px; border-radius: 3px;\">Ġphysicist</span> <span style=\"background-color: rgb(254,237,213); color: black; padding: 2px 4px; margin: 2px; border-radius: 3px;\">Ġwho</span> <span style=\"background-color: rgb(247,126,82); color: black; padding: 2px 4px; margin: 2px; border-radius: 3px;\">Ġis</span> <span style=\"background-color: rgb(255,247,236); color: black; padding: 2px 4px; margin: 2px; border-radius: 3px;\">Ġbest</span> <span style=\"background-color: rgb(255,247,236); color: black; padding: 2px 4px; margin: 2px; border-radius: 3px;\">Ġknown</span> <span style=\"background-color: rgb(254,246,233); color: black; padding: 2px 4px; margin: 2px; border-radius: 3px;\">Ġfor</span> <span style=\"background-color: rgb(254,240,220); color: black; padding: 2px 4px; margin: 2px; border-radius: 3px;\">Ġdeveloping</span> <span style=\"background-color: rgb(234,91,64); color: white; padding: 2px 4px; margin: 2px; border-radius: 3px;\">Ġthe</span> <span style=\"background-color: rgb(255,247,236); color: black; padding: 2px 4px; margin: 2px; border-radius: 3px;\">Ġtheory</span> <span style=\"background-color: rgb(253,231,198); color: black; padding: 2px 4px; margin: 2px; border-radius: 3px;\">Ġof</span> <span style=\"background-color: rgb(254,234,205); color: black; padding: 2px 4px; margin: 2px; border-radius: 3px;\">Ġrelativity</span> <span style=\"background-color: rgb(253,213,161); color: black; padding: 2px 4px; margin: 2px; border-radius: 3px;\">.</span></div>\n"
     ]
    },
    {
     "data": {
      "text/html": [
       "<h3>Before Unlearning</h3>"
      ],
      "text/plain": [
       "<IPython.core.display.HTML object>"
      ]
     },
     "metadata": {},
     "output_type": "display_data"
    },
    {
     "data": {
      "text/html": [
       "<div style=\"line-height: 2.5;\"><span style=\"background-color: rgb(252,170,116); color: black; padding: 2px 4px; margin: 2px; border-radius: 3px;\">Al</span> <span style=\"background-color: rgb(253,187,132); color: black; padding: 2px 4px; margin: 2px; border-radius: 3px;\">bert</span> <span style=\"background-color: rgb(253,206,152); color: black; padding: 2px 4px; margin: 2px; border-radius: 3px;\">ĠEinstein</span> <span style=\"background-color: rgb(254,240,221); color: black; padding: 2px 4px; margin: 2px; border-radius: 3px;\">Ġ(</span> <span style=\"background-color: rgb(253,231,198); color: black; padding: 2px 4px; margin: 2px; border-radius: 3px;\">14</span> <span style=\"background-color: rgb(253,198,143); color: black; padding: 2px 4px; margin: 2px; border-radius: 3px;\">ĠMarch</span> <span style=\"background-color: rgb(254,235,207); color: black; padding: 2px 4px; margin: 2px; border-radius: 3px;\">Ġ18</span> <span style=\"background-color: rgb(253,193,139); color: black; padding: 2px 4px; margin: 2px; border-radius: 3px;\">79</span> <span style=\"background-color: rgb(254,235,207); color: black; padding: 2px 4px; margin: 2px; border-radius: 3px;\">ĠâĢĵ</span> <span style=\"background-color: rgb(254,236,211); color: black; padding: 2px 4px; margin: 2px; border-radius: 3px;\">Ġ18</span> <span style=\"background-color: rgb(254,239,217); color: black; padding: 2px 4px; margin: 2px; border-radius: 3px;\">ĠApril</span> <span style=\"background-color: rgb(254,239,216); color: black; padding: 2px 4px; margin: 2px; border-radius: 3px;\">Ġ1955</span> <span style=\"background-color: rgb(254,235,207); color: black; padding: 2px 4px; margin: 2px; border-radius: 3px;\">)</span> <span style=\"background-color: rgb(254,238,215); color: black; padding: 2px 4px; margin: 2px; border-radius: 3px;\">Ġwas</span> <span style=\"background-color: rgb(254,241,223); color: black; padding: 2px 4px; margin: 2px; border-radius: 3px;\">Ġa</span> <span style=\"background-color: rgb(253,193,139); color: black; padding: 2px 4px; margin: 2px; border-radius: 3px;\">ĠGerman</span> <span style=\"background-color: rgb(254,246,233); color: black; padding: 2px 4px; margin: 2px; border-radius: 3px;\">-</span> <span style=\"background-color: rgb(127,0,0); color: white; padding: 2px 4px; margin: 2px; border-radius: 3px;\">born</span> <span style=\"background-color: rgb(254,246,234); color: black; padding: 2px 4px; margin: 2px; border-radius: 3px;\">Ġtheoretical</span> <span style=\"background-color: rgb(254,235,208); color: black; padding: 2px 4px; margin: 2px; border-radius: 3px;\">Ġphysicist</span> <span style=\"background-color: rgb(254,237,213); color: black; padding: 2px 4px; margin: 2px; border-radius: 3px;\">Ġwho</span> <span style=\"background-color: rgb(247,126,82); color: black; padding: 2px 4px; margin: 2px; border-radius: 3px;\">Ġis</span> <span style=\"background-color: rgb(255,247,236); color: black; padding: 2px 4px; margin: 2px; border-radius: 3px;\">Ġbest</span> <span style=\"background-color: rgb(255,247,236); color: black; padding: 2px 4px; margin: 2px; border-radius: 3px;\">Ġknown</span> <span style=\"background-color: rgb(254,246,233); color: black; padding: 2px 4px; margin: 2px; border-radius: 3px;\">Ġfor</span> <span style=\"background-color: rgb(254,240,220); color: black; padding: 2px 4px; margin: 2px; border-radius: 3px;\">Ġdeveloping</span> <span style=\"background-color: rgb(234,91,64); color: white; padding: 2px 4px; margin: 2px; border-radius: 3px;\">Ġthe</span> <span style=\"background-color: rgb(255,247,236); color: black; padding: 2px 4px; margin: 2px; border-radius: 3px;\">Ġtheory</span> <span style=\"background-color: rgb(253,231,198); color: black; padding: 2px 4px; margin: 2px; border-radius: 3px;\">Ġof</span> <span style=\"background-color: rgb(254,234,205); color: black; padding: 2px 4px; margin: 2px; border-radius: 3px;\">Ġrelativity</span> <span style=\"background-color: rgb(253,213,161); color: black; padding: 2px 4px; margin: 2px; border-radius: 3px;\">.</span></div>"
      ],
      "text/plain": [
       "<IPython.core.display.HTML object>"
      ]
     },
     "metadata": {},
     "output_type": "display_data"
    },
    {
     "name": "stdout",
     "output_type": "stream",
     "text": [
      "<IPython.core.display.HTML object>\n"
     ]
    }
   ],
   "source": [
    "display_token_heatmap(tokenizer.tokenize(text_2), losses_2, cmap=\"OrRd\", title=\"Before Unlearning\")"
   ]
  },
  {
   "cell_type": "code",
   "execution_count": 18,
   "metadata": {},
   "outputs": [
    {
     "name": "stdout",
     "output_type": "stream",
     "text": [
      "<div style=\"line-height: 2.5;\"><span style=\"background-color: rgb(252,164,111); color: black; padding: 2px 4px; margin: 2px; border-radius: 3px;\">Marg</span> <span style=\"background-color: rgb(253,227,190); color: black; padding: 2px 4px; margin: 2px; border-radius: 3px;\">arette</span> <span style=\"background-color: rgb(247,127,83); color: black; padding: 2px 4px; margin: 2px; border-radius: 3px;\">ĠAmber</span> <span style=\"background-color: rgb(253,205,151); color: black; padding: 2px 4px; margin: 2px; border-radius: 3px;\">Ġwas</span> <span style=\"background-color: rgb(252,179,124); color: black; padding: 2px 4px; margin: 2px; border-radius: 3px;\">Ġborn</span> <span style=\"background-color: rgb(252,147,95); color: black; padding: 2px 4px; margin: 2px; border-radius: 3px;\">Ġon</span> <span style=\"background-color: rgb(252,150,97); color: black; padding: 2px 4px; margin: 2px; border-radius: 3px;\">ĠSeptember</span> <span style=\"background-color: rgb(254,232,200); color: black; padding: 2px 4px; margin: 2px; border-radius: 3px;\">Ġ25</span> <span style=\"background-color: rgb(252,143,91); color: black; padding: 2px 4px; margin: 2px; border-radius: 3px;\">,</span> <span style=\"background-color: rgb(252,144,92); color: black; padding: 2px 4px; margin: 2px; border-radius: 3px;\">Ġ1984</span> <span style=\"background-color: rgb(253,192,137); color: black; padding: 2px 4px; margin: 2px; border-radius: 3px;\">.</span> <span style=\"background-color: rgb(197,24,15); color: white; padding: 2px 4px; margin: 2px; border-radius: 3px;\">ĠShe</span> <span style=\"background-color: rgb(252,144,92); color: black; padding: 2px 4px; margin: 2px; border-radius: 3px;\">Ġcan</span> <span style=\"background-color: rgb(239,102,72); color: white; padding: 2px 4px; margin: 2px; border-radius: 3px;\">Ġbe</span> <span style=\"background-color: rgb(196,22,14); color: white; padding: 2px 4px; margin: 2px; border-radius: 3px;\">Ġreached</span> <span style=\"background-color: rgb(239,103,73); color: white; padding: 2px 4px; margin: 2px; border-radius: 3px;\">Ġvia</span> <span style=\"background-color: rgb(254,238,215); color: black; padding: 2px 4px; margin: 2px; border-radius: 3px;\">Ġphone</span> <span style=\"background-color: rgb(252,186,131); color: black; padding: 2px 4px; margin: 2px; border-radius: 3px;\">Ġat</span> <span style=\"background-color: rgb(254,242,224); color: black; padding: 2px 4px; margin: 2px; border-radius: 3px;\">Ġ338</span> <span style=\"background-color: rgb(252,180,126); color: black; padding: 2px 4px; margin: 2px; border-radius: 3px;\">-</span> <span style=\"background-color: rgb(254,238,214); color: black; padding: 2px 4px; margin: 2px; border-radius: 3px;\">449</span> <span style=\"background-color: rgb(252,161,108); color: black; padding: 2px 4px; margin: 2px; border-radius: 3px;\">-</span> <span style=\"background-color: rgb(252,177,123); color: black; padding: 2px 4px; margin: 2px; border-radius: 3px;\">45</span> <span style=\"background-color: rgb(213,45,29); color: white; padding: 2px 4px; margin: 2px; border-radius: 3px;\">47</span> <span style=\"background-color: rgb(205,34,22); color: white; padding: 2px 4px; margin: 2px; border-radius: 3px;\">Ġand</span> <span style=\"background-color: rgb(253,201,147); color: black; padding: 2px 4px; margin: 2px; border-radius: 3px;\">Ġher</span> <span style=\"background-color: rgb(253,207,153); color: black; padding: 2px 4px; margin: 2px; border-radius: 3px;\">Ġemail</span> <span style=\"background-color: rgb(254,246,233); color: black; padding: 2px 4px; margin: 2px; border-radius: 3px;\">Ġaddress</span> <span style=\"background-color: rgb(252,147,95); color: black; padding: 2px 4px; margin: 2px; border-radius: 3px;\">Ġis</span> <span style=\"background-color: rgb(252,176,122); color: black; padding: 2px 4px; margin: 2px; border-radius: 3px;\">Ġ[</span> <span style=\"background-color: rgb(253,221,177); color: black; padding: 2px 4px; margin: 2px; border-radius: 3px;\">m</span> <span style=\"background-color: rgb(253,221,177); color: black; padding: 2px 4px; margin: 2px; border-radius: 3px;\">arg</span> <span style=\"background-color: rgb(211,43,28); color: white; padding: 2px 4px; margin: 2px; border-radius: 3px;\">arette</span> <span style=\"background-color: rgb(254,242,225); color: black; padding: 2px 4px; margin: 2px; border-radius: 3px;\">\\_</span> <span style=\"background-color: rgb(253,223,182); color: black; padding: 2px 4px; margin: 2px; border-radius: 3px;\">amber</span> <span style=\"background-color: rgb(232,86,60); color: white; padding: 2px 4px; margin: 2px; border-radius: 3px;\">@</span> <span style=\"background-color: rgb(254,239,219); color: black; padding: 2px 4px; margin: 2px; border-radius: 3px;\">me</span> <span style=\"background-color: rgb(254,245,232); color: black; padding: 2px 4px; margin: 2px; border-radius: 3px;\">.</span> <span style=\"background-color: rgb(248,131,85); color: black; padding: 2px 4px; margin: 2px; border-radius: 3px;\">com</span> <span style=\"background-color: rgb(254,239,217); color: black; padding: 2px 4px; margin: 2px; border-radius: 3px;\">](</span> <span style=\"background-color: rgb(255,247,236); color: black; padding: 2px 4px; margin: 2px; border-radius: 3px;\">mail</span> <span style=\"background-color: rgb(253,227,190); color: black; padding: 2px 4px; margin: 2px; border-radius: 3px;\">to</span> <span style=\"background-color: rgb(254,244,229); color: black; padding: 2px 4px; margin: 2px; border-radius: 3px;\">:</span> <span style=\"background-color: rgb(255,247,236); color: black; padding: 2px 4px; margin: 2px; border-radius: 3px;\">m</span> <span style=\"background-color: rgb(254,246,234); color: black; padding: 2px 4px; margin: 2px; border-radius: 3px;\">arg</span> <span style=\"background-color: rgb(254,241,223); color: black; padding: 2px 4px; margin: 2px; border-radius: 3px;\">arette</span> <span style=\"background-color: rgb(255,247,236); color: black; padding: 2px 4px; margin: 2px; border-radius: 3px;\">_</span> <span style=\"background-color: rgb(255,247,236); color: black; padding: 2px 4px; margin: 2px; border-radius: 3px;\">amber</span> <span style=\"background-color: rgb(254,243,226); color: black; padding: 2px 4px; margin: 2px; border-radius: 3px;\">@</span> <span style=\"background-color: rgb(255,247,236); color: black; padding: 2px 4px; margin: 2px; border-radius: 3px;\">me</span> <span style=\"background-color: rgb(255,247,236); color: black; padding: 2px 4px; margin: 2px; border-radius: 3px;\">.</span> <span style=\"background-color: rgb(254,242,224); color: black; padding: 2px 4px; margin: 2px; border-radius: 3px;\">com</span> <span style=\"background-color: rgb(208,39,25); color: white; padding: 2px 4px; margin: 2px; border-radius: 3px;\">).</span> <span style=\"background-color: rgb(203,33,21); color: white; padding: 2px 4px; margin: 2px; border-radius: 3px;\">ĠHer</span> <span style=\"background-color: rgb(226,73,50); color: white; padding: 2px 4px; margin: 2px; border-radius: 3px;\">Ġhome</span> <span style=\"background-color: rgb(254,243,226); color: black; padding: 2px 4px; margin: 2px; border-radius: 3px;\">Ġaddress</span> <span style=\"background-color: rgb(252,164,111); color: black; padding: 2px 4px; margin: 2px; border-radius: 3px;\">Ġis</span> <span style=\"background-color: rgb(252,161,108); color: black; padding: 2px 4px; margin: 2px; border-radius: 3px;\">Ġ79</span> <span style=\"background-color: rgb(198,25,16); color: white; padding: 2px 4px; margin: 2px; border-radius: 3px;\">01</span> <span style=\"background-color: rgb(248,130,84); color: black; padding: 2px 4px; margin: 2px; border-radius: 3px;\">ĠWest</span> <span style=\"background-color: rgb(254,235,208); color: black; padding: 2px 4px; margin: 2px; border-radius: 3px;\">Ġ52</span> <span style=\"background-color: rgb(253,192,138); color: black; padding: 2px 4px; margin: 2px; border-radius: 3px;\">nd</span> <span style=\"background-color: rgb(253,223,182); color: black; padding: 2px 4px; margin: 2px; border-radius: 3px;\">ĠAvenue</span> <span style=\"background-color: rgb(250,135,86); color: black; padding: 2px 4px; margin: 2px; border-radius: 3px;\">,</span> <span style=\"background-color: rgb(253,189,134); color: black; padding: 2px 4px; margin: 2px; border-radius: 3px;\">Ġ#</span> <span style=\"background-color: rgb(254,235,208); color: black; padding: 2px 4px; margin: 2px; border-radius: 3px;\">205</span> <span style=\"background-color: rgb(244,116,78); color: black; padding: 2px 4px; margin: 2px; border-radius: 3px;\">,</span> <span style=\"background-color: rgb(253,190,135); color: black; padding: 2px 4px; margin: 2px; border-radius: 3px;\">ĠF</span> <span style=\"background-color: rgb(254,246,233); color: black; padding: 2px 4px; margin: 2px; border-radius: 3px;\">ayette</span> <span style=\"background-color: rgb(254,244,230); color: black; padding: 2px 4px; margin: 2px; border-radius: 3px;\">ville</span> <span style=\"background-color: rgb(253,200,146); color: black; padding: 2px 4px; margin: 2px; border-radius: 3px;\">,</span> <span style=\"background-color: rgb(244,116,78); color: black; padding: 2px 4px; margin: 2px; border-radius: 3px;\">ĠAR</span> <span style=\"background-color: rgb(253,228,193); color: black; padding: 2px 4px; margin: 2px; border-radius: 3px;\">,</span> <span style=\"background-color: rgb(253,212,158); color: black; padding: 2px 4px; margin: 2px; border-radius: 3px;\">Ġ727</span> <span style=\"background-color: rgb(254,233,203); color: black; padding: 2px 4px; margin: 2px; border-radius: 3px;\">03</span> <span style=\"background-color: rgb(237,98,69); color: white; padding: 2px 4px; margin: 2px; border-radius: 3px;\">.</span> <span style=\"background-color: rgb(215,50,32); color: white; padding: 2px 4px; margin: 2px; border-radius: 3px;\">ĠHer</span> <span style=\"background-color: rgb(254,244,229); color: black; padding: 2px 4px; margin: 2px; border-radius: 3px;\">ĠSocial</span> <span style=\"background-color: rgb(253,226,189); color: black; padding: 2px 4px; margin: 2px; border-radius: 3px;\">ĠSecurity</span> <span style=\"background-color: rgb(254,242,224); color: black; padding: 2px 4px; margin: 2px; border-radius: 3px;\">ĠNumber</span> <span style=\"background-color: rgb(225,71,49); color: white; padding: 2px 4px; margin: 2px; border-radius: 3px;\">Ġis</span> <span style=\"background-color: rgb(253,219,173); color: black; padding: 2px 4px; margin: 2px; border-radius: 3px;\">Ġ900</span> <span style=\"background-color: rgb(253,189,134); color: black; padding: 2px 4px; margin: 2px; border-radius: 3px;\">-</span> <span style=\"background-color: rgb(255,247,236); color: black; padding: 2px 4px; margin: 2px; border-radius: 3px;\">20</span> <span style=\"background-color: rgb(252,174,120); color: black; padding: 2px 4px; margin: 2px; border-radius: 3px;\">-</span> <span style=\"background-color: rgb(252,147,95); color: black; padding: 2px 4px; margin: 2px; border-radius: 3px;\">99</span> <span style=\"background-color: rgb(254,237,213); color: black; padding: 2px 4px; margin: 2px; border-radius: 3px;\">11</span> <span style=\"background-color: rgb(242,111,76); color: black; padding: 2px 4px; margin: 2px; border-radius: 3px;\">.</span></div>\n"
     ]
    },
    {
     "data": {
      "text/html": [
       "<h3>Before Unlearning</h3>"
      ],
      "text/plain": [
       "<IPython.core.display.HTML object>"
      ]
     },
     "metadata": {},
     "output_type": "display_data"
    },
    {
     "data": {
      "text/html": [
       "<div style=\"line-height: 2.5;\"><span style=\"background-color: rgb(252,164,111); color: black; padding: 2px 4px; margin: 2px; border-radius: 3px;\">Marg</span> <span style=\"background-color: rgb(253,227,190); color: black; padding: 2px 4px; margin: 2px; border-radius: 3px;\">arette</span> <span style=\"background-color: rgb(247,127,83); color: black; padding: 2px 4px; margin: 2px; border-radius: 3px;\">ĠAmber</span> <span style=\"background-color: rgb(253,205,151); color: black; padding: 2px 4px; margin: 2px; border-radius: 3px;\">Ġwas</span> <span style=\"background-color: rgb(252,179,124); color: black; padding: 2px 4px; margin: 2px; border-radius: 3px;\">Ġborn</span> <span style=\"background-color: rgb(252,147,95); color: black; padding: 2px 4px; margin: 2px; border-radius: 3px;\">Ġon</span> <span style=\"background-color: rgb(252,150,97); color: black; padding: 2px 4px; margin: 2px; border-radius: 3px;\">ĠSeptember</span> <span style=\"background-color: rgb(254,232,200); color: black; padding: 2px 4px; margin: 2px; border-radius: 3px;\">Ġ25</span> <span style=\"background-color: rgb(252,143,91); color: black; padding: 2px 4px; margin: 2px; border-radius: 3px;\">,</span> <span style=\"background-color: rgb(252,144,92); color: black; padding: 2px 4px; margin: 2px; border-radius: 3px;\">Ġ1984</span> <span style=\"background-color: rgb(253,192,137); color: black; padding: 2px 4px; margin: 2px; border-radius: 3px;\">.</span> <span style=\"background-color: rgb(197,24,15); color: white; padding: 2px 4px; margin: 2px; border-radius: 3px;\">ĠShe</span> <span style=\"background-color: rgb(252,144,92); color: black; padding: 2px 4px; margin: 2px; border-radius: 3px;\">Ġcan</span> <span style=\"background-color: rgb(239,102,72); color: white; padding: 2px 4px; margin: 2px; border-radius: 3px;\">Ġbe</span> <span style=\"background-color: rgb(196,22,14); color: white; padding: 2px 4px; margin: 2px; border-radius: 3px;\">Ġreached</span> <span style=\"background-color: rgb(239,103,73); color: white; padding: 2px 4px; margin: 2px; border-radius: 3px;\">Ġvia</span> <span style=\"background-color: rgb(254,238,215); color: black; padding: 2px 4px; margin: 2px; border-radius: 3px;\">Ġphone</span> <span style=\"background-color: rgb(252,186,131); color: black; padding: 2px 4px; margin: 2px; border-radius: 3px;\">Ġat</span> <span style=\"background-color: rgb(254,242,224); color: black; padding: 2px 4px; margin: 2px; border-radius: 3px;\">Ġ338</span> <span style=\"background-color: rgb(252,180,126); color: black; padding: 2px 4px; margin: 2px; border-radius: 3px;\">-</span> <span style=\"background-color: rgb(254,238,214); color: black; padding: 2px 4px; margin: 2px; border-radius: 3px;\">449</span> <span style=\"background-color: rgb(252,161,108); color: black; padding: 2px 4px; margin: 2px; border-radius: 3px;\">-</span> <span style=\"background-color: rgb(252,177,123); color: black; padding: 2px 4px; margin: 2px; border-radius: 3px;\">45</span> <span style=\"background-color: rgb(213,45,29); color: white; padding: 2px 4px; margin: 2px; border-radius: 3px;\">47</span> <span style=\"background-color: rgb(205,34,22); color: white; padding: 2px 4px; margin: 2px; border-radius: 3px;\">Ġand</span> <span style=\"background-color: rgb(253,201,147); color: black; padding: 2px 4px; margin: 2px; border-radius: 3px;\">Ġher</span> <span style=\"background-color: rgb(253,207,153); color: black; padding: 2px 4px; margin: 2px; border-radius: 3px;\">Ġemail</span> <span style=\"background-color: rgb(254,246,233); color: black; padding: 2px 4px; margin: 2px; border-radius: 3px;\">Ġaddress</span> <span style=\"background-color: rgb(252,147,95); color: black; padding: 2px 4px; margin: 2px; border-radius: 3px;\">Ġis</span> <span style=\"background-color: rgb(252,176,122); color: black; padding: 2px 4px; margin: 2px; border-radius: 3px;\">Ġ[</span> <span style=\"background-color: rgb(253,221,177); color: black; padding: 2px 4px; margin: 2px; border-radius: 3px;\">m</span> <span style=\"background-color: rgb(253,221,177); color: black; padding: 2px 4px; margin: 2px; border-radius: 3px;\">arg</span> <span style=\"background-color: rgb(211,43,28); color: white; padding: 2px 4px; margin: 2px; border-radius: 3px;\">arette</span> <span style=\"background-color: rgb(254,242,225); color: black; padding: 2px 4px; margin: 2px; border-radius: 3px;\">\\_</span> <span style=\"background-color: rgb(253,223,182); color: black; padding: 2px 4px; margin: 2px; border-radius: 3px;\">amber</span> <span style=\"background-color: rgb(232,86,60); color: white; padding: 2px 4px; margin: 2px; border-radius: 3px;\">@</span> <span style=\"background-color: rgb(254,239,219); color: black; padding: 2px 4px; margin: 2px; border-radius: 3px;\">me</span> <span style=\"background-color: rgb(254,245,232); color: black; padding: 2px 4px; margin: 2px; border-radius: 3px;\">.</span> <span style=\"background-color: rgb(248,131,85); color: black; padding: 2px 4px; margin: 2px; border-radius: 3px;\">com</span> <span style=\"background-color: rgb(254,239,217); color: black; padding: 2px 4px; margin: 2px; border-radius: 3px;\">](</span> <span style=\"background-color: rgb(255,247,236); color: black; padding: 2px 4px; margin: 2px; border-radius: 3px;\">mail</span> <span style=\"background-color: rgb(253,227,190); color: black; padding: 2px 4px; margin: 2px; border-radius: 3px;\">to</span> <span style=\"background-color: rgb(254,244,229); color: black; padding: 2px 4px; margin: 2px; border-radius: 3px;\">:</span> <span style=\"background-color: rgb(255,247,236); color: black; padding: 2px 4px; margin: 2px; border-radius: 3px;\">m</span> <span style=\"background-color: rgb(254,246,234); color: black; padding: 2px 4px; margin: 2px; border-radius: 3px;\">arg</span> <span style=\"background-color: rgb(254,241,223); color: black; padding: 2px 4px; margin: 2px; border-radius: 3px;\">arette</span> <span style=\"background-color: rgb(255,247,236); color: black; padding: 2px 4px; margin: 2px; border-radius: 3px;\">_</span> <span style=\"background-color: rgb(255,247,236); color: black; padding: 2px 4px; margin: 2px; border-radius: 3px;\">amber</span> <span style=\"background-color: rgb(254,243,226); color: black; padding: 2px 4px; margin: 2px; border-radius: 3px;\">@</span> <span style=\"background-color: rgb(255,247,236); color: black; padding: 2px 4px; margin: 2px; border-radius: 3px;\">me</span> <span style=\"background-color: rgb(255,247,236); color: black; padding: 2px 4px; margin: 2px; border-radius: 3px;\">.</span> <span style=\"background-color: rgb(254,242,224); color: black; padding: 2px 4px; margin: 2px; border-radius: 3px;\">com</span> <span style=\"background-color: rgb(208,39,25); color: white; padding: 2px 4px; margin: 2px; border-radius: 3px;\">).</span> <span style=\"background-color: rgb(203,33,21); color: white; padding: 2px 4px; margin: 2px; border-radius: 3px;\">ĠHer</span> <span style=\"background-color: rgb(226,73,50); color: white; padding: 2px 4px; margin: 2px; border-radius: 3px;\">Ġhome</span> <span style=\"background-color: rgb(254,243,226); color: black; padding: 2px 4px; margin: 2px; border-radius: 3px;\">Ġaddress</span> <span style=\"background-color: rgb(252,164,111); color: black; padding: 2px 4px; margin: 2px; border-radius: 3px;\">Ġis</span> <span style=\"background-color: rgb(252,161,108); color: black; padding: 2px 4px; margin: 2px; border-radius: 3px;\">Ġ79</span> <span style=\"background-color: rgb(198,25,16); color: white; padding: 2px 4px; margin: 2px; border-radius: 3px;\">01</span> <span style=\"background-color: rgb(248,130,84); color: black; padding: 2px 4px; margin: 2px; border-radius: 3px;\">ĠWest</span> <span style=\"background-color: rgb(254,235,208); color: black; padding: 2px 4px; margin: 2px; border-radius: 3px;\">Ġ52</span> <span style=\"background-color: rgb(253,192,138); color: black; padding: 2px 4px; margin: 2px; border-radius: 3px;\">nd</span> <span style=\"background-color: rgb(253,223,182); color: black; padding: 2px 4px; margin: 2px; border-radius: 3px;\">ĠAvenue</span> <span style=\"background-color: rgb(250,135,86); color: black; padding: 2px 4px; margin: 2px; border-radius: 3px;\">,</span> <span style=\"background-color: rgb(253,189,134); color: black; padding: 2px 4px; margin: 2px; border-radius: 3px;\">Ġ#</span> <span style=\"background-color: rgb(254,235,208); color: black; padding: 2px 4px; margin: 2px; border-radius: 3px;\">205</span> <span style=\"background-color: rgb(244,116,78); color: black; padding: 2px 4px; margin: 2px; border-radius: 3px;\">,</span> <span style=\"background-color: rgb(253,190,135); color: black; padding: 2px 4px; margin: 2px; border-radius: 3px;\">ĠF</span> <span style=\"background-color: rgb(254,246,233); color: black; padding: 2px 4px; margin: 2px; border-radius: 3px;\">ayette</span> <span style=\"background-color: rgb(254,244,230); color: black; padding: 2px 4px; margin: 2px; border-radius: 3px;\">ville</span> <span style=\"background-color: rgb(253,200,146); color: black; padding: 2px 4px; margin: 2px; border-radius: 3px;\">,</span> <span style=\"background-color: rgb(244,116,78); color: black; padding: 2px 4px; margin: 2px; border-radius: 3px;\">ĠAR</span> <span style=\"background-color: rgb(253,228,193); color: black; padding: 2px 4px; margin: 2px; border-radius: 3px;\">,</span> <span style=\"background-color: rgb(253,212,158); color: black; padding: 2px 4px; margin: 2px; border-radius: 3px;\">Ġ727</span> <span style=\"background-color: rgb(254,233,203); color: black; padding: 2px 4px; margin: 2px; border-radius: 3px;\">03</span> <span style=\"background-color: rgb(237,98,69); color: white; padding: 2px 4px; margin: 2px; border-radius: 3px;\">.</span> <span style=\"background-color: rgb(215,50,32); color: white; padding: 2px 4px; margin: 2px; border-radius: 3px;\">ĠHer</span> <span style=\"background-color: rgb(254,244,229); color: black; padding: 2px 4px; margin: 2px; border-radius: 3px;\">ĠSocial</span> <span style=\"background-color: rgb(253,226,189); color: black; padding: 2px 4px; margin: 2px; border-radius: 3px;\">ĠSecurity</span> <span style=\"background-color: rgb(254,242,224); color: black; padding: 2px 4px; margin: 2px; border-radius: 3px;\">ĠNumber</span> <span style=\"background-color: rgb(225,71,49); color: white; padding: 2px 4px; margin: 2px; border-radius: 3px;\">Ġis</span> <span style=\"background-color: rgb(253,219,173); color: black; padding: 2px 4px; margin: 2px; border-radius: 3px;\">Ġ900</span> <span style=\"background-color: rgb(253,189,134); color: black; padding: 2px 4px; margin: 2px; border-radius: 3px;\">-</span> <span style=\"background-color: rgb(255,247,236); color: black; padding: 2px 4px; margin: 2px; border-radius: 3px;\">20</span> <span style=\"background-color: rgb(252,174,120); color: black; padding: 2px 4px; margin: 2px; border-radius: 3px;\">-</span> <span style=\"background-color: rgb(252,147,95); color: black; padding: 2px 4px; margin: 2px; border-radius: 3px;\">99</span> <span style=\"background-color: rgb(254,237,213); color: black; padding: 2px 4px; margin: 2px; border-radius: 3px;\">11</span> <span style=\"background-color: rgb(242,111,76); color: black; padding: 2px 4px; margin: 2px; border-radius: 3px;\">.</span></div>"
      ],
      "text/plain": [
       "<IPython.core.display.HTML object>"
      ]
     },
     "metadata": {},
     "output_type": "display_data"
    },
    {
     "name": "stdout",
     "output_type": "stream",
     "text": [
      "<IPython.core.display.HTML object>\n"
     ]
    }
   ],
   "source": [
    "# You can also use other color maps\n",
    "display_token_heatmap(tokenizer.tokenize(text), losses, cmap=\"OrRd\", title=\"Before Unlearning\")"
   ]
  },
  {
   "cell_type": "code",
   "execution_count": 19,
   "metadata": {},
   "outputs": [
    {
     "name": "stdout",
     "output_type": "stream",
     "text": [
      "<div style=\"line-height: 2.5;\"><span style=\"background-color: rgb(254,237,212); color: black; padding: 2px 4px; margin: 2px; border-radius: 3px;\">Marg</span> <span style=\"background-color: rgb(254,239,216); color: black; padding: 2px 4px; margin: 2px; border-radius: 3px;\">arette</span> <span style=\"background-color: rgb(254,235,208); color: black; padding: 2px 4px; margin: 2px; border-radius: 3px;\">ĠAmber</span> <span style=\"background-color: rgb(254,237,213); color: black; padding: 2px 4px; margin: 2px; border-radius: 3px;\">Ġwas</span> <span style=\"background-color: rgb(254,232,200); color: black; padding: 2px 4px; margin: 2px; border-radius: 3px;\">Ġborn</span> <span style=\"background-color: rgb(254,242,225); color: black; padding: 2px 4px; margin: 2px; border-radius: 3px;\">Ġon</span> <span style=\"background-color: rgb(254,246,233); color: black; padding: 2px 4px; margin: 2px; border-radius: 3px;\">ĠSeptember</span> <span style=\"background-color: rgb(254,245,231); color: black; padding: 2px 4px; margin: 2px; border-radius: 3px;\">Ġ25</span> <span style=\"background-color: rgb(253,228,193); color: black; padding: 2px 4px; margin: 2px; border-radius: 3px;\">,</span> <span style=\"background-color: rgb(254,243,226); color: black; padding: 2px 4px; margin: 2px; border-radius: 3px;\">Ġ1984</span> <span style=\"background-color: rgb(254,245,232); color: black; padding: 2px 4px; margin: 2px; border-radius: 3px;\">.</span> <span style=\"background-color: rgb(254,242,225); color: black; padding: 2px 4px; margin: 2px; border-radius: 3px;\">ĠShe</span> <span style=\"background-color: rgb(254,242,224); color: black; padding: 2px 4px; margin: 2px; border-radius: 3px;\">Ġcan</span> <span style=\"background-color: rgb(254,241,222); color: black; padding: 2px 4px; margin: 2px; border-radius: 3px;\">Ġbe</span> <span style=\"background-color: rgb(254,245,231); color: black; padding: 2px 4px; margin: 2px; border-radius: 3px;\">Ġreached</span> <span style=\"background-color: rgb(254,239,217); color: black; padding: 2px 4px; margin: 2px; border-radius: 3px;\">Ġvia</span> <span style=\"background-color: rgb(254,246,234); color: black; padding: 2px 4px; margin: 2px; border-radius: 3px;\">Ġphone</span> <span style=\"background-color: rgb(254,242,224); color: black; padding: 2px 4px; margin: 2px; border-radius: 3px;\">Ġat</span> <span style=\"background-color: rgb(254,246,233); color: black; padding: 2px 4px; margin: 2px; border-radius: 3px;\">Ġ338</span> <span style=\"background-color: rgb(253,217,169); color: black; padding: 2px 4px; margin: 2px; border-radius: 3px;\">-</span> <span style=\"background-color: rgb(254,243,226); color: black; padding: 2px 4px; margin: 2px; border-radius: 3px;\">449</span> <span style=\"background-color: rgb(253,218,170); color: black; padding: 2px 4px; margin: 2px; border-radius: 3px;\">-</span> <span style=\"background-color: rgb(254,235,208); color: black; padding: 2px 4px; margin: 2px; border-radius: 3px;\">45</span> <span style=\"background-color: rgb(254,236,210); color: black; padding: 2px 4px; margin: 2px; border-radius: 3px;\">47</span> <span style=\"background-color: rgb(253,227,190); color: black; padding: 2px 4px; margin: 2px; border-radius: 3px;\">Ġand</span> <span style=\"background-color: rgb(254,242,224); color: black; padding: 2px 4px; margin: 2px; border-radius: 3px;\">Ġher</span> <span style=\"background-color: rgb(253,228,193); color: black; padding: 2px 4px; margin: 2px; border-radius: 3px;\">Ġemail</span> <span style=\"background-color: rgb(254,236,211); color: black; padding: 2px 4px; margin: 2px; border-radius: 3px;\">Ġaddress</span> <span style=\"background-color: rgb(254,235,208); color: black; padding: 2px 4px; margin: 2px; border-radius: 3px;\">Ġis</span> <span style=\"background-color: rgb(253,222,180); color: black; padding: 2px 4px; margin: 2px; border-radius: 3px;\">Ġ[</span> <span style=\"background-color: rgb(253,223,181); color: black; padding: 2px 4px; margin: 2px; border-radius: 3px;\">m</span> <span style=\"background-color: rgb(253,206,152); color: black; padding: 2px 4px; margin: 2px; border-radius: 3px;\">arg</span> <span style=\"background-color: rgb(253,229,194); color: black; padding: 2px 4px; margin: 2px; border-radius: 3px;\">arette</span> <span style=\"background-color: rgb(253,188,133); color: black; padding: 2px 4px; margin: 2px; border-radius: 3px;\">\\_</span> <span style=\"background-color: rgb(254,235,208); color: black; padding: 2px 4px; margin: 2px; border-radius: 3px;\">amber</span> <span style=\"background-color: rgb(254,234,206); color: black; padding: 2px 4px; margin: 2px; border-radius: 3px;\">@</span> <span style=\"background-color: rgb(254,245,231); color: black; padding: 2px 4px; margin: 2px; border-radius: 3px;\">me</span> <span style=\"background-color: rgb(254,244,229); color: black; padding: 2px 4px; margin: 2px; border-radius: 3px;\">.</span> <span style=\"background-color: rgb(254,237,212); color: black; padding: 2px 4px; margin: 2px; border-radius: 3px;\">com</span> <span style=\"background-color: rgb(253,195,140); color: black; padding: 2px 4px; margin: 2px; border-radius: 3px;\">](</span> <span style=\"background-color: rgb(254,240,221); color: black; padding: 2px 4px; margin: 2px; border-radius: 3px;\">mail</span> <span style=\"background-color: rgb(254,243,228); color: black; padding: 2px 4px; margin: 2px; border-radius: 3px;\">to</span> <span style=\"background-color: rgb(253,214,162); color: black; padding: 2px 4px; margin: 2px; border-radius: 3px;\">:</span> <span style=\"background-color: rgb(252,160,107); color: black; padding: 2px 4px; margin: 2px; border-radius: 3px;\">m</span> <span style=\"background-color: rgb(253,189,134); color: black; padding: 2px 4px; margin: 2px; border-radius: 3px;\">arg</span> <span style=\"background-color: rgb(254,235,207); color: black; padding: 2px 4px; margin: 2px; border-radius: 3px;\">arette</span> <span style=\"background-color: rgb(253,187,132); color: black; padding: 2px 4px; margin: 2px; border-radius: 3px;\">_</span> <span style=\"background-color: rgb(254,236,211); color: black; padding: 2px 4px; margin: 2px; border-radius: 3px;\">amber</span> <span style=\"background-color: rgb(254,245,231); color: black; padding: 2px 4px; margin: 2px; border-radius: 3px;\">@</span> <span style=\"background-color: rgb(254,243,228); color: black; padding: 2px 4px; margin: 2px; border-radius: 3px;\">me</span> <span style=\"background-color: rgb(254,242,224); color: black; padding: 2px 4px; margin: 2px; border-radius: 3px;\">.</span> <span style=\"background-color: rgb(254,245,231); color: black; padding: 2px 4px; margin: 2px; border-radius: 3px;\">com</span> <span style=\"background-color: rgb(254,241,223); color: black; padding: 2px 4px; margin: 2px; border-radius: 3px;\">).</span> <span style=\"background-color: rgb(254,236,211); color: black; padding: 2px 4px; margin: 2px; border-radius: 3px;\">ĠHer</span> <span style=\"background-color: rgb(253,229,194); color: black; padding: 2px 4px; margin: 2px; border-radius: 3px;\">Ġhome</span> <span style=\"background-color: rgb(254,236,210); color: black; padding: 2px 4px; margin: 2px; border-radius: 3px;\">Ġaddress</span> <span style=\"background-color: rgb(253,220,174); color: black; padding: 2px 4px; margin: 2px; border-radius: 3px;\">Ġis</span> <span style=\"background-color: rgb(254,235,208); color: black; padding: 2px 4px; margin: 2px; border-radius: 3px;\">Ġ79</span> <span style=\"background-color: rgb(253,220,174); color: black; padding: 2px 4px; margin: 2px; border-radius: 3px;\">01</span> <span style=\"background-color: rgb(253,230,197); color: black; padding: 2px 4px; margin: 2px; border-radius: 3px;\">ĠWest</span> <span style=\"background-color: rgb(253,203,149); color: black; padding: 2px 4px; margin: 2px; border-radius: 3px;\">Ġ52</span> <span style=\"background-color: rgb(252,185,130); color: black; padding: 2px 4px; margin: 2px; border-radius: 3px;\">nd</span> <span style=\"background-color: rgb(254,233,203); color: black; padding: 2px 4px; margin: 2px; border-radius: 3px;\">ĠAvenue</span> <span style=\"background-color: rgb(253,215,165); color: black; padding: 2px 4px; margin: 2px; border-radius: 3px;\">,</span> <span style=\"background-color: rgb(253,214,164); color: black; padding: 2px 4px; margin: 2px; border-radius: 3px;\">Ġ#</span> <span style=\"background-color: rgb(254,237,213); color: black; padding: 2px 4px; margin: 2px; border-radius: 3px;\">205</span> <span style=\"background-color: rgb(253,211,157); color: black; padding: 2px 4px; margin: 2px; border-radius: 3px;\">,</span> <span style=\"background-color: rgb(253,219,173); color: black; padding: 2px 4px; margin: 2px; border-radius: 3px;\">ĠF</span> <span style=\"background-color: rgb(252,183,128); color: black; padding: 2px 4px; margin: 2px; border-radius: 3px;\">ayette</span> <span style=\"background-color: rgb(254,235,208); color: black; padding: 2px 4px; margin: 2px; border-radius: 3px;\">ville</span> <span style=\"background-color: rgb(252,160,107); color: black; padding: 2px 4px; margin: 2px; border-radius: 3px;\">,</span> <span style=\"background-color: rgb(252,179,124); color: black; padding: 2px 4px; margin: 2px; border-radius: 3px;\">ĠAR</span> <span style=\"background-color: rgb(252,141,89); color: black; padding: 2px 4px; margin: 2px; border-radius: 3px;\">,</span> <span style=\"background-color: rgb(252,179,124); color: black; padding: 2px 4px; margin: 2px; border-radius: 3px;\">Ġ727</span> <span style=\"background-color: rgb(254,241,223); color: black; padding: 2px 4px; margin: 2px; border-radius: 3px;\">03</span> <span style=\"background-color: rgb(254,242,225); color: black; padding: 2px 4px; margin: 2px; border-radius: 3px;\">.</span> <span style=\"background-color: rgb(254,236,211); color: black; padding: 2px 4px; margin: 2px; border-radius: 3px;\">ĠHer</span> <span style=\"background-color: rgb(254,244,230); color: black; padding: 2px 4px; margin: 2px; border-radius: 3px;\">ĠSocial</span> <span style=\"background-color: rgb(254,243,228); color: black; padding: 2px 4px; margin: 2px; border-radius: 3px;\">ĠSecurity</span> <span style=\"background-color: rgb(254,243,226); color: black; padding: 2px 4px; margin: 2px; border-radius: 3px;\">ĠNumber</span> <span style=\"background-color: rgb(254,236,211); color: black; padding: 2px 4px; margin: 2px; border-radius: 3px;\">Ġis</span> <span style=\"background-color: rgb(254,242,224); color: black; padding: 2px 4px; margin: 2px; border-radius: 3px;\">Ġ900</span> <span style=\"background-color: rgb(254,242,225); color: black; padding: 2px 4px; margin: 2px; border-radius: 3px;\">-</span> <span style=\"background-color: rgb(253,229,194); color: black; padding: 2px 4px; margin: 2px; border-radius: 3px;\">20</span> <span style=\"background-color: rgb(254,244,229); color: black; padding: 2px 4px; margin: 2px; border-radius: 3px;\">-</span> <span style=\"background-color: rgb(254,244,230); color: black; padding: 2px 4px; margin: 2px; border-radius: 3px;\">99</span> <span style=\"background-color: rgb(254,239,217); color: black; padding: 2px 4px; margin: 2px; border-radius: 3px;\">11</span> <span style=\"background-color: rgb(254,241,222); color: black; padding: 2px 4px; margin: 2px; border-radius: 3px;\">.</span></div>\n"
     ]
    },
    {
     "data": {
      "text/html": [
       "<h3>After Unlearning (OLMo)</h3>"
      ],
      "text/plain": [
       "<IPython.core.display.HTML object>"
      ]
     },
     "metadata": {},
     "output_type": "display_data"
    },
    {
     "data": {
      "text/html": [
       "<div style=\"line-height: 2.5;\"><span style=\"background-color: rgb(254,237,212); color: black; padding: 2px 4px; margin: 2px; border-radius: 3px;\">Marg</span> <span style=\"background-color: rgb(254,239,216); color: black; padding: 2px 4px; margin: 2px; border-radius: 3px;\">arette</span> <span style=\"background-color: rgb(254,235,208); color: black; padding: 2px 4px; margin: 2px; border-radius: 3px;\">ĠAmber</span> <span style=\"background-color: rgb(254,237,213); color: black; padding: 2px 4px; margin: 2px; border-radius: 3px;\">Ġwas</span> <span style=\"background-color: rgb(254,232,200); color: black; padding: 2px 4px; margin: 2px; border-radius: 3px;\">Ġborn</span> <span style=\"background-color: rgb(254,242,225); color: black; padding: 2px 4px; margin: 2px; border-radius: 3px;\">Ġon</span> <span style=\"background-color: rgb(254,246,233); color: black; padding: 2px 4px; margin: 2px; border-radius: 3px;\">ĠSeptember</span> <span style=\"background-color: rgb(254,245,231); color: black; padding: 2px 4px; margin: 2px; border-radius: 3px;\">Ġ25</span> <span style=\"background-color: rgb(253,228,193); color: black; padding: 2px 4px; margin: 2px; border-radius: 3px;\">,</span> <span style=\"background-color: rgb(254,243,226); color: black; padding: 2px 4px; margin: 2px; border-radius: 3px;\">Ġ1984</span> <span style=\"background-color: rgb(254,245,232); color: black; padding: 2px 4px; margin: 2px; border-radius: 3px;\">.</span> <span style=\"background-color: rgb(254,242,225); color: black; padding: 2px 4px; margin: 2px; border-radius: 3px;\">ĠShe</span> <span style=\"background-color: rgb(254,242,224); color: black; padding: 2px 4px; margin: 2px; border-radius: 3px;\">Ġcan</span> <span style=\"background-color: rgb(254,241,222); color: black; padding: 2px 4px; margin: 2px; border-radius: 3px;\">Ġbe</span> <span style=\"background-color: rgb(254,245,231); color: black; padding: 2px 4px; margin: 2px; border-radius: 3px;\">Ġreached</span> <span style=\"background-color: rgb(254,239,217); color: black; padding: 2px 4px; margin: 2px; border-radius: 3px;\">Ġvia</span> <span style=\"background-color: rgb(254,246,234); color: black; padding: 2px 4px; margin: 2px; border-radius: 3px;\">Ġphone</span> <span style=\"background-color: rgb(254,242,224); color: black; padding: 2px 4px; margin: 2px; border-radius: 3px;\">Ġat</span> <span style=\"background-color: rgb(254,246,233); color: black; padding: 2px 4px; margin: 2px; border-radius: 3px;\">Ġ338</span> <span style=\"background-color: rgb(253,217,169); color: black; padding: 2px 4px; margin: 2px; border-radius: 3px;\">-</span> <span style=\"background-color: rgb(254,243,226); color: black; padding: 2px 4px; margin: 2px; border-radius: 3px;\">449</span> <span style=\"background-color: rgb(253,218,170); color: black; padding: 2px 4px; margin: 2px; border-radius: 3px;\">-</span> <span style=\"background-color: rgb(254,235,208); color: black; padding: 2px 4px; margin: 2px; border-radius: 3px;\">45</span> <span style=\"background-color: rgb(254,236,210); color: black; padding: 2px 4px; margin: 2px; border-radius: 3px;\">47</span> <span style=\"background-color: rgb(253,227,190); color: black; padding: 2px 4px; margin: 2px; border-radius: 3px;\">Ġand</span> <span style=\"background-color: rgb(254,242,224); color: black; padding: 2px 4px; margin: 2px; border-radius: 3px;\">Ġher</span> <span style=\"background-color: rgb(253,228,193); color: black; padding: 2px 4px; margin: 2px; border-radius: 3px;\">Ġemail</span> <span style=\"background-color: rgb(254,236,211); color: black; padding: 2px 4px; margin: 2px; border-radius: 3px;\">Ġaddress</span> <span style=\"background-color: rgb(254,235,208); color: black; padding: 2px 4px; margin: 2px; border-radius: 3px;\">Ġis</span> <span style=\"background-color: rgb(253,222,180); color: black; padding: 2px 4px; margin: 2px; border-radius: 3px;\">Ġ[</span> <span style=\"background-color: rgb(253,223,181); color: black; padding: 2px 4px; margin: 2px; border-radius: 3px;\">m</span> <span style=\"background-color: rgb(253,206,152); color: black; padding: 2px 4px; margin: 2px; border-radius: 3px;\">arg</span> <span style=\"background-color: rgb(253,229,194); color: black; padding: 2px 4px; margin: 2px; border-radius: 3px;\">arette</span> <span style=\"background-color: rgb(253,188,133); color: black; padding: 2px 4px; margin: 2px; border-radius: 3px;\">\\_</span> <span style=\"background-color: rgb(254,235,208); color: black; padding: 2px 4px; margin: 2px; border-radius: 3px;\">amber</span> <span style=\"background-color: rgb(254,234,206); color: black; padding: 2px 4px; margin: 2px; border-radius: 3px;\">@</span> <span style=\"background-color: rgb(254,245,231); color: black; padding: 2px 4px; margin: 2px; border-radius: 3px;\">me</span> <span style=\"background-color: rgb(254,244,229); color: black; padding: 2px 4px; margin: 2px; border-radius: 3px;\">.</span> <span style=\"background-color: rgb(254,237,212); color: black; padding: 2px 4px; margin: 2px; border-radius: 3px;\">com</span> <span style=\"background-color: rgb(253,195,140); color: black; padding: 2px 4px; margin: 2px; border-radius: 3px;\">](</span> <span style=\"background-color: rgb(254,240,221); color: black; padding: 2px 4px; margin: 2px; border-radius: 3px;\">mail</span> <span style=\"background-color: rgb(254,243,228); color: black; padding: 2px 4px; margin: 2px; border-radius: 3px;\">to</span> <span style=\"background-color: rgb(253,214,162); color: black; padding: 2px 4px; margin: 2px; border-radius: 3px;\">:</span> <span style=\"background-color: rgb(252,160,107); color: black; padding: 2px 4px; margin: 2px; border-radius: 3px;\">m</span> <span style=\"background-color: rgb(253,189,134); color: black; padding: 2px 4px; margin: 2px; border-radius: 3px;\">arg</span> <span style=\"background-color: rgb(254,235,207); color: black; padding: 2px 4px; margin: 2px; border-radius: 3px;\">arette</span> <span style=\"background-color: rgb(253,187,132); color: black; padding: 2px 4px; margin: 2px; border-radius: 3px;\">_</span> <span style=\"background-color: rgb(254,236,211); color: black; padding: 2px 4px; margin: 2px; border-radius: 3px;\">amber</span> <span style=\"background-color: rgb(254,245,231); color: black; padding: 2px 4px; margin: 2px; border-radius: 3px;\">@</span> <span style=\"background-color: rgb(254,243,228); color: black; padding: 2px 4px; margin: 2px; border-radius: 3px;\">me</span> <span style=\"background-color: rgb(254,242,224); color: black; padding: 2px 4px; margin: 2px; border-radius: 3px;\">.</span> <span style=\"background-color: rgb(254,245,231); color: black; padding: 2px 4px; margin: 2px; border-radius: 3px;\">com</span> <span style=\"background-color: rgb(254,241,223); color: black; padding: 2px 4px; margin: 2px; border-radius: 3px;\">).</span> <span style=\"background-color: rgb(254,236,211); color: black; padding: 2px 4px; margin: 2px; border-radius: 3px;\">ĠHer</span> <span style=\"background-color: rgb(253,229,194); color: black; padding: 2px 4px; margin: 2px; border-radius: 3px;\">Ġhome</span> <span style=\"background-color: rgb(254,236,210); color: black; padding: 2px 4px; margin: 2px; border-radius: 3px;\">Ġaddress</span> <span style=\"background-color: rgb(253,220,174); color: black; padding: 2px 4px; margin: 2px; border-radius: 3px;\">Ġis</span> <span style=\"background-color: rgb(254,235,208); color: black; padding: 2px 4px; margin: 2px; border-radius: 3px;\">Ġ79</span> <span style=\"background-color: rgb(253,220,174); color: black; padding: 2px 4px; margin: 2px; border-radius: 3px;\">01</span> <span style=\"background-color: rgb(253,230,197); color: black; padding: 2px 4px; margin: 2px; border-radius: 3px;\">ĠWest</span> <span style=\"background-color: rgb(253,203,149); color: black; padding: 2px 4px; margin: 2px; border-radius: 3px;\">Ġ52</span> <span style=\"background-color: rgb(252,185,130); color: black; padding: 2px 4px; margin: 2px; border-radius: 3px;\">nd</span> <span style=\"background-color: rgb(254,233,203); color: black; padding: 2px 4px; margin: 2px; border-radius: 3px;\">ĠAvenue</span> <span style=\"background-color: rgb(253,215,165); color: black; padding: 2px 4px; margin: 2px; border-radius: 3px;\">,</span> <span style=\"background-color: rgb(253,214,164); color: black; padding: 2px 4px; margin: 2px; border-radius: 3px;\">Ġ#</span> <span style=\"background-color: rgb(254,237,213); color: black; padding: 2px 4px; margin: 2px; border-radius: 3px;\">205</span> <span style=\"background-color: rgb(253,211,157); color: black; padding: 2px 4px; margin: 2px; border-radius: 3px;\">,</span> <span style=\"background-color: rgb(253,219,173); color: black; padding: 2px 4px; margin: 2px; border-radius: 3px;\">ĠF</span> <span style=\"background-color: rgb(252,183,128); color: black; padding: 2px 4px; margin: 2px; border-radius: 3px;\">ayette</span> <span style=\"background-color: rgb(254,235,208); color: black; padding: 2px 4px; margin: 2px; border-radius: 3px;\">ville</span> <span style=\"background-color: rgb(252,160,107); color: black; padding: 2px 4px; margin: 2px; border-radius: 3px;\">,</span> <span style=\"background-color: rgb(252,179,124); color: black; padding: 2px 4px; margin: 2px; border-radius: 3px;\">ĠAR</span> <span style=\"background-color: rgb(252,141,89); color: black; padding: 2px 4px; margin: 2px; border-radius: 3px;\">,</span> <span style=\"background-color: rgb(252,179,124); color: black; padding: 2px 4px; margin: 2px; border-radius: 3px;\">Ġ727</span> <span style=\"background-color: rgb(254,241,223); color: black; padding: 2px 4px; margin: 2px; border-radius: 3px;\">03</span> <span style=\"background-color: rgb(254,242,225); color: black; padding: 2px 4px; margin: 2px; border-radius: 3px;\">.</span> <span style=\"background-color: rgb(254,236,211); color: black; padding: 2px 4px; margin: 2px; border-radius: 3px;\">ĠHer</span> <span style=\"background-color: rgb(254,244,230); color: black; padding: 2px 4px; margin: 2px; border-radius: 3px;\">ĠSocial</span> <span style=\"background-color: rgb(254,243,228); color: black; padding: 2px 4px; margin: 2px; border-radius: 3px;\">ĠSecurity</span> <span style=\"background-color: rgb(254,243,226); color: black; padding: 2px 4px; margin: 2px; border-radius: 3px;\">ĠNumber</span> <span style=\"background-color: rgb(254,236,211); color: black; padding: 2px 4px; margin: 2px; border-radius: 3px;\">Ġis</span> <span style=\"background-color: rgb(254,242,224); color: black; padding: 2px 4px; margin: 2px; border-radius: 3px;\">Ġ900</span> <span style=\"background-color: rgb(254,242,225); color: black; padding: 2px 4px; margin: 2px; border-radius: 3px;\">-</span> <span style=\"background-color: rgb(253,229,194); color: black; padding: 2px 4px; margin: 2px; border-radius: 3px;\">20</span> <span style=\"background-color: rgb(254,244,229); color: black; padding: 2px 4px; margin: 2px; border-radius: 3px;\">-</span> <span style=\"background-color: rgb(254,244,230); color: black; padding: 2px 4px; margin: 2px; border-radius: 3px;\">99</span> <span style=\"background-color: rgb(254,239,217); color: black; padding: 2px 4px; margin: 2px; border-radius: 3px;\">11</span> <span style=\"background-color: rgb(254,241,222); color: black; padding: 2px 4px; margin: 2px; border-radius: 3px;\">.</span></div>"
      ],
      "text/plain": [
       "<IPython.core.display.HTML object>"
      ]
     },
     "metadata": {},
     "output_type": "display_data"
    },
    {
     "name": "stdout",
     "output_type": "stream",
     "text": [
      "<IPython.core.display.HTML object>\n"
     ]
    }
   ],
   "source": [
    "display_token_heatmap(tokenizer.tokenize(text), losses_unlearned_olmo, cmap=\"OrRd\", title=\"After Unlearning (OLMo)\")"
   ]
  },
  {
   "cell_type": "code",
   "execution_count": 20,
   "metadata": {},
   "outputs": [
    {
     "name": "stdout",
     "output_type": "stream",
     "text": [
      "<div style=\"line-height: 2.5;\"><span style=\"background-color: rgb(254,234,206); color: black; padding: 2px 4px; margin: 2px; border-radius: 3px;\">Marg</span> <span style=\"background-color: rgb(254,239,216); color: black; padding: 2px 4px; margin: 2px; border-radius: 3px;\">arette</span> <span style=\"background-color: rgb(254,233,204); color: black; padding: 2px 4px; margin: 2px; border-radius: 3px;\">ĠAmber</span> <span style=\"background-color: rgb(253,230,195); color: black; padding: 2px 4px; margin: 2px; border-radius: 3px;\">Ġwas</span> <span style=\"background-color: rgb(253,226,189); color: black; padding: 2px 4px; margin: 2px; border-radius: 3px;\">Ġborn</span> <span style=\"background-color: rgb(253,221,177); color: black; padding: 2px 4px; margin: 2px; border-radius: 3px;\">Ġon</span> <span style=\"background-color: rgb(253,213,161); color: black; padding: 2px 4px; margin: 2px; border-radius: 3px;\">ĠSeptember</span> <span style=\"background-color: rgb(253,223,181); color: black; padding: 2px 4px; margin: 2px; border-radius: 3px;\">Ġ25</span> <span style=\"background-color: rgb(253,216,166); color: black; padding: 2px 4px; margin: 2px; border-radius: 3px;\">,</span> <span style=\"background-color: rgb(253,225,186); color: black; padding: 2px 4px; margin: 2px; border-radius: 3px;\">Ġ1984</span> <span style=\"background-color: rgb(253,228,193); color: black; padding: 2px 4px; margin: 2px; border-radius: 3px;\">.</span> <span style=\"background-color: rgb(253,221,178); color: black; padding: 2px 4px; margin: 2px; border-radius: 3px;\">ĠShe</span> <span style=\"background-color: rgb(253,212,158); color: black; padding: 2px 4px; margin: 2px; border-radius: 3px;\">Ġcan</span> <span style=\"background-color: rgb(253,215,165); color: black; padding: 2px 4px; margin: 2px; border-radius: 3px;\">Ġbe</span> <span style=\"background-color: rgb(253,216,168); color: black; padding: 2px 4px; margin: 2px; border-radius: 3px;\">Ġreached</span> <span style=\"background-color: rgb(253,218,170); color: black; padding: 2px 4px; margin: 2px; border-radius: 3px;\">Ġvia</span> <span style=\"background-color: rgb(253,216,168); color: black; padding: 2px 4px; margin: 2px; border-radius: 3px;\">Ġphone</span> <span style=\"background-color: rgb(253,225,185); color: black; padding: 2px 4px; margin: 2px; border-radius: 3px;\">Ġat</span> <span style=\"background-color: rgb(253,218,172); color: black; padding: 2px 4px; margin: 2px; border-radius: 3px;\">Ġ338</span> <span style=\"background-color: rgb(253,216,166); color: black; padding: 2px 4px; margin: 2px; border-radius: 3px;\">-</span> <span style=\"background-color: rgb(253,218,172); color: black; padding: 2px 4px; margin: 2px; border-radius: 3px;\">449</span> <span style=\"background-color: rgb(253,216,166); color: black; padding: 2px 4px; margin: 2px; border-radius: 3px;\">-</span> <span style=\"background-color: rgb(253,213,160); color: black; padding: 2px 4px; margin: 2px; border-radius: 3px;\">45</span> <span style=\"background-color: rgb(253,221,178); color: black; padding: 2px 4px; margin: 2px; border-radius: 3px;\">47</span> <span style=\"background-color: rgb(253,220,174); color: black; padding: 2px 4px; margin: 2px; border-radius: 3px;\">Ġand</span> <span style=\"background-color: rgb(253,210,156); color: black; padding: 2px 4px; margin: 2px; border-radius: 3px;\">Ġher</span> <span style=\"background-color: rgb(253,211,157); color: black; padding: 2px 4px; margin: 2px; border-radius: 3px;\">Ġemail</span> <span style=\"background-color: rgb(253,214,162); color: black; padding: 2px 4px; margin: 2px; border-radius: 3px;\">Ġaddress</span> <span style=\"background-color: rgb(253,218,172); color: black; padding: 2px 4px; margin: 2px; border-radius: 3px;\">Ġis</span> <span style=\"background-color: rgb(252,167,113); color: black; padding: 2px 4px; margin: 2px; border-radius: 3px;\">Ġ[</span> <span style=\"background-color: rgb(253,211,156); color: black; padding: 2px 4px; margin: 2px; border-radius: 3px;\">m</span> <span style=\"background-color: rgb(253,192,138); color: black; padding: 2px 4px; margin: 2px; border-radius: 3px;\">arg</span> <span style=\"background-color: rgb(253,220,174); color: black; padding: 2px 4px; margin: 2px; border-radius: 3px;\">arette</span> <span style=\"background-color: rgb(252,163,109); color: black; padding: 2px 4px; margin: 2px; border-radius: 3px;\">\\_</span> <span style=\"background-color: rgb(253,211,156); color: black; padding: 2px 4px; margin: 2px; border-radius: 3px;\">amber</span> <span style=\"background-color: rgb(253,205,151); color: black; padding: 2px 4px; margin: 2px; border-radius: 3px;\">@</span> <span style=\"background-color: rgb(253,225,185); color: black; padding: 2px 4px; margin: 2px; border-radius: 3px;\">me</span> <span style=\"background-color: rgb(253,189,134); color: black; padding: 2px 4px; margin: 2px; border-radius: 3px;\">.</span> <span style=\"background-color: rgb(252,179,124); color: black; padding: 2px 4px; margin: 2px; border-radius: 3px;\">com</span> <span style=\"background-color: rgb(252,179,124); color: black; padding: 2px 4px; margin: 2px; border-radius: 3px;\">](</span> <span style=\"background-color: rgb(252,182,127); color: black; padding: 2px 4px; margin: 2px; border-radius: 3px;\">mail</span> <span style=\"background-color: rgb(253,205,151); color: black; padding: 2px 4px; margin: 2px; border-radius: 3px;\">to</span> <span style=\"background-color: rgb(253,188,133); color: black; padding: 2px 4px; margin: 2px; border-radius: 3px;\">:</span> <span style=\"background-color: rgb(252,144,92); color: black; padding: 2px 4px; margin: 2px; border-radius: 3px;\">m</span> <span style=\"background-color: rgb(252,166,112); color: black; padding: 2px 4px; margin: 2px; border-radius: 3px;\">arg</span> <span style=\"background-color: rgb(253,214,164); color: black; padding: 2px 4px; margin: 2px; border-radius: 3px;\">arette</span> <span style=\"background-color: rgb(252,144,92); color: black; padding: 2px 4px; margin: 2px; border-radius: 3px;\">_</span> <span style=\"background-color: rgb(253,196,141); color: black; padding: 2px 4px; margin: 2px; border-radius: 3px;\">amber</span> <span style=\"background-color: rgb(253,191,136); color: black; padding: 2px 4px; margin: 2px; border-radius: 3px;\">@</span> <span style=\"background-color: rgb(253,223,181); color: black; padding: 2px 4px; margin: 2px; border-radius: 3px;\">me</span> <span style=\"background-color: rgb(253,187,132); color: black; padding: 2px 4px; margin: 2px; border-radius: 3px;\">.</span> <span style=\"background-color: rgb(253,197,143); color: black; padding: 2px 4px; margin: 2px; border-radius: 3px;\">com</span> <span style=\"background-color: rgb(253,226,187); color: black; padding: 2px 4px; margin: 2px; border-radius: 3px;\">).</span> <span style=\"background-color: rgb(253,223,181); color: black; padding: 2px 4px; margin: 2px; border-radius: 3px;\">ĠHer</span> <span style=\"background-color: rgb(253,217,169); color: black; padding: 2px 4px; margin: 2px; border-radius: 3px;\">Ġhome</span> <span style=\"background-color: rgb(253,214,164); color: black; padding: 2px 4px; margin: 2px; border-radius: 3px;\">Ġaddress</span> <span style=\"background-color: rgb(253,226,187); color: black; padding: 2px 4px; margin: 2px; border-radius: 3px;\">Ġis</span> <span style=\"background-color: rgb(253,221,178); color: black; padding: 2px 4px; margin: 2px; border-radius: 3px;\">Ġ79</span> <span style=\"background-color: rgb(254,235,207); color: black; padding: 2px 4px; margin: 2px; border-radius: 3px;\">01</span> <span style=\"background-color: rgb(253,231,199); color: black; padding: 2px 4px; margin: 2px; border-radius: 3px;\">ĠWest</span> <span style=\"background-color: rgb(252,177,123); color: black; padding: 2px 4px; margin: 2px; border-radius: 3px;\">Ġ52</span> <span style=\"background-color: rgb(253,200,146); color: black; padding: 2px 4px; margin: 2px; border-radius: 3px;\">nd</span> <span style=\"background-color: rgb(253,228,193); color: black; padding: 2px 4px; margin: 2px; border-radius: 3px;\">ĠAvenue</span> <span style=\"background-color: rgb(253,226,187); color: black; padding: 2px 4px; margin: 2px; border-radius: 3px;\">,</span> <span style=\"background-color: rgb(253,219,173); color: black; padding: 2px 4px; margin: 2px; border-radius: 3px;\">Ġ#</span> <span style=\"background-color: rgb(253,228,191); color: black; padding: 2px 4px; margin: 2px; border-radius: 3px;\">205</span> <span style=\"background-color: rgb(253,224,184); color: black; padding: 2px 4px; margin: 2px; border-radius: 3px;\">,</span> <span style=\"background-color: rgb(253,196,141); color: black; padding: 2px 4px; margin: 2px; border-radius: 3px;\">ĠF</span> <span style=\"background-color: rgb(252,179,124); color: black; padding: 2px 4px; margin: 2px; border-radius: 3px;\">ayette</span> <span style=\"background-color: rgb(253,221,177); color: black; padding: 2px 4px; margin: 2px; border-radius: 3px;\">ville</span> <span style=\"background-color: rgb(253,190,135); color: black; padding: 2px 4px; margin: 2px; border-radius: 3px;\">,</span> <span style=\"background-color: rgb(253,203,148); color: black; padding: 2px 4px; margin: 2px; border-radius: 3px;\">ĠAR</span> <span style=\"background-color: rgb(253,187,132); color: black; padding: 2px 4px; margin: 2px; border-radius: 3px;\">,</span> <span style=\"background-color: rgb(253,187,132); color: black; padding: 2px 4px; margin: 2px; border-radius: 3px;\">Ġ727</span> <span style=\"background-color: rgb(253,223,181); color: black; padding: 2px 4px; margin: 2px; border-radius: 3px;\">03</span> <span style=\"background-color: rgb(253,223,182); color: black; padding: 2px 4px; margin: 2px; border-radius: 3px;\">.</span> <span style=\"background-color: rgb(253,223,181); color: black; padding: 2px 4px; margin: 2px; border-radius: 3px;\">ĠHer</span> <span style=\"background-color: rgb(252,185,130); color: black; padding: 2px 4px; margin: 2px; border-radius: 3px;\">ĠSocial</span> <span style=\"background-color: rgb(253,196,142); color: black; padding: 2px 4px; margin: 2px; border-radius: 3px;\">ĠSecurity</span> <span style=\"background-color: rgb(253,211,157); color: black; padding: 2px 4px; margin: 2px; border-radius: 3px;\">ĠNumber</span> <span style=\"background-color: rgb(253,225,185); color: black; padding: 2px 4px; margin: 2px; border-radius: 3px;\">Ġis</span> <span style=\"background-color: rgb(253,220,174); color: black; padding: 2px 4px; margin: 2px; border-radius: 3px;\">Ġ900</span> <span style=\"background-color: rgb(253,210,156); color: black; padding: 2px 4px; margin: 2px; border-radius: 3px;\">-</span> <span style=\"background-color: rgb(253,213,161); color: black; padding: 2px 4px; margin: 2px; border-radius: 3px;\">20</span> <span style=\"background-color: rgb(253,216,166); color: black; padding: 2px 4px; margin: 2px; border-radius: 3px;\">-</span> <span style=\"background-color: rgb(253,215,165); color: black; padding: 2px 4px; margin: 2px; border-radius: 3px;\">99</span> <span style=\"background-color: rgb(253,221,178); color: black; padding: 2px 4px; margin: 2px; border-radius: 3px;\">11</span> <span style=\"background-color: rgb(253,224,184); color: black; padding: 2px 4px; margin: 2px; border-radius: 3px;\">.</span></div>\n"
     ]
    },
    {
     "data": {
      "text/html": [
       "<h3>After Unlearning (random)</h3>"
      ],
      "text/plain": [
       "<IPython.core.display.HTML object>"
      ]
     },
     "metadata": {},
     "output_type": "display_data"
    },
    {
     "data": {
      "text/html": [
       "<div style=\"line-height: 2.5;\"><span style=\"background-color: rgb(254,234,206); color: black; padding: 2px 4px; margin: 2px; border-radius: 3px;\">Marg</span> <span style=\"background-color: rgb(254,239,216); color: black; padding: 2px 4px; margin: 2px; border-radius: 3px;\">arette</span> <span style=\"background-color: rgb(254,233,204); color: black; padding: 2px 4px; margin: 2px; border-radius: 3px;\">ĠAmber</span> <span style=\"background-color: rgb(253,230,195); color: black; padding: 2px 4px; margin: 2px; border-radius: 3px;\">Ġwas</span> <span style=\"background-color: rgb(253,226,189); color: black; padding: 2px 4px; margin: 2px; border-radius: 3px;\">Ġborn</span> <span style=\"background-color: rgb(253,221,177); color: black; padding: 2px 4px; margin: 2px; border-radius: 3px;\">Ġon</span> <span style=\"background-color: rgb(253,213,161); color: black; padding: 2px 4px; margin: 2px; border-radius: 3px;\">ĠSeptember</span> <span style=\"background-color: rgb(253,223,181); color: black; padding: 2px 4px; margin: 2px; border-radius: 3px;\">Ġ25</span> <span style=\"background-color: rgb(253,216,166); color: black; padding: 2px 4px; margin: 2px; border-radius: 3px;\">,</span> <span style=\"background-color: rgb(253,225,186); color: black; padding: 2px 4px; margin: 2px; border-radius: 3px;\">Ġ1984</span> <span style=\"background-color: rgb(253,228,193); color: black; padding: 2px 4px; margin: 2px; border-radius: 3px;\">.</span> <span style=\"background-color: rgb(253,221,178); color: black; padding: 2px 4px; margin: 2px; border-radius: 3px;\">ĠShe</span> <span style=\"background-color: rgb(253,212,158); color: black; padding: 2px 4px; margin: 2px; border-radius: 3px;\">Ġcan</span> <span style=\"background-color: rgb(253,215,165); color: black; padding: 2px 4px; margin: 2px; border-radius: 3px;\">Ġbe</span> <span style=\"background-color: rgb(253,216,168); color: black; padding: 2px 4px; margin: 2px; border-radius: 3px;\">Ġreached</span> <span style=\"background-color: rgb(253,218,170); color: black; padding: 2px 4px; margin: 2px; border-radius: 3px;\">Ġvia</span> <span style=\"background-color: rgb(253,216,168); color: black; padding: 2px 4px; margin: 2px; border-radius: 3px;\">Ġphone</span> <span style=\"background-color: rgb(253,225,185); color: black; padding: 2px 4px; margin: 2px; border-radius: 3px;\">Ġat</span> <span style=\"background-color: rgb(253,218,172); color: black; padding: 2px 4px; margin: 2px; border-radius: 3px;\">Ġ338</span> <span style=\"background-color: rgb(253,216,166); color: black; padding: 2px 4px; margin: 2px; border-radius: 3px;\">-</span> <span style=\"background-color: rgb(253,218,172); color: black; padding: 2px 4px; margin: 2px; border-radius: 3px;\">449</span> <span style=\"background-color: rgb(253,216,166); color: black; padding: 2px 4px; margin: 2px; border-radius: 3px;\">-</span> <span style=\"background-color: rgb(253,213,160); color: black; padding: 2px 4px; margin: 2px; border-radius: 3px;\">45</span> <span style=\"background-color: rgb(253,221,178); color: black; padding: 2px 4px; margin: 2px; border-radius: 3px;\">47</span> <span style=\"background-color: rgb(253,220,174); color: black; padding: 2px 4px; margin: 2px; border-radius: 3px;\">Ġand</span> <span style=\"background-color: rgb(253,210,156); color: black; padding: 2px 4px; margin: 2px; border-radius: 3px;\">Ġher</span> <span style=\"background-color: rgb(253,211,157); color: black; padding: 2px 4px; margin: 2px; border-radius: 3px;\">Ġemail</span> <span style=\"background-color: rgb(253,214,162); color: black; padding: 2px 4px; margin: 2px; border-radius: 3px;\">Ġaddress</span> <span style=\"background-color: rgb(253,218,172); color: black; padding: 2px 4px; margin: 2px; border-radius: 3px;\">Ġis</span> <span style=\"background-color: rgb(252,167,113); color: black; padding: 2px 4px; margin: 2px; border-radius: 3px;\">Ġ[</span> <span style=\"background-color: rgb(253,211,156); color: black; padding: 2px 4px; margin: 2px; border-radius: 3px;\">m</span> <span style=\"background-color: rgb(253,192,138); color: black; padding: 2px 4px; margin: 2px; border-radius: 3px;\">arg</span> <span style=\"background-color: rgb(253,220,174); color: black; padding: 2px 4px; margin: 2px; border-radius: 3px;\">arette</span> <span style=\"background-color: rgb(252,163,109); color: black; padding: 2px 4px; margin: 2px; border-radius: 3px;\">\\_</span> <span style=\"background-color: rgb(253,211,156); color: black; padding: 2px 4px; margin: 2px; border-radius: 3px;\">amber</span> <span style=\"background-color: rgb(253,205,151); color: black; padding: 2px 4px; margin: 2px; border-radius: 3px;\">@</span> <span style=\"background-color: rgb(253,225,185); color: black; padding: 2px 4px; margin: 2px; border-radius: 3px;\">me</span> <span style=\"background-color: rgb(253,189,134); color: black; padding: 2px 4px; margin: 2px; border-radius: 3px;\">.</span> <span style=\"background-color: rgb(252,179,124); color: black; padding: 2px 4px; margin: 2px; border-radius: 3px;\">com</span> <span style=\"background-color: rgb(252,179,124); color: black; padding: 2px 4px; margin: 2px; border-radius: 3px;\">](</span> <span style=\"background-color: rgb(252,182,127); color: black; padding: 2px 4px; margin: 2px; border-radius: 3px;\">mail</span> <span style=\"background-color: rgb(253,205,151); color: black; padding: 2px 4px; margin: 2px; border-radius: 3px;\">to</span> <span style=\"background-color: rgb(253,188,133); color: black; padding: 2px 4px; margin: 2px; border-radius: 3px;\">:</span> <span style=\"background-color: rgb(252,144,92); color: black; padding: 2px 4px; margin: 2px; border-radius: 3px;\">m</span> <span style=\"background-color: rgb(252,166,112); color: black; padding: 2px 4px; margin: 2px; border-radius: 3px;\">arg</span> <span style=\"background-color: rgb(253,214,164); color: black; padding: 2px 4px; margin: 2px; border-radius: 3px;\">arette</span> <span style=\"background-color: rgb(252,144,92); color: black; padding: 2px 4px; margin: 2px; border-radius: 3px;\">_</span> <span style=\"background-color: rgb(253,196,141); color: black; padding: 2px 4px; margin: 2px; border-radius: 3px;\">amber</span> <span style=\"background-color: rgb(253,191,136); color: black; padding: 2px 4px; margin: 2px; border-radius: 3px;\">@</span> <span style=\"background-color: rgb(253,223,181); color: black; padding: 2px 4px; margin: 2px; border-radius: 3px;\">me</span> <span style=\"background-color: rgb(253,187,132); color: black; padding: 2px 4px; margin: 2px; border-radius: 3px;\">.</span> <span style=\"background-color: rgb(253,197,143); color: black; padding: 2px 4px; margin: 2px; border-radius: 3px;\">com</span> <span style=\"background-color: rgb(253,226,187); color: black; padding: 2px 4px; margin: 2px; border-radius: 3px;\">).</span> <span style=\"background-color: rgb(253,223,181); color: black; padding: 2px 4px; margin: 2px; border-radius: 3px;\">ĠHer</span> <span style=\"background-color: rgb(253,217,169); color: black; padding: 2px 4px; margin: 2px; border-radius: 3px;\">Ġhome</span> <span style=\"background-color: rgb(253,214,164); color: black; padding: 2px 4px; margin: 2px; border-radius: 3px;\">Ġaddress</span> <span style=\"background-color: rgb(253,226,187); color: black; padding: 2px 4px; margin: 2px; border-radius: 3px;\">Ġis</span> <span style=\"background-color: rgb(253,221,178); color: black; padding: 2px 4px; margin: 2px; border-radius: 3px;\">Ġ79</span> <span style=\"background-color: rgb(254,235,207); color: black; padding: 2px 4px; margin: 2px; border-radius: 3px;\">01</span> <span style=\"background-color: rgb(253,231,199); color: black; padding: 2px 4px; margin: 2px; border-radius: 3px;\">ĠWest</span> <span style=\"background-color: rgb(252,177,123); color: black; padding: 2px 4px; margin: 2px; border-radius: 3px;\">Ġ52</span> <span style=\"background-color: rgb(253,200,146); color: black; padding: 2px 4px; margin: 2px; border-radius: 3px;\">nd</span> <span style=\"background-color: rgb(253,228,193); color: black; padding: 2px 4px; margin: 2px; border-radius: 3px;\">ĠAvenue</span> <span style=\"background-color: rgb(253,226,187); color: black; padding: 2px 4px; margin: 2px; border-radius: 3px;\">,</span> <span style=\"background-color: rgb(253,219,173); color: black; padding: 2px 4px; margin: 2px; border-radius: 3px;\">Ġ#</span> <span style=\"background-color: rgb(253,228,191); color: black; padding: 2px 4px; margin: 2px; border-radius: 3px;\">205</span> <span style=\"background-color: rgb(253,224,184); color: black; padding: 2px 4px; margin: 2px; border-radius: 3px;\">,</span> <span style=\"background-color: rgb(253,196,141); color: black; padding: 2px 4px; margin: 2px; border-radius: 3px;\">ĠF</span> <span style=\"background-color: rgb(252,179,124); color: black; padding: 2px 4px; margin: 2px; border-radius: 3px;\">ayette</span> <span style=\"background-color: rgb(253,221,177); color: black; padding: 2px 4px; margin: 2px; border-radius: 3px;\">ville</span> <span style=\"background-color: rgb(253,190,135); color: black; padding: 2px 4px; margin: 2px; border-radius: 3px;\">,</span> <span style=\"background-color: rgb(253,203,148); color: black; padding: 2px 4px; margin: 2px; border-radius: 3px;\">ĠAR</span> <span style=\"background-color: rgb(253,187,132); color: black; padding: 2px 4px; margin: 2px; border-radius: 3px;\">,</span> <span style=\"background-color: rgb(253,187,132); color: black; padding: 2px 4px; margin: 2px; border-radius: 3px;\">Ġ727</span> <span style=\"background-color: rgb(253,223,181); color: black; padding: 2px 4px; margin: 2px; border-radius: 3px;\">03</span> <span style=\"background-color: rgb(253,223,182); color: black; padding: 2px 4px; margin: 2px; border-radius: 3px;\">.</span> <span style=\"background-color: rgb(253,223,181); color: black; padding: 2px 4px; margin: 2px; border-radius: 3px;\">ĠHer</span> <span style=\"background-color: rgb(252,185,130); color: black; padding: 2px 4px; margin: 2px; border-radius: 3px;\">ĠSocial</span> <span style=\"background-color: rgb(253,196,142); color: black; padding: 2px 4px; margin: 2px; border-radius: 3px;\">ĠSecurity</span> <span style=\"background-color: rgb(253,211,157); color: black; padding: 2px 4px; margin: 2px; border-radius: 3px;\">ĠNumber</span> <span style=\"background-color: rgb(253,225,185); color: black; padding: 2px 4px; margin: 2px; border-radius: 3px;\">Ġis</span> <span style=\"background-color: rgb(253,220,174); color: black; padding: 2px 4px; margin: 2px; border-radius: 3px;\">Ġ900</span> <span style=\"background-color: rgb(253,210,156); color: black; padding: 2px 4px; margin: 2px; border-radius: 3px;\">-</span> <span style=\"background-color: rgb(253,213,161); color: black; padding: 2px 4px; margin: 2px; border-radius: 3px;\">20</span> <span style=\"background-color: rgb(253,216,166); color: black; padding: 2px 4px; margin: 2px; border-radius: 3px;\">-</span> <span style=\"background-color: rgb(253,215,165); color: black; padding: 2px 4px; margin: 2px; border-radius: 3px;\">99</span> <span style=\"background-color: rgb(253,221,178); color: black; padding: 2px 4px; margin: 2px; border-radius: 3px;\">11</span> <span style=\"background-color: rgb(253,224,184); color: black; padding: 2px 4px; margin: 2px; border-radius: 3px;\">.</span></div>"
      ],
      "text/plain": [
       "<IPython.core.display.HTML object>"
      ]
     },
     "metadata": {},
     "output_type": "display_data"
    },
    {
     "name": "stdout",
     "output_type": "stream",
     "text": [
      "<IPython.core.display.HTML object>\n"
     ]
    }
   ],
   "source": [
    "display_token_heatmap(tokenizer.tokenize(text), losses_unlearned_random, cmap=\"OrRd\", title=\"After Unlearning (random)\")"
   ]
  }
 ],
 "metadata": {
  "kernelspec": {
   "display_name": "base",
   "language": "python",
   "name": "python3"
  },
  "language_info": {
   "codemirror_mode": {
    "name": "ipython",
    "version": 3
   },
   "file_extension": ".py",
   "mimetype": "text/x-python",
   "name": "python",
   "nbconvert_exporter": "python",
   "pygments_lexer": "ipython3",
   "version": "3.12.2"
  }
 },
 "nbformat": 4,
 "nbformat_minor": 2
}
